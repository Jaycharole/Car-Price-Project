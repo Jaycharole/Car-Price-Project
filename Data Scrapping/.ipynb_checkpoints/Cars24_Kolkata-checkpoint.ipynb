{
 "cells": [
  {
   "cell_type": "markdown",
   "id": "a0647529",
   "metadata": {},
   "source": [
    "<h3>Importing the Libraries Required </h3>"
   ]
  },
  {
   "cell_type": "code",
   "execution_count": 1,
   "id": "0c5c40ca",
   "metadata": {},
   "outputs": [],
   "source": [
    "import urllib\n",
    "import time\n",
    "import json\n",
    "import numpy as np\n",
    "import pandas as pd\n",
    "from tqdm import tqdm\n",
    "from time import sleep\n",
    "from selenium import webdriver\n",
    "from selenium.webdriver.common.by import By\n",
    "from selenium.webdriver.support.ui import WebDriverWait\n",
    "from selenium.webdriver.support import expected_conditions as EC\n",
    "from selenium.common.exceptions import TimeoutException\n",
    "from bs4 import BeautifulSoup\n",
    "from selenium.common.exceptions import ElementClickInterceptedException\n",
    "from selenium.common.exceptions import NoSuchElementException\n"
   ]
  },
  {
   "cell_type": "markdown",
   "id": "e57b890a",
   "metadata": {},
   "source": [
    "<h3>Using Selenium For Auto Scrolling the Web-Page and Extracting the The Page Source</h3>"
   ]
  },
  {
   "cell_type": "code",
   "execution_count": 2,
   "id": "6c96f183",
   "metadata": {
    "scrolled": true
   },
   "outputs": [
    {
     "name": "stderr",
     "output_type": "stream",
     "text": [
      "C:\\Users\\Jay\\AppData\\Local\\Temp/ipykernel_4384/462879326.py:1: DeprecationWarning: executable_path has been deprecated, please pass in a Service object\n",
      "  driver = webdriver.Chrome(executable_path=r'D:\\\\Mission Data Science\\\\Web Driver\\\\chromedriver.exe')\n"
     ]
    }
   ],
   "source": [
    "driver = webdriver.Chrome(executable_path=r'D:\\\\Mission Data Science\\\\Web Driver\\\\chromedriver.exe')\n",
    "driver.wait = WebDriverWait(driver, 5)\n",
    "driver.maximize_window()\n",
    "driver.get(\"https://www.cars24.com/buy-used-car?sort=P&storeCityId=777&pinId=700001\")\n",
    "time.sleep(7)\n",
    "\n",
    "\n",
    "height = driver.execute_script(\"return document.documentElement.scrollHeight\")\n",
    "lastheight = 0\n",
    "while True:\n",
    "    if lastheight == height:\n",
    "        break\n",
    "    lastheight = height\n",
    "    driver.execute_script(\"window.scrollTo(0, \" + str(height) + \");\")\n",
    "    time.sleep(10)\n",
    "    height = driver.execute_script(\"return document.documentElement.scrollHeight\")\n",
    "    \n",
    "    \n",
    "# Using BeautifulSoup To Store the Page Source in Object Called Soup\n",
    "\n",
    "soup = BeautifulSoup(driver.page_source)\n",
    "driver.quit()"
   ]
  },
  {
   "cell_type": "markdown",
   "id": "9dbcafd3",
   "metadata": {},
   "source": [
    "<h3>Storing the page source in object called Soup and viewing the text</h3>"
   ]
  },
  {
   "cell_type": "code",
   "execution_count": 3,
   "id": "fe63b43f",
   "metadata": {},
   "outputs": [
    {
     "data": {
      "text/plain": [
       "\"\\n\\n\\n\\n\\n\\n\\n\\n\\n\\n\\nUsed Cars in Kolkata - Second Hand Cars in Kolkata for Sale\\nKolkata  Popular CitiesUsed cars in BengaluruPopular CarsUsed Hyundai carsUsed Renault carsUsed Mahindra carsUsed Toyota carsUsed Audi carsUsed Honda carsUsed Maruti carsUsed Tata carsUsed Ford carsUsed Skoda carsAll used cars in BengaluruUsed cars in ChennaiPopular CarsUsed Hyundai carsUsed Renault carsUsed Mahindra carsUsed Toyota carsUsed Audi carsUsed Honda carsUsed Maruti carsUsed Tata carsUsed Ford carsUsed Skoda carsAll used cars in ChennaiUsed cars in New DelhiPopular CarsUsed Hyundai carsUsed Renault carsUsed Mahindra carsUsed Toyota carsUsed Audi carsUsed Honda carsUsed Maruti carsUsed Tata carsUsed Ford carsUsed Skoda carsAll used cars in New DelhiUsed cars in MumbaiPopular CarsUsed Hyundai carsUsed Renault carsUsed Mahindra carsUsed Toyota carsUsed Audi carsUsed Honda carsUsed Maruti carsUsed Tata carsUsed Ford carsUsed Skoda carsAll used cars in MumbaiUsed cars in PunePopular CarsUsed Hyundai carsUsed Renault carsUsed Mahindra carsUsed Toyota carsUsed Audi carsUsed Honda carsUsed Maruti carsUsed Tata carsUsed Ford carsUsed Skoda carsAll used cars in PuneUsed cars in HyderabadPopular CarsUsed Hyundai carsUsed Renault carsUsed Mahindra carsUsed Toyota carsUsed Audi carsUsed Honda carsUsed Maruti carsUsed Tata carsUsed Ford carsUsed Skoda carsAll used cars in HyderabadUsed cars in KolkataPopular CarsUsed Hyundai carsUsed Renault carsUsed Mahindra carsUsed Toyota carsUsed Audi carsUsed Honda carsUsed Maruti carsUsed Tata carsUsed Ford carsUsed Skoda carsAll used cars in KolkataUsed cars in AhmedabadPopular CarsUsed Hyundai carsUsed Renault carsUsed Mahindra carsUsed Toyota carsUsed Audi carsUsed Honda carsUsed Maruti carsUsed Tata carsUsed Ford carsUsed Skoda carsAll used cars in AhmedabadUsed cars in JaipurPopular CarsUsed Hyundai carsUsed Renault carsUsed Mahindra carsUsed Toyota carsUsed Audi carsUsed Honda carsUsed Maruti carsUsed Tata carsUsed Ford carsUsed Skoda carsAll used cars in JaipurUsed cars in ChandigarhPopular CarsUsed Hyundai carsUsed Renault carsUsed Mahindra carsUsed Toyota carsUsed Audi carsUsed Honda carsUsed Maruti carsUsed Tata carsUsed Ford carsUsed Skoda carsAll used cars in ChandigarhBuy used carSell used carLoginRC Transfers StatusFAQBecome a partnerBuy Car: 9 AM - 9 PM1800 258 5656HomeUsed CarsKolkataFind your dream car with usSort By:Best Match  PriceModel YearKMs DrivenMake & ModelRTOMore FiltersUsed Cars in Kolkata2015 Hyundai Elite i20ASTA 1.2 Manual1,06,265 km1st OwnerPetrol₹9,928/month₹4,46,299Zero downpayment2013 Maruti Alto 800LXI Manual4,525 km1st OwnerPetrol₹5,612/month₹2,52,299Zero downpayment2020 Maruti New  Wagon-RVXI 1.0 Manual6,845 km1st OwnerPetrol₹12,668/month₹5,69,499Zero downpayment2016 Maruti Alto 800VXI Manual2,152 km1st OwnerPetrol₹6,237/month₹2,80,399Zero downpayment2019 Honda CityVX MT PETROL Manual5,413 km1st OwnerPetrol₹23,764/month₹10,68,299Zero downpaymentFilter By Popular BrandMarutiHyundaiHondaTataToyota2020 Maruti New  Wagon-RVXI 1.0 Manual819 km1st OwnerPetrol₹12,668/month₹5,69,499Zero downpayment2014 Hyundai i10SPORTZ 1.1 IRDE2 Manual15,744 km1st OwnerPetrol₹7,623/month₹3,42,699Zero downpayment2019 Ford Figo Aspire1.2 Trend+ Petrol Manual8,807 km1st OwnerPetrol₹12,866/month₹5,78,399Zero downpayment2020 Volkswagen PoloTrendline 1.0 L Petrol Manual24,157 km1st OwnerPetrol₹12,985/month₹5,83,739Zero downpayment2018 Volkswagen PoloCOMFORTLINE 1.0 PETROL Manual13,682 km1st OwnerPetrol₹11,772/month₹5,29,199Zero downpayment2015 Maruti Alto K10VXI Manual14,421 km1st OwnerPetrol₹6,782/month₹3,04,899Zero downpaymentFilter By BudgetCars under 2 lakhCars between 2 lakh - 5 lakhCars between 5 lakh - 10 lakhCars above 10 lakh2019 Maruti Alto 800VXI Manual53,341 km1st OwnerPetrol₹6,493/month₹2,91,899Zero downpayment2019 Hyundai NEW SANTROSPORTZ 1.1 Manual10,872 km1st OwnerPetrol₹10,493/month₹4,71,699Zero downpayment2014 Maruti SwiftVXI Manual37,285 km1st OwnerPetrol₹8,653/month₹3,88,999Zero downpayment2018 Hyundai Grand i10ASTA 1.2 KAPPA VTVT Manual17,529 km2nd OwnerPetrol₹10,804/month₹4,85,699Zero downpayment2018 Hyundai Elite i20Magna Executive 1.2 Manual37,685 km1st OwnerPetrol₹11,329/month₹5,09,299Zero downpayment2018 Maruti Alto K10VXI Manual43,769 km1st OwnerPetrol₹6,831/month₹3,07,099Zero downpaymentFilter By Fuel TypePetrolDieselCNGLPGElectricHybrid2014 Maruti Wagon R StingrayVXI Manual36,923 km2nd OwnerPetrol₹7,129/month₹3,20,499Zero downpayment2018 Maruti SwiftVXI Manual21,668 km1st OwnerPetrol₹11,965/month₹5,37,899Zero downpayment2014 Honda CityVX CVT PETROL Automatic34,687 km1st OwnerPetrol₹13,425/month₹6,03,499Zero downpayment2016 Volkswagen VentoHIGHLINE PETROL Manual24,788 km1st OwnerPetrol₹11,827/month₹5,31,699Zero downpayment2019 Maruti DzireVXI Manual16,653 km1st OwnerPetrol₹15,470/month₹6,95,465Zero downpayment2018 Ford Ecosport1.5 TITANIUM TI VCT Manual17,127 km1st OwnerPetrol₹16,608/month₹7,46,599Zero downpaymentFilter By Body TypeHatchbackSedanSUVLuxury SedanLuxury SUV2014 Maruti Swift DzireVXI 1.2 BS IV Manual75,282 km2nd OwnerPetrol₹8,764/month₹3,93,999Zero downpayment2018 Hyundai Creta1.6 SX AT CRDI Automatic37,362 km1st OwnerDiesel₹27,523/month₹12,37,299Zero downpayment2017 Hyundai Grand i10MAGNA 1.2 VTVT Manual25,032 km1st OwnerPetrol₹9,300/month₹4,18,099Zero downpayment2018 Maruti BalenoDELTA 1.2 K12 Manual43,927 km1st OwnerPetrol₹11,465/month₹5,15,399Zero downpayment12-Months Free Warranty!Free 12 months warranty on all cars to safeguard you from unforeseen repair and maintenance costsKNOW MORE2013 Maruti Swift DzireVXI 1.2 BS IV Manual64,056 km1st OwnerPetrol₹7,828/month₹3,51,899Zero downpayment2015 Maruti Alto 800LXI Manual50,939 km1st OwnerPetrol₹5,626/month₹2,52,899Zero downpayment2018 Hyundai XcentE PLUS Manual14,107 km1st OwnerPetrol₹10,622/month₹4,77,504Zero downpayment2019 Maruti BalenoDELTA 1.2 K12 Manual3,057 km1st OwnerPetrol₹13,901/month₹6,24,899Zero downpayment2018 Maruti BalenoDELTA 1.2 K12 Manual27,019 km1st OwnerPetrol₹11,885/month₹5,34,299Zero downpayment2014 Maruti Alto 800LXI Manual50,468 km1st OwnerPetrol₹5,461/month₹2,45,499Zero downpayment2016 Maruti Vitara BrezzaZDI PLUS DUAL TONE Manual95,285 km1st OwnerDiesel₹14,443/month₹6,49,299Zero downpayment2014 Hyundai Grand i10SPORTZ 1.2 KAPPA VTVT Manual66,617 km1st OwnerPetrol₹7,966/month₹3,58,099Zero downpayment2018 Hyundai NEW SANTROSPORTZ 1.1 Manual12,893 km1st OwnerPetrol₹10,381/month₹4,66,699Zero downpayment2019 Hyundai VENUEE MT 1.2  KAPPA Manual14,736 km1st OwnerPetrol₹16,145/month₹7,25,799Zero downpayment2018 Maruti BalenoDELTA DDIS 190 Manual17,649 km2nd OwnerDiesel₹13,560/month₹6,09,599Zero downpayment2019 Mahindra XUV 3OOW8 (O) Dual tone Diesel Manual30,661 km1st OwnerDiesel₹20,972/month₹9,42,799Zero downpayment2018 Renault CapturRXE PETROL MT Manual6,594 km1st OwnerPetrol₹14,628/month₹6,57,599Zero downpayment2018 Hyundai XcentSX 1.2 Manual10,930 km2nd OwnerPetrol₹12,292/month₹5,52,599Zero downpayment2014 Maruti Wagon R 1.0VXI Manual32,419 km1st OwnerPetrol₹7,205/month₹3,23,899Zero downpayment2014 Maruti Wagon R 1.0VXI Manual52,776 km1st OwnerPetrol₹6,635/month₹2,98,299Zero downpayment2014 Ford Ecosport1.5TITANIUM TDCI Manual1,38,721 km1st OwnerDiesel₹9,663/month₹4,34,399Zero downpayment2015 Ford Ecosport1.5 TITANIUM TI VCT Manual34,276 km1st OwnerPetrol₹11,801/month₹5,30,499Zero downpayment2018 Maruti Alto 800VXI Manual10,855 km1st OwnerPetrol₹6,902/month₹3,10,299Zero downpayment2017 Maruti Wagon R 1.0VXI Manual35,771 km1st OwnerPetrol₹8,685/month₹3,90,421Zero downpayment2019 Honda WR-V1.2 i-VTEC S MT Manual19,649 km1st OwnerPetrol₹15,315/month₹6,88,499Zero downpayment2019 Maruti SwiftVXI Manual61,045 km1st OwnerPetrol₹12,150/month₹5,46,199Zero downpayment2018 Maruti SwiftVXI Manual79,338 km1st OwnerPetrol₹11,965/month₹5,37,899Zero downpayment2018 Maruti SwiftVXI Manual74,531 km1st OwnerPetrol₹11,774/month₹5,29,299Zero downpayment2018 Maruti DzireVXI AMT Automatic17,648 km1st OwnerPetrol₹13,164/month₹5,91,799Zero downpayment2018 Maruti SwiftVXI Manual49,855 km1st OwnerPetrol₹11,965/month₹5,37,899Zero downpayment2018 Datsun Go PlusT Manual26,354 km1st OwnerPetrol₹8,626/month₹3,87,799Zero downpayment2018 Maruti Wagon R 1.0VXI AMT Automatic16,043 km3rd OwnerPetrol₹9,965/month₹4,47,999Zero downpayment2015 Maruti Wagon R 1.0VXI Manual28,908 km1st OwnerPetrol₹7,843/month₹3,52,581Zero downpayment2018 Maruti DzireVXI Manual28,936 km1st OwnerPetrol₹12,368/month₹5,55,999Zero downpayment2018 Maruti DzireVXI Manual50,323 km1st OwnerPetrol₹12,855/month₹5,77,899Zero downpayment2019 Maruti DzireVXI AMT Automatic11,526 km1st OwnerPetrol₹13,711/month₹6,16,399Zero downpayment2015 Maruti Wagon R 1.0VXI Manual24,648 km2nd OwnerPetrol₹7,812/month₹3,51,199Zero downpayment2016 Maruti Wagon R 1.0VXI Manual18,638 km1st OwnerPetrol₹8,742/month₹3,92,999Zero downpayment2018 Maruti CiazZETA 1.4 VVT Manual37,942 km1st OwnerPetrol₹14,410/month₹6,47,799Zero downpayment2020 Ford FREESTYLETITANIUM + 1.2 TI-VCT Manual6,671 km1st OwnerPetrol₹14,067/month₹6,32,399Zero downpayment2019 Maruti New  Wagon-RZXI 1.2 Manual24,019 km1st OwnerPetrol₹11,903/month₹5,35,099Zero downpayment2019 Nissan KicksXV PETROL 39,473 km1st OwnerPetrol₹17,093/month₹7,68,399Zero downpayment2018 Ford Figo Aspire1.2 TITANIUM PETROL Manual21,240 km1st OwnerPetrol₹10,724/month₹4,82,099Zero downpayment2019 Maruti New  Wagon-RVXI 1.0 Manual66,193 km1st OwnerPetrol₹11,965/month₹5,37,899Zero downpayment2016 Maruti Wagon R 1.0LXI Manual33,123 km1st OwnerPetrol₹8,593/month₹3,86,299Zero downpayment2018 Honda WR-V1.2 i-VTEC VX MT Manual43,586 km1st OwnerPetrol₹15,478/month₹6,95,799Zero downpayment2018 Maruti Wagon R 1.0VXI AMT Automatic20,545 km1st OwnerPetrol₹10,039/month₹4,51,299Zero downpayment2014 Hyundai Grand i10ASTA 1.2 (O) VTVT Manual68,126 km1st OwnerPetrol₹8,882/month₹3,99,299Zero downpayment2021 Maruti AltoLXI Manual6,579 km1st OwnerPetrol₹8,217/month₹3,69,399Zero downpayment2018 Hyundai NEW SANTROSPORTZ 1.1 Manual14,101 km2nd OwnerPetrol₹9,828/month₹4,41,799Zero downpayment2019 Maruti Alto 800VXI Manual7,142 km1st OwnerPetrol₹7,236/month₹3,25,299Zero downpayment2019 Maruti Alto 800LXI Manual7,834 km1st OwnerPetrol₹6,798/month₹3,05,599Zero downpayment2018 Hyundai Elite i20ASTA 1.2 (O) Manual9,669 km1st OwnerPetrol₹16,085/month₹7,23,099Zero downpayment2020 Tata ALTROZXZ 1.2 Manual7,221 km1st OwnerPetrol₹16,959/month₹7,62,399Zero downpayment2019 Maruti DzireVXI Manual23,016 km1st OwnerPetrol₹15,827/month₹7,11,499Zero downpayment2018 Maruti DzireZXI Plus Manual55,766 km1st OwnerPetrol₹14,757/month₹6,63,399Zero downpayment2018 Volkswagen AmeoHIGHLINE PLUS 1.0 Manual8,945 km1st OwnerPetrol₹13,376/month₹6,01,299Zero downpayment2015 Hyundai i20 Active1.2 S Manual41,589 km1st OwnerPetrol₹11,774/month₹5,29,299Zero downpayment2014 Hyundai Elite i20SPORTZ 1.2 Manual45,941 km1st OwnerPetrol₹10,840/month₹4,87,299Zero downpayment2017 Maruti DzireVXI Manual50,989 km1st OwnerPetrol₹11,972/month₹5,38,199Zero downpayment2016 Hyundai i20 Active1.2 S Manual59,197 km2nd OwnerPetrol₹12,177/month₹5,47,399Zero downpayment2015 Maruti BalenoDELTA 1.2 K12 Manual62,791 km1st OwnerPetrol₹10,112/month₹4,54,599Zero downpayment2019 Maruti S PRESSOVXI PLUS Manual20,948 km2nd OwnerPetrol₹10,328/month₹4,64,299Zero downpayment2018 Maruti Alto K10VXI Manual30,033 km1st OwnerPetrol₹8,357/month₹3,75,673Zero downpayment2019 Maruti AltoLXI Manual10,474 km1st OwnerPetrol₹7,674/month₹3,44,999Zero downpayment2018 Maruti SwiftVXI Manual7,280 km1st OwnerPetrol₹11,965/month₹5,37,899Zero downpayment2014 Maruti SwiftVXI Manual55,233 km2nd OwnerPetrol₹7,774/month₹3,49,499Zero downpayment2020 Ford Ecosport1.5 TREND TI VCT Manual6,831 km1st OwnerPetrol₹17,673/month₹7,94,499Zero downpayment2015 Maruti Wagon R 1.0VXI Manual26,729 km1st OwnerPetrol₹6,991/month₹3,14,299Zero downpayment2014 Honda CityS MT PETROL Manual60,905 km1st OwnerPetrol₹9,799/month₹4,40,499Zero downpayment2018 Hyundai Elite i20SPORTZ 1.2 Manual8,880 km1st OwnerPetrol₹12,868/month₹5,78,499Zero downpayment2018 Maruti Vitara BrezzaVDI OPT Manual71,369 km1st OwnerDiesel₹16,543/month₹7,43,699Zero downpayment2018 Maruti SwiftVXI Manual3,859 km1st OwnerPetrol₹11,965/month₹5,37,899Zero downpayment2012 Maruti Alto K10VXI Manual27,730 km2nd OwnerPetrol₹4,264/month₹1,91,699Zero downpayment2015 Maruti Alto 800LXI Manual5,210 km1st OwnerPetrol₹6,406/month₹2,87,999Zero downpayment2013 Maruti Alto 800LXI Manual30,573 km2nd OwnerPetrol₹4,576/month₹2,05,699Zero downpayment2014 Maruti Alto 800LXI Manual5,498 km1st OwnerPetrol₹4,981/month₹2,23,899Zero downpayment2013 Maruti Alto 800LXI Manual40,904 km2nd OwnerPetrol₹4,391/month₹1,97,399Zero downpayment2018 Maruti Alto 800LXI Manual34,951 km1st OwnerPetrol₹5,866/month₹2,63,699Zero downpayment2018 Maruti SwiftVXI Manual36,988 km1st OwnerPetrol₹11,885/month₹5,34,299Zero downpayment2017 Maruti Alto 800VXI Manual17,152 km1st OwnerPetrol₹5,828/month₹2,61,999Zero downpayment2014 Maruti SwiftVXI Manual31,715 km1st OwnerPetrol₹8,126/month₹3,65,299Zero downpayment2014 Maruti Alto 800LXI Manual27,063 km2nd OwnerPetrol₹4,658/month₹2,09,399Zero downpayment2018 Maruti SwiftVXI Manual30,291 km1st OwnerPetrol₹11,965/month₹5,37,899Zero downpayment2015 Maruti Alto 800LXI Manual42,499 km1st OwnerPetrol₹4,943/month₹2,22,199Zero downpayment2012 Maruti Wagon R 1.0VXI Manual27,560 km1st OwnerPetrol₹5,904/month₹2,65,399Zero downpayment2018 Hyundai Grand i10SPORTZ O 1.2 Manual10,035 km2nd OwnerPetrol₹10,395/month₹4,67,299Zero downpayment2014 Maruti Alto 800LXI Manual1,37,235 km1st OwnerPetrol₹4,585/month₹2,06,099Zero downpayment2017 Hyundai Grand i10SPORTS 1.2 VTVT Manual26,690 km2nd OwnerPetrol₹9,445/month₹4,24,599Zero downpayment2017 Maruti Alto 800VXI Manual55,333 km1st OwnerPetrol₹5,626/month₹2,52,899Zero downpayment2018 Maruti Wagon R 1.0VXI Manual26,466 km1st OwnerPetrol₹8,433/month₹3,79,099Zero downpayment2012 Maruti Swift DzireVXI 1.2 BS IV Manual78,780 km1st OwnerPetrol₹7,292/month₹3,27,799Zero downpayment2013 Maruti Swift DzireVXI 1.2 BS IV Manual34,856 km2nd OwnerPetrol₹8,513/month₹3,82,699Zero downpayment2016 Maruti Alto 800LXI Manual29,821 km1st OwnerPetrol₹5,167/month₹2,32,299Zero downpayment2018 Maruti SwiftVXI Manual16,179 km1st OwnerPetrol₹11,965/month₹5,37,899Zero downpayment2014 Hyundai Grand i10SPORTS 1.2 VTVT Manual42,189 km1st OwnerPetrol₹7,674/month₹3,44,999Zero downpayment2018 Maruti Alto 800LXI Manual30,041 km1st OwnerPetrol₹5,995/month₹2,69,499Zero downpayment2014 Maruti Swift DzireVXI 1.2 BS IV Manual25,910 km2nd OwnerPetrol₹9,594/month₹4,31,299Zero downpayment2019 Hyundai NEW SANTROSPORTZ 1.1 Manual20,366 km2nd OwnerPetrol₹11,534/month₹5,18,499Zero downpayment2019 Tata TiagoXZ+ 1.2 Revotron Manual15,760 km1st OwnerPetrol₹10,795/month₹4,85,299Zero downpayment2014 Maruti Alto 800LXI Manual27,166 km1st OwnerPetrol₹4,880/month₹2,19,399Zero downpayment2013 Honda CityV MT PETROL Manual65,687 km1st OwnerPetrol₹8,135/month₹3,65,699Zero downpayment2019 Hyundai Grand i10SPORTZ 1.2 KAPPA VTVT Manual2,716 km1st OwnerPetrol₹13,618/month₹6,12,199Zero downpayment2018 Hyundai Elite i20SPORTZ 1.2 Manual16,520 km1st OwnerPetrol₹14,112/month₹6,34,399Zero downpayment2014 Maruti SwiftZXI Manual46,442 km2nd OwnerPetrol₹8,718/month₹3,91,899Zero downpayment2016 Hyundai Elite i20SPORTZ 1.2 Manual32,958 km3rd OwnerPetrol₹11,672/month₹5,24,699Zero downpayment2019 Maruti Alto 800LXI Manual12,154 km1st OwnerPetrol₹6,615/month₹2,97,399Zero downpayment2018 Maruti DzireVXI Manual25,341 km1st OwnerPetrol₹14,234/month₹6,39,899Zero downpayment2019 Hyundai NEW SANTROSPORTZ 1.1 Manual2,186 km1st OwnerPetrol₹10,893/month₹4,89,699Zero downpayment2016 Hyundai i20 Active1.2 S Manual1,00,898 km1st OwnerPetrol₹10,439/month₹4,69,306Zero downpayment2017 Maruti Alto 800LXI Manual24,009 km1st OwnerPetrol₹6,133/month₹2,75,699Zero downpayment2013 Maruti Swift DzireVXI 1.2 BS IV Manual1,05,553 km1st OwnerPetrol₹7,645/month₹3,43,699Zero downpayment2015 Maruti Swift DzireVXI 1.2 BS IV Manual56,398 km1st OwnerPetrol₹9,214/month₹4,14,199Zero downpayment2013 Hyundai Grand i10SPORTS 1.2 VTVT Manual31,288 km1st OwnerPetrol₹7,258/month₹3,26,299Zero downpayment2012 Maruti SwiftVXI Manual27,326 km1st OwnerPetrol₹7,381/month₹3,31,799Zero downpayment2015 Maruti Alto 800LXI Manual22,271 km1st OwnerPetrol₹5,619/month₹2,52,599Zero downpayment2014 Maruti SwiftVXI Manual45,998 km1st OwnerPetrol₹8,435/month₹3,79,214Zero downpayment2018 Maruti DzireVXI Manual27,656 km1st OwnerPetrol₹13,807/month₹6,20,673Zero downpayment2014 Maruti Wagon R StingrayVXI Manual53,466 km1st OwnerPetrol₹6,909/month₹3,10,599Zero downpayment2016 Maruti Wagon R 1.0VXI Manual82,065 km1st OwnerPetrol₹7,456/month₹3,35,199Zero downpayment2018 Maruti Wagon R 1.0VXI Manual32,523 km1st OwnerPetrol₹8,855/month₹3,98,099Zero downpayment2017 Maruti Wagon R 1.0VXI PLUS Manual81,678 km1st OwnerPetrol₹8,137/month₹3,65,799Zero downpayment2018 Maruti Wagon R 1.0VXI Manual23,927 km1st OwnerPetrol₹9,047/month₹4,06,699Zero downpayment2019 Maruti New  Wagon-RVXI 1.0 Manual13,130 km1st OwnerPetrol₹12,112/month₹5,44,499Zero downpayment2019 Maruti Alto 800VXI Manual5,054 km1st OwnerPetrol₹7,244/month₹3,25,668Zero downpayment2019 Maruti BalenoDELTA 1.2 K12 Manual14,865 km1st OwnerPetrol₹15,200/month₹6,83,299Zero downpayment2015 Hyundai Grand i10MAGNA 1.2 VTVT Manual21,864 km1st OwnerPetrol₹9,254/month₹4,15,999Zero downpayment2018 Maruti DzireZXI Manual34,809 km1st OwnerPetrol₹13,909/month₹6,25,299Zero downpayment2018 Maruti SwiftVXI Manual44,754 km1st OwnerPetrol₹11,965/month₹5,37,899Zero downpayment2018 Maruti SwiftVXI Manual58,032 km1st OwnerPetrol₹11,965/month₹5,37,899Zero downpayment2014 Hyundai Grand i10ASTA 1.2 (O) VTVT Manual34,691 km1st OwnerPetrol₹9,463/month₹4,25,399Zero downpayment2019 Hyundai NEW SANTROASTA 1.1 MT Manual42,117 km1st OwnerPetrol₹11,409/month₹5,12,899Zero downpayment2015 Maruti Wagon R 1.0VXI Manual18,205 km1st OwnerPetrol₹7,846/month₹3,52,719Zero downpayment2015 Maruti Swift DzireVXI 1.2 BS IV Manual1,26,215 km1st OwnerPetrol₹9,151/month₹4,11,399Zero downpayment2016 Maruti Wagon R 1.0VXI Manual50,298 km1st OwnerPetrol₹7,254/month₹3,26,099Zero downpayment2016 Honda CitySV CVT PETROL Automatic21,061 km1st OwnerPetrol₹15,631/month₹7,02,699Zero downpayment2019 Maruti AltoVXI Manual5,481 km1st OwnerPetrol₹7,601/month₹3,41,699Zero downpayment2018 Maruti Wagon R 1.0VXI Manual13,742 km1st OwnerPetrol₹9,525/month₹4,28,199Zero downpayment2018 Hyundai Elite i20Magna Executive 1.2 Manual51,677 km1st OwnerPetrol₹12,355/month₹5,55,399Zero downpayment2018 Maruti BalenoDELTA 1.2 K12 Manual28,366 km1st OwnerPetrol₹12,706/month₹5,71,199Zero downpayment2018 Maruti Alto 800LXI Manual30,451 km1st OwnerPetrol₹6,664/month₹2,99,599Zero downpayment2016 Maruti BalenoZETA 1.2 K12 Manual81,591 km1st OwnerPetrol₹12,368/month₹5,55,999Zero downpayment2018 Ford Ecosport1.5 TITANIUM TI VCT Manual54,158 km1st OwnerPetrol₹17,204/month₹7,73,399Zero downpayment2018 Ford Ecosport1.5 TITANIUM TI VCT Manual31,557 km1st OwnerPetrol₹16,012/month₹7,19,799Zero downpayment2014 Hyundai Grand i10SPORTZ 1.2 KAPPA VTVT Manual88,902 km2nd OwnerPetrol₹8,577/month₹3,85,599Zero downpayment2015 Hyundai Elite i20ASTA 1.2 Manual58,075 km2nd OwnerPetrol₹11,516/month₹5,17,699Zero downpayment2018 Maruti Alto 800LXI Manual11,543 km1st OwnerPetrol₹6,747/month₹3,03,299Zero downpayment2014 Maruti Wagon R 1.0VXI Manual64,151 km1st OwnerPetrol₹7,078/month₹3,18,199Zero downpayment2014 Hyundai Elite i20SPORTZ 1.2 Manual62,225 km1st OwnerPetrol₹10,192/month₹4,58,199Zero downpayment2018 Maruti IGNISALPHA 1.2 K12 Manual38,370 km1st OwnerPetrol₹11,362/month₹5,10,799Zero downpayment2018 Maruti Wagon R 1.0VXI Manual22,923 km1st OwnerPetrol₹9,979/month₹4,48,599Zero downpayment2015 Maruti BalenoALPHA 1.2 K12 Manual65,896 km1st OwnerPetrol₹11,491/month₹5,16,599Zero downpayment2020 Maruti AltoVXI Manual6,257 km1st OwnerPetrol₹7,987/month₹3,59,059Zero downpayment2014 Hyundai XcentS 1.2 Manual71,674 km1st OwnerPetrol₹7,401/month₹3,32,699Zero downpayment2018 Maruti Alto 800LXI Manual23,787 km2nd OwnerPetrol₹7,321/month₹3,29,099Zero downpayment2019 Maruti S PRESSOVXI PLUS Manual21,973 km1st OwnerPetrol₹9,127/month₹4,10,299Zero downpayment2019 Maruti AltoLXI Manual11,575 km1st OwnerPetrol₹7,501/month₹3,37,199Zero downpayment2015 Mahindra ScorpioS10 Manual53,877 km2nd OwnerDiesel₹20,138/month₹9,05,299Zero downpayment2019 Maruti Eeco5 STR WITH AC PLUSHTR Manual23,648 km1st OwnerPetrol₹8,357/month₹3,75,699Zero downpaymentOther CitiesKolkataJamshedpurDhanbadRanchiBhubaneswarSiliguriPatnaGuwahatiVaranasiGorakhpurWhat our Users have to say! PreviousRahul SatavelekarKolkataMay 2022BMW X1  4.5User rating“CARS24 has the best quality vehicles,and its customer service is excellent. Ibought a BMW X1, and the w... read more... read moreValue for money : Experience :Ease of process :Jayanti KayaKolkataMay 2022TOYOTA INNOVA  5User rating“The Toyota Innova I bought was inexcellent condition, and the price wasright. I would recommend C... read more... read moreValue for money : Experience :Ease of process :Akshay HeravdakarKolkataMay 2022MAHINDRA BOLERO  4.5User rating“I looked at the reviews on CARS24'swebsite and decided to buy aMAHINDRA BOLERO from this... read more... read moreValue for money : Experience :Ease of process :Prakash BhattaKolkataMay 2022MAHINDRA Genio  4.5User rating“I visited CARS24 to upgrade from myold Mahindra. I must say, their list ofsecond-hand cars is excell... read more... read moreValue for money : Experience :Ease of process :Daksh ParachureKolkataMay 2022MARUTI ERTIGA  5User rating“I had a pleasant experience buying mynew Maruti Ertiga from CARS24. The staffwas friendly and helpful, an... read more... read moreValue for money : Experience :Ease of process :Kalyani DeshmukhKolkataMay 2022TOYOTA LAND CRUISER  5User rating“Thank you for the experience of buyingmy second-hand car. Excellent service,a great deal. I got a Toyota ... read more... read moreValue for money : Experience :Ease of process :Dhule PrabhuKolkataMay 2022TOYOTA CAMRY  4User rating“The customer service at CARS24 isbeyond awesome! The staff really makethe whole buying process e... read more... read moreValue for money : Experience :Ease of process :Ananya LataKolkataMay 2022TOYOTA INNOVA  5User rating“I bought my Toyota Innova fromCARS24. They had a huge selection ofvehicles, and their custome... read more... read moreValue for money : Experience :Ease of process :Jayanti SatavelekarKolkataMay 2022CHEVROLET SPARK  5User rating“I am very pleased with the service andquality of my used CHEVROLET SPARK.The car buying experience ... read more... read moreValue for money : Experience :Ease of process :Jindan GanapuliKolkataMay 2022MARUTI SUZUKI IGNIS  5User rating“The customer service at CARS24 wasexemplary. The staff tried toaccommodate all my requi... read more... read moreValue for money : Experience :Ease of process :Shudraka PhadatareKolkataMay 2022MAHINDRA THAR  5User rating“I used CARS24 because I wanted aMahindra Thar, but I didn't want to paynew car prices. I got a great... read more... read moreValue for money : Experience :Ease of process :Jindan BharadKolkataMay 2022SKODA RAPID  4.5User rating“I had a great experience dealing withCARS24. I purchased a Skoda Rapidfrom them, and I am very pl... read more... read moreValue for money : Experience :Ease of process :Prashant MarwahKolkataMay 2022FIAT GRAND PUNTO  5User rating“The customer service at CARS24 wasthe best part of the experience. The staffwas helpful and profession... read more... read moreValue for money : Experience :Ease of process :Sarama ViswanKolkataMay 2022MAHINDRA TUV300  5User rating“A friend recommended CARS24 when Iwas looking to buy a new car. Ipurchased a Mahindra TUV... read more... read moreValue for money : Experience :Ease of process :Anam BhargavaKolkataMay 2022HYUNDAI ELITE I20  4.5User rating“A great place to buy a second-handcar. I found the staff to be great, andthey gave me a good deal. ... read more... read moreValue for money : Experience :Ease of process :Katyayana ParekhKolkataMay 2022FORD FUSION  4.5User rating“I was looking to buy a FORD FUSION, andI found one at CARS24. The team there isgood at communication, an... read more... read moreValue for money : Experience :Ease of process :Prashant GanapuliKolkataMay 2022CHEVROLET CAPTIVA  4.5User rating“It was the best experience I could havehoped for when buying my car fromCARS24. I am over the moo... read more... read moreValue for money : Experience :Ease of process :Bhima AshtikarKolkataMay 2022TATA SAFARI STORME  5User rating“I was shopping online for a new vehicleand came across CARS24. They had afantastic range, and the pri... read more... read moreValue for money : Experience :Ease of process :Rahul LataKolkataMay 2022HYUNDAI VERNA  4User rating“This is the second time I'm buying aused car online from CARS24. I boughtmy first car from them abo... read more... read moreValue for money : Experience :Ease of process :Kumari DevadhikaKolkataMay 2022RENAULT FLUENCE  4.5User rating“I recently bought a used RenaultFluence from CARS24 and I was verypleased with the service. Th... read more... read moreValue for money : Experience :Ease of process :Shristi SatavelekarKolkataMay 2022CHEVROLET SAIL  5User rating“I knew I wanted a Chevrolet Sail, so Isearched online for dealerships thatsold them. I was impressed ... read more... read moreValue for money : Experience :Ease of process :Sarama SatavelekarKolkataMay 2022FORD CLASSIC  4.5User rating“I would highly recommend buying fromCARS24. I bought my Ford Classic fromthem, and I've been very ha... read more... read moreValue for money : Experience :Ease of process :Rehan RiazKolkataApr 2021TATA INDICA V2  5User rating“I would definitely recommend CARS24to anyone looking to buy a used car. Theprocess was smooth and I ... read more... read moreValue for money : Experience :Ease of process :Adnan MirzaKolkataApr 2021MAHINDRA Marshal  3.5User rating“I'm very happy with the MahindraMarshal I bought from CARS24. Theprocess was smooth and th... read more... read moreValue for money : Experience :Ease of process :Adnan NoorKolkataApr 2021CHEVROLET ENJOY  4.5User rating“The Chevrolet Enjoy I bought fromCARS24 is great. The team was superhelpful and the process wa... read more... read moreValue for money : Experience :Ease of process :Fahad AhmedKolkataApr 2021MAHINDRA KUV 100 NXT  4User rating“I had a great experience buying myMahindra KUV 100 NXT from CARS24. Theselection was great, and th... read more... read moreValue for money : Experience :Ease of process :Fahad AbdullahKolkataApr 2021FIAT PALIO  5User rating“The CARS24 team was great! They werevery helpful and made the process veryeasy. The Fiat Palio I bought... read more... read moreValue for money : Experience :Ease of process :Fahad AbbasKolkataApr 2021CHEVROLET TAVERA  5User rating“I had a great experience buying myChevrolet Tavera from CARS24. Theprocess was smooth and th... read more... read moreValue for money : Experience :Ease of process :Fahad SayyedKolkataApr 2021SKODA OCTAVIA  5User rating“I'm very happy with my purchase fromCARS24. The SKODA OCTAVIA I bought isin great condition, and the ... read more... read moreValue for money : Experience :Ease of process :Fahad HashmiKolkataApr 2021HINDUSTAN MOTORS AMBASSADOR  4.5User rating“I had a great experience buying my carfrom CARS24. The process was verysmooth, and the team was ... read more... read moreValue for money : Experience :Ease of process :Bhrithi CarriappaKolkataApr 2021BMW 5 SERIES  5User rating“I had a great experience buying myBMW 5 SERIES from CARS24. The processwas very smooth, and I got ... read more... read moreValue for money : Experience :Ease of process :Bhavyesh DevaiahKolkataApr 2021TATA INDICA VISTA  4.5User rating“I'm really happy with my purchase fromCARS24. The process was smooth andthe team was very helpful. T... read more... read moreValue for money : Experience :Ease of process :Akshay CarriappaKolkataApr 2021TATA INDICA V2  5User rating“I was a little hesitant to buy a caronline, but I'm so glad I did. The processwas very easy, and I got a g... read more... read moreValue for money : Experience :Ease of process :Akhil GargKolkataMar 2021MARUTI SUZUKI ALTO  5User rating“I bought a MARUTI SUZUKI ALTO fromCARS24 and I'm very happy with it. Thecar is in great condition an... read more... read moreValue for money : Experience :Ease of process :Paarthiv TalapalaKolkataMar 2021HYUNDAI VERNA  5User rating“I had a great experience buying myHYUNDAI VERNA from CARS24. Theselection was great, and th... read more... read moreValue for money : Experience :Ease of process :Harsh DwivediKolkataMar 2021MAHINDRA RENAULT LOGAN  3.5User rating“I was very happy with my purchasefrom CARS24. The Mahindra RenaultLogan was a great car and ... read more... read moreValue for money : Experience :Ease of process :Harsh ChauhanKolkataMar 2021DATSUN REDI GO  4.5User rating“I was a little hesitant to buy a caronline, but the team at CARS24 made ita breeze. The process was s... read more... read moreValue for money : Experience :Ease of process :Dharam DwivediKolkataMar 2021HYUNDAI ELANTRA  4User rating“I had a great experience at CARS24when I was shopping for a new HyundaiElantra. They were friendly a... read more... read moreValue for money : Experience :Ease of process :Dharam ChauhanKolkataMar 2021TATA XENON XT  5User rating“The experience CARS24 made me havewhen I bought my second-hand TATAXENON XT is something to w... read more... read moreValue for money : Experience :Ease of process :Dharam ChaubeyKolkataMar 2021HYUNDAI I20 ACTIVE  5User rating“I was looking for a Hyundai I20 Active,and I finally managed to find what I wasafter on CARS24. The proce... read more... read moreValue for money : Experience :Ease of process :Dharam ChaturvediKolkataMar 2021MAHINDRA VERITO VIBE CS  5User rating“It's my first time buying a used car fromCARS24. I'm so glad I did! I got a greatdeal on a Mahindra Verito V... read more... read moreValue for money : Experience :Ease of process :Dharam BishtKolkataMar 2021HYUNDAI NEW ELANTRA  4.5User rating“I couldn't be more happier with myHYUNDAI NEW ELANTRA. I've been treatedreally well by CARS24 and I ... read more... read moreValue for money : Experience :Ease of process :Dharam KanwarKolkataMar 2021OPEL ASTRA  5User rating“I was looking for a new car and decidedto give CARS24 a try. I found theirwebsite really easy to use, a... read more... read moreValue for money : Experience :Ease of process :Eklavya KapadiaKolkataMar 2021HYUNDAI SANTRO XING  4.5User rating“I used the easy-to-use website to find asecond-hand car that would suit myneeds. The team at CARS24 ... read more... read moreValue for money : Experience :Ease of process :Dharam KapadiaKolkataMar 2021HONDA CITY  5User rating“CARS24 has a great selection of usedcars. The staff was very helpful, and Iwas able to find a car that ... read more... read moreValue for money : Experience :Ease of process :Paavan KaushikPanchkulaFeb 2021Skoda Karoq  5User rating“If you're looking to buy a used car, go toCARS24! I didn't think I would be able toafford a car this good, but ... read more... read moreValue for money : Experience :Ease of process :Varsha ShankarAhmedabadFeb 2021Volkswagen Passat  4.5User rating“I didn't think I'd be able to afford a newcar after I lost my job, but thanks toCARS24 I have a beautiful V... read more... read moreValue for money : Experience :Ease of process :Sheila AgarwalKolkataFeb 2021Audi A4  4.5User rating“After buying a car, I was impressed withthe high quality of customer service atCARS24. I got a new Audi A4... read more... read moreValue for money : Experience :Ease of process :Shonali TiwariPuneFeb 2021Audi A7  5User rating“As it was my first experience buying aused car online, I was a littleapprehensive at first. I need... read more... read moreValue for money : Experience :Ease of process :Akash KaurKolkataMar 2021Tata Tiago  5User rating“I was traveling between cities, and Ineeded a car to get around. I saw aTata Tiago in the garage of ... read more... read moreValue for money : Experience :Ease of process : NextFREQUENTLY ASKED QUESTIONS FOR USED CARS IN KOLKATAHow many second hand cars are available in Kolkata?182 used cars are available in Kolkata of popular brands like Maruti Suzuki, Hyundai, Honda & moreWhat are the most popular brands available for 2nd hand cars in Kolkata?CARS24 has a wide inventory of all brands including Maruti Suzuki, Hyundai, Honda & more. Find the best second hand car in Kolkata of your choice on CARS24.What will be the starting price of an old car in Kolkata?The starting price of a used car in Kolkata is Rs. ₹1,00,000.What body types are available for 2nd hand cars in Kolkata?Used cars in Kolkata are available from every segment, be it Hatchback, Sedan, SUV.Can I buy used cars online at CARS24 in Kolkata?Of Course yes, you can buy used cars online in Kolkata from CARS24. You can find thousands of quality second hand cars for sale on our website/app that can be bought at the click of a button & delivered to your doorstep anywhere in KolkataWhat to check before buying a second hand car in Kolkata?Important things to check  before buying a second hand car in Kolkata are:Source: Buying a car from a trusted source is important to make sure the car is in the exact condition as stated & also to deal with any post sale related issues.Condition: Ensure the car is non-accidental & does not have any structural damage. We use a 140 point check to make sure every car we sell is in top condition.Age: Buying a used car that is very old can lead to problems like expensive maintenance costs and scarcity of spare parts. A three to five year old car should be an ideal buy,Car Documents: Verification of vehicle documents like Registration Certificate (RC), Insurance & PUC is very important. Also ensure the car is not under loan (hypothecated), there are no traffic challans or any legal issues with it.Certified or Not: Certified used cars come with warranty and are refurbished to as good as new to protect buyers from unforeseen repair & maintenance cost.Where can I buy used cars in Kolkata?You can buy used cars in Kolkata from Cars24. Visit our website, book the car of your choice & get it delivered to your home.How can I check a second hand car in Kolkata?You can check second hand cars in Kolkata using conventional & time consuming buying methods like classified, dealers etc. CARS24 brings you a virtual showroom experience at your fingertips using 360 view. You can check multiple cars for sale in minutes and buy one from the comfort of your couch. We’ll deliver the car anywhere in KolkataKEEP IN TOUCHEXPERIENCE CARS24 APP ON MOBILEPowered by CARS24® 2022 www.cars24.comAll rights reservedUSEFUL LINKSContact UsAbout UsPrivacy PolicyTerms and ConditionsFAQSitemapTestimonialsBlogBranchesWe're Hiring!Become Our PartnerNeed a LoanRC Transfer StatusCARS24 FinanceCARS24 Franchise PartnersInvestorsTop BrandsMaruti SuzukiHyundaiHondaTataToyotaChevroletFordMahindraSkodaVolkswagenNissanRenaultFiatMercedes BenzAudiTOP CITIESNew DelhiNoidaGurgaonMumbaiPuneBengaluruHyderabadChennaiKolkataAhmedabadPOPULAR SEARCHESCARS24 PricingSell Used CarVehicle Ownership TransferUsed Car ValuationNeed Help?\\n\\n\\n\\n\\n\\n\\n\\n\\n\\n\\n\\n\\n\\n\\n\\n\\n\\n\\n\\n\\n\\n\\n\\n\\nHey! How can I help you today? \""
      ]
     },
     "execution_count": 3,
     "metadata": {},
     "output_type": "execute_result"
    }
   ],
   "source": [
    "soup.text"
   ]
  },
  {
   "cell_type": "code",
   "execution_count": 4,
   "id": "1a2db46d",
   "metadata": {},
   "outputs": [],
   "source": [
    "car_name =[]\n",
    "car_model=[]\n",
    "car_price=[]\n",
    "#car_info=[]"
   ]
  },
  {
   "cell_type": "code",
   "execution_count": null,
   "id": "e01a0c62",
   "metadata": {},
   "outputs": [],
   "source": []
  },
  {
   "cell_type": "code",
   "execution_count": 5,
   "id": "3edccb79",
   "metadata": {},
   "outputs": [],
   "source": [
    "for car_tag in soup.find_all('div', class_='col-4'): \n",
    "\n",
    "    \n",
    "    car_name=[score.get_text()for score in soup.find_all(name=\"h2\", class_=\"_3FpCg\")]\n",
    "    \n",
    "    car_model=[score.get_text() for score in soup.find_all(name=\"p\", class_=\"cvakB\")]\n",
    "    \n",
    "    #car_info=[score.get_text() for score in soup.find_all(name=\"ul\", class_=\"bVR0c\") ]\n",
    "    \n",
    "    car_price=[score.get_text() for score in soup.find_all(name=\"div\", class_=\"_7udZZ\")]\n",
    "\n",
    "    "
   ]
  },
  {
   "cell_type": "code",
   "execution_count": 6,
   "id": "6caf9fdf",
   "metadata": {},
   "outputs": [],
   "source": [
    "car_link=[]\n",
    "car_tag=soup.find_all(name=\"a\", class_=\"_9Ue0B\")\n",
    "for i in car_tag:\n",
    "    link=i.get(\"href\")\n",
    "    car_link.append(link)   "
   ]
  },
  {
   "cell_type": "code",
   "execution_count": 7,
   "id": "42f41e33",
   "metadata": {},
   "outputs": [
    {
     "data": {
      "text/plain": [
       "182"
      ]
     },
     "execution_count": 7,
     "metadata": {},
     "output_type": "execute_result"
    }
   ],
   "source": [
    "km=[]\n",
    "for car_tag in soup.find_all('ul', class_='bVR0c'): \n",
    "    for i in car_tag.find_all(name=\"li\")[0]:\n",
    "        km.append(i)\n",
    "        \n",
    "len(km)"
   ]
  },
  {
   "cell_type": "code",
   "execution_count": 8,
   "id": "d94671cf",
   "metadata": {},
   "outputs": [
    {
     "data": {
      "text/plain": [
       "182"
      ]
     },
     "execution_count": 8,
     "metadata": {},
     "output_type": "execute_result"
    }
   ],
   "source": [
    "owner=[]\n",
    "for car_tag in soup.find_all('ul', class_='bVR0c'): \n",
    "    for i in car_tag.find_all(name=\"li\")[1]:\n",
    "        owner.append(i)\n",
    "    \n",
    "len(owner)"
   ]
  },
  {
   "cell_type": "code",
   "execution_count": 9,
   "id": "57581958",
   "metadata": {},
   "outputs": [
    {
     "data": {
      "text/plain": [
       "182"
      ]
     },
     "execution_count": 9,
     "metadata": {},
     "output_type": "execute_result"
    }
   ],
   "source": [
    "ctype=[]\n",
    "for car_tag in soup.find_all('ul', class_='bVR0c'): \n",
    "    for i in car_tag.find_all(name=\"li\")[2]:\n",
    "        ctype.append(i)\n",
    "    \n",
    "len(ctype)"
   ]
  },
  {
   "cell_type": "code",
   "execution_count": 10,
   "id": "6d40fc5d",
   "metadata": {},
   "outputs": [
    {
     "name": "stdout",
     "output_type": "stream",
     "text": [
      "182\n",
      "182\n",
      "182\n",
      "182\n",
      "182\n",
      "182\n",
      "182\n"
     ]
    }
   ],
   "source": [
    "print(len(car_link))\n",
    "print(len(car_name))\n",
    "print(len(car_model))\n",
    "#print(len(car_info))\n",
    "print(len(car_price))\n",
    "print(len(km))\n",
    "print(len(owner))\n",
    "print(len(ctype))"
   ]
  },
  {
   "cell_type": "code",
   "execution_count": 11,
   "id": "f4a9594e",
   "metadata": {},
   "outputs": [],
   "source": [
    "d={'Car Name':car_name,'Car model':car_model,'Car Price':car_price,'KM':km,'Owner':owner,'Car Type':ctype,'Car link':car_link}"
   ]
  },
  {
   "cell_type": "code",
   "execution_count": 12,
   "id": "ba4a6e71",
   "metadata": {},
   "outputs": [
    {
     "data": {
      "text/html": [
       "<div>\n",
       "<style scoped>\n",
       "    .dataframe tbody tr th:only-of-type {\n",
       "        vertical-align: middle;\n",
       "    }\n",
       "\n",
       "    .dataframe tbody tr th {\n",
       "        vertical-align: top;\n",
       "    }\n",
       "\n",
       "    .dataframe thead th {\n",
       "        text-align: right;\n",
       "    }\n",
       "</style>\n",
       "<table border=\"1\" class=\"dataframe\">\n",
       "  <thead>\n",
       "    <tr style=\"text-align: right;\">\n",
       "      <th></th>\n",
       "      <th>Car Name</th>\n",
       "      <th>Car model</th>\n",
       "      <th>Car Price</th>\n",
       "      <th>KM</th>\n",
       "      <th>Owner</th>\n",
       "      <th>Car Type</th>\n",
       "      <th>Car link</th>\n",
       "    </tr>\n",
       "  </thead>\n",
       "  <tbody>\n",
       "    <tr>\n",
       "      <th>0</th>\n",
       "      <td>2015 Hyundai Elite i20</td>\n",
       "      <td>ASTA 1.2 Manual</td>\n",
       "      <td>₹4,46,299</td>\n",
       "      <td>1,06,265 km</td>\n",
       "      <td>1st Owner</td>\n",
       "      <td>Petrol</td>\n",
       "      <td>https://www.cars24.com/buy-used-hyundai-elite-...</td>\n",
       "    </tr>\n",
       "    <tr>\n",
       "      <th>1</th>\n",
       "      <td>2013 Maruti Alto 800</td>\n",
       "      <td>LXI Manual</td>\n",
       "      <td>₹2,52,299</td>\n",
       "      <td>4,525 km</td>\n",
       "      <td>1st Owner</td>\n",
       "      <td>Petrol</td>\n",
       "      <td>https://www.cars24.com/buy-used-maruti-alto-80...</td>\n",
       "    </tr>\n",
       "    <tr>\n",
       "      <th>2</th>\n",
       "      <td>2020 Maruti New  Wagon-R</td>\n",
       "      <td>VXI 1.0 Manual</td>\n",
       "      <td>₹5,69,499</td>\n",
       "      <td>6,845 km</td>\n",
       "      <td>1st Owner</td>\n",
       "      <td>Petrol</td>\n",
       "      <td>https://www.cars24.com/buy-used-maruti-new--wa...</td>\n",
       "    </tr>\n",
       "    <tr>\n",
       "      <th>3</th>\n",
       "      <td>2016 Maruti Alto 800</td>\n",
       "      <td>VXI Manual</td>\n",
       "      <td>₹2,80,399</td>\n",
       "      <td>2,152 km</td>\n",
       "      <td>1st Owner</td>\n",
       "      <td>Petrol</td>\n",
       "      <td>https://www.cars24.com/buy-used-maruti-alto-80...</td>\n",
       "    </tr>\n",
       "    <tr>\n",
       "      <th>4</th>\n",
       "      <td>2019 Honda City</td>\n",
       "      <td>VX MT PETROL Manual</td>\n",
       "      <td>₹10,68,299</td>\n",
       "      <td>5,413 km</td>\n",
       "      <td>1st Owner</td>\n",
       "      <td>Petrol</td>\n",
       "      <td>https://www.cars24.com/buy-used-honda-city-201...</td>\n",
       "    </tr>\n",
       "  </tbody>\n",
       "</table>\n",
       "</div>"
      ],
      "text/plain": [
       "                   Car Name            Car model   Car Price           KM  \\\n",
       "0    2015 Hyundai Elite i20      ASTA 1.2 Manual   ₹4,46,299  1,06,265 km   \n",
       "1      2013 Maruti Alto 800           LXI Manual   ₹2,52,299     4,525 km   \n",
       "2  2020 Maruti New  Wagon-R       VXI 1.0 Manual   ₹5,69,499     6,845 km   \n",
       "3      2016 Maruti Alto 800           VXI Manual   ₹2,80,399     2,152 km   \n",
       "4           2019 Honda City  VX MT PETROL Manual  ₹10,68,299     5,413 km   \n",
       "\n",
       "       Owner Car Type                                           Car link  \n",
       "0  1st Owner   Petrol  https://www.cars24.com/buy-used-hyundai-elite-...  \n",
       "1  1st Owner   Petrol  https://www.cars24.com/buy-used-maruti-alto-80...  \n",
       "2  1st Owner   Petrol  https://www.cars24.com/buy-used-maruti-new--wa...  \n",
       "3  1st Owner   Petrol  https://www.cars24.com/buy-used-maruti-alto-80...  \n",
       "4  1st Owner   Petrol  https://www.cars24.com/buy-used-honda-city-201...  "
      ]
     },
     "execution_count": 12,
     "metadata": {},
     "output_type": "execute_result"
    }
   ],
   "source": [
    "df = pd.DataFrame(d)\n",
    "df.head()"
   ]
  },
  {
   "cell_type": "code",
   "execution_count": null,
   "id": "db20b57b",
   "metadata": {},
   "outputs": [],
   "source": []
  },
  {
   "cell_type": "code",
   "execution_count": 13,
   "id": "de9f07d5",
   "metadata": {},
   "outputs": [],
   "source": [
    "df['Car Name'].str.split(expand=True)\n",
    "Cyear=df['Car Name'].str.extract(r'(?P<Year>\\w+)', expand=True)\n",
    "df['Year']=Cyear\n"
   ]
  },
  {
   "cell_type": "code",
   "execution_count": 14,
   "id": "7df2c8e7",
   "metadata": {},
   "outputs": [
    {
     "name": "stderr",
     "output_type": "stream",
     "text": [
      "C:\\Users\\Jay\\AppData\\Local\\Temp/ipykernel_4384/1061448214.py:1: FutureWarning: The default value of regex will change from True to False in a future version.\n",
      "  cname=df['Car Name'].str.replace('\\d','')\n"
     ]
    }
   ],
   "source": [
    "cname=df['Car Name'].str.replace('\\d','')\n",
    "df['Name']=cname"
   ]
  },
  {
   "cell_type": "code",
   "execution_count": 15,
   "id": "9ad0fcab",
   "metadata": {},
   "outputs": [
    {
     "data": {
      "text/html": [
       "<div>\n",
       "<style scoped>\n",
       "    .dataframe tbody tr th:only-of-type {\n",
       "        vertical-align: middle;\n",
       "    }\n",
       "\n",
       "    .dataframe tbody tr th {\n",
       "        vertical-align: top;\n",
       "    }\n",
       "\n",
       "    .dataframe thead th {\n",
       "        text-align: right;\n",
       "    }\n",
       "</style>\n",
       "<table border=\"1\" class=\"dataframe\">\n",
       "  <thead>\n",
       "    <tr style=\"text-align: right;\">\n",
       "      <th></th>\n",
       "      <th>Car model</th>\n",
       "      <th>Car Price</th>\n",
       "      <th>KM</th>\n",
       "      <th>Owner</th>\n",
       "      <th>Car Type</th>\n",
       "      <th>Car link</th>\n",
       "      <th>Year</th>\n",
       "      <th>Name</th>\n",
       "    </tr>\n",
       "  </thead>\n",
       "  <tbody>\n",
       "    <tr>\n",
       "      <th>0</th>\n",
       "      <td>ASTA 1.2 Manual</td>\n",
       "      <td>₹4,46,299</td>\n",
       "      <td>1,06,265 km</td>\n",
       "      <td>1st Owner</td>\n",
       "      <td>Petrol</td>\n",
       "      <td>https://www.cars24.com/buy-used-hyundai-elite-...</td>\n",
       "      <td>2015</td>\n",
       "      <td>Hyundai Elite i</td>\n",
       "    </tr>\n",
       "    <tr>\n",
       "      <th>1</th>\n",
       "      <td>LXI Manual</td>\n",
       "      <td>₹2,52,299</td>\n",
       "      <td>4,525 km</td>\n",
       "      <td>1st Owner</td>\n",
       "      <td>Petrol</td>\n",
       "      <td>https://www.cars24.com/buy-used-maruti-alto-80...</td>\n",
       "      <td>2013</td>\n",
       "      <td>Maruti Alto</td>\n",
       "    </tr>\n",
       "    <tr>\n",
       "      <th>2</th>\n",
       "      <td>VXI 1.0 Manual</td>\n",
       "      <td>₹5,69,499</td>\n",
       "      <td>6,845 km</td>\n",
       "      <td>1st Owner</td>\n",
       "      <td>Petrol</td>\n",
       "      <td>https://www.cars24.com/buy-used-maruti-new--wa...</td>\n",
       "      <td>2020</td>\n",
       "      <td>Maruti New  Wagon-R</td>\n",
       "    </tr>\n",
       "    <tr>\n",
       "      <th>3</th>\n",
       "      <td>VXI Manual</td>\n",
       "      <td>₹2,80,399</td>\n",
       "      <td>2,152 km</td>\n",
       "      <td>1st Owner</td>\n",
       "      <td>Petrol</td>\n",
       "      <td>https://www.cars24.com/buy-used-maruti-alto-80...</td>\n",
       "      <td>2016</td>\n",
       "      <td>Maruti Alto</td>\n",
       "    </tr>\n",
       "    <tr>\n",
       "      <th>4</th>\n",
       "      <td>VX MT PETROL Manual</td>\n",
       "      <td>₹10,68,299</td>\n",
       "      <td>5,413 km</td>\n",
       "      <td>1st Owner</td>\n",
       "      <td>Petrol</td>\n",
       "      <td>https://www.cars24.com/buy-used-honda-city-201...</td>\n",
       "      <td>2019</td>\n",
       "      <td>Honda City</td>\n",
       "    </tr>\n",
       "  </tbody>\n",
       "</table>\n",
       "</div>"
      ],
      "text/plain": [
       "             Car model   Car Price           KM      Owner Car Type  \\\n",
       "0      ASTA 1.2 Manual   ₹4,46,299  1,06,265 km  1st Owner   Petrol   \n",
       "1           LXI Manual   ₹2,52,299     4,525 km  1st Owner   Petrol   \n",
       "2       VXI 1.0 Manual   ₹5,69,499     6,845 km  1st Owner   Petrol   \n",
       "3           VXI Manual   ₹2,80,399     2,152 km  1st Owner   Petrol   \n",
       "4  VX MT PETROL Manual  ₹10,68,299     5,413 km  1st Owner   Petrol   \n",
       "\n",
       "                                            Car link  Year  \\\n",
       "0  https://www.cars24.com/buy-used-hyundai-elite-...  2015   \n",
       "1  https://www.cars24.com/buy-used-maruti-alto-80...  2013   \n",
       "2  https://www.cars24.com/buy-used-maruti-new--wa...  2020   \n",
       "3  https://www.cars24.com/buy-used-maruti-alto-80...  2016   \n",
       "4  https://www.cars24.com/buy-used-honda-city-201...  2019   \n",
       "\n",
       "                   Name  \n",
       "0       Hyundai Elite i  \n",
       "1          Maruti Alto   \n",
       "2   Maruti New  Wagon-R  \n",
       "3          Maruti Alto   \n",
       "4            Honda City  "
      ]
     },
     "execution_count": 15,
     "metadata": {},
     "output_type": "execute_result"
    }
   ],
   "source": [
    "data=df.drop(['Car Name'],axis=True)\n",
    "data.head()"
   ]
  },
  {
   "cell_type": "code",
   "execution_count": 16,
   "id": "176bf80c",
   "metadata": {},
   "outputs": [
    {
     "data": {
      "text/plain": [
       "182"
      ]
     },
     "execution_count": 16,
     "metadata": {},
     "output_type": "execute_result"
    }
   ],
   "source": [
    "data['City']='Kolkata'\n",
    "\n",
    "len(data['City'])"
   ]
  },
  {
   "cell_type": "code",
   "execution_count": 17,
   "id": "8477a262",
   "metadata": {
    "scrolled": false
   },
   "outputs": [
    {
     "data": {
      "text/html": [
       "<div>\n",
       "<style scoped>\n",
       "    .dataframe tbody tr th:only-of-type {\n",
       "        vertical-align: middle;\n",
       "    }\n",
       "\n",
       "    .dataframe tbody tr th {\n",
       "        vertical-align: top;\n",
       "    }\n",
       "\n",
       "    .dataframe thead th {\n",
       "        text-align: right;\n",
       "    }\n",
       "</style>\n",
       "<table border=\"1\" class=\"dataframe\">\n",
       "  <thead>\n",
       "    <tr style=\"text-align: right;\">\n",
       "      <th></th>\n",
       "      <th>City</th>\n",
       "      <th>Year</th>\n",
       "      <th>Name</th>\n",
       "      <th>Car model</th>\n",
       "      <th>Car Price</th>\n",
       "      <th>KM</th>\n",
       "      <th>Owner</th>\n",
       "      <th>Car Type</th>\n",
       "      <th>Car link</th>\n",
       "    </tr>\n",
       "  </thead>\n",
       "  <tbody>\n",
       "    <tr>\n",
       "      <th>0</th>\n",
       "      <td>Kolkata</td>\n",
       "      <td>2015</td>\n",
       "      <td>Hyundai Elite i</td>\n",
       "      <td>ASTA 1.2 Manual</td>\n",
       "      <td>₹4,46,299</td>\n",
       "      <td>1,06,265 km</td>\n",
       "      <td>1st Owner</td>\n",
       "      <td>Petrol</td>\n",
       "      <td>https://www.cars24.com/buy-used-hyundai-elite-...</td>\n",
       "    </tr>\n",
       "    <tr>\n",
       "      <th>1</th>\n",
       "      <td>Kolkata</td>\n",
       "      <td>2013</td>\n",
       "      <td>Maruti Alto</td>\n",
       "      <td>LXI Manual</td>\n",
       "      <td>₹2,52,299</td>\n",
       "      <td>4,525 km</td>\n",
       "      <td>1st Owner</td>\n",
       "      <td>Petrol</td>\n",
       "      <td>https://www.cars24.com/buy-used-maruti-alto-80...</td>\n",
       "    </tr>\n",
       "    <tr>\n",
       "      <th>2</th>\n",
       "      <td>Kolkata</td>\n",
       "      <td>2020</td>\n",
       "      <td>Maruti New  Wagon-R</td>\n",
       "      <td>VXI 1.0 Manual</td>\n",
       "      <td>₹5,69,499</td>\n",
       "      <td>6,845 km</td>\n",
       "      <td>1st Owner</td>\n",
       "      <td>Petrol</td>\n",
       "      <td>https://www.cars24.com/buy-used-maruti-new--wa...</td>\n",
       "    </tr>\n",
       "    <tr>\n",
       "      <th>3</th>\n",
       "      <td>Kolkata</td>\n",
       "      <td>2016</td>\n",
       "      <td>Maruti Alto</td>\n",
       "      <td>VXI Manual</td>\n",
       "      <td>₹2,80,399</td>\n",
       "      <td>2,152 km</td>\n",
       "      <td>1st Owner</td>\n",
       "      <td>Petrol</td>\n",
       "      <td>https://www.cars24.com/buy-used-maruti-alto-80...</td>\n",
       "    </tr>\n",
       "    <tr>\n",
       "      <th>4</th>\n",
       "      <td>Kolkata</td>\n",
       "      <td>2019</td>\n",
       "      <td>Honda City</td>\n",
       "      <td>VX MT PETROL Manual</td>\n",
       "      <td>₹10,68,299</td>\n",
       "      <td>5,413 km</td>\n",
       "      <td>1st Owner</td>\n",
       "      <td>Petrol</td>\n",
       "      <td>https://www.cars24.com/buy-used-honda-city-201...</td>\n",
       "    </tr>\n",
       "  </tbody>\n",
       "</table>\n",
       "</div>"
      ],
      "text/plain": [
       "      City  Year                  Name            Car model   Car Price  \\\n",
       "0  Kolkata  2015       Hyundai Elite i      ASTA 1.2 Manual   ₹4,46,299   \n",
       "1  Kolkata  2013          Maruti Alto            LXI Manual   ₹2,52,299   \n",
       "2  Kolkata  2020   Maruti New  Wagon-R       VXI 1.0 Manual   ₹5,69,499   \n",
       "3  Kolkata  2016          Maruti Alto            VXI Manual   ₹2,80,399   \n",
       "4  Kolkata  2019            Honda City  VX MT PETROL Manual  ₹10,68,299   \n",
       "\n",
       "            KM      Owner Car Type  \\\n",
       "0  1,06,265 km  1st Owner   Petrol   \n",
       "1     4,525 km  1st Owner   Petrol   \n",
       "2     6,845 km  1st Owner   Petrol   \n",
       "3     2,152 km  1st Owner   Petrol   \n",
       "4     5,413 km  1st Owner   Petrol   \n",
       "\n",
       "                                            Car link  \n",
       "0  https://www.cars24.com/buy-used-hyundai-elite-...  \n",
       "1  https://www.cars24.com/buy-used-maruti-alto-80...  \n",
       "2  https://www.cars24.com/buy-used-maruti-new--wa...  \n",
       "3  https://www.cars24.com/buy-used-maruti-alto-80...  \n",
       "4  https://www.cars24.com/buy-used-honda-city-201...  "
      ]
     },
     "execution_count": 17,
     "metadata": {},
     "output_type": "execute_result"
    }
   ],
   "source": [
    "data=data.reindex(columns=['City','Year','Name','Car model','Car Price','KM','Owner','Car Type','Car link'])\n",
    "data.head()"
   ]
  },
  {
   "cell_type": "code",
   "execution_count": 18,
   "id": "dd780771",
   "metadata": {
    "scrolled": true
   },
   "outputs": [],
   "source": [
    "data.to_csv('Cars24_Kolkata.csv')"
   ]
  },
  {
   "cell_type": "code",
   "execution_count": 19,
   "id": "b7ab2b60",
   "metadata": {},
   "outputs": [
    {
     "data": {
      "text/html": [
       "<div>\n",
       "<style scoped>\n",
       "    .dataframe tbody tr th:only-of-type {\n",
       "        vertical-align: middle;\n",
       "    }\n",
       "\n",
       "    .dataframe tbody tr th {\n",
       "        vertical-align: top;\n",
       "    }\n",
       "\n",
       "    .dataframe thead th {\n",
       "        text-align: right;\n",
       "    }\n",
       "</style>\n",
       "<table border=\"1\" class=\"dataframe\">\n",
       "  <thead>\n",
       "    <tr style=\"text-align: right;\">\n",
       "      <th></th>\n",
       "      <th>0</th>\n",
       "      <th>1</th>\n",
       "      <th>2</th>\n",
       "      <th>3</th>\n",
       "    </tr>\n",
       "  </thead>\n",
       "  <tbody>\n",
       "    <tr>\n",
       "      <th>0</th>\n",
       "      <td>Hyundai</td>\n",
       "      <td>Elite</td>\n",
       "      <td>i</td>\n",
       "      <td>None</td>\n",
       "    </tr>\n",
       "    <tr>\n",
       "      <th>1</th>\n",
       "      <td>Maruti</td>\n",
       "      <td>Alto</td>\n",
       "      <td>None</td>\n",
       "      <td>None</td>\n",
       "    </tr>\n",
       "    <tr>\n",
       "      <th>2</th>\n",
       "      <td>Maruti</td>\n",
       "      <td>New</td>\n",
       "      <td>Wagon-R</td>\n",
       "      <td>None</td>\n",
       "    </tr>\n",
       "    <tr>\n",
       "      <th>3</th>\n",
       "      <td>Maruti</td>\n",
       "      <td>Alto</td>\n",
       "      <td>None</td>\n",
       "      <td>None</td>\n",
       "    </tr>\n",
       "    <tr>\n",
       "      <th>4</th>\n",
       "      <td>Honda</td>\n",
       "      <td>City</td>\n",
       "      <td>None</td>\n",
       "      <td>None</td>\n",
       "    </tr>\n",
       "    <tr>\n",
       "      <th>...</th>\n",
       "      <td>...</td>\n",
       "      <td>...</td>\n",
       "      <td>...</td>\n",
       "      <td>...</td>\n",
       "    </tr>\n",
       "    <tr>\n",
       "      <th>177</th>\n",
       "      <td>Maruti</td>\n",
       "      <td>Alto</td>\n",
       "      <td>None</td>\n",
       "      <td>None</td>\n",
       "    </tr>\n",
       "    <tr>\n",
       "      <th>178</th>\n",
       "      <td>Maruti</td>\n",
       "      <td>S</td>\n",
       "      <td>PRESSO</td>\n",
       "      <td>None</td>\n",
       "    </tr>\n",
       "    <tr>\n",
       "      <th>179</th>\n",
       "      <td>Maruti</td>\n",
       "      <td>Alto</td>\n",
       "      <td>None</td>\n",
       "      <td>None</td>\n",
       "    </tr>\n",
       "    <tr>\n",
       "      <th>180</th>\n",
       "      <td>Mahindra</td>\n",
       "      <td>Scorpio</td>\n",
       "      <td>None</td>\n",
       "      <td>None</td>\n",
       "    </tr>\n",
       "    <tr>\n",
       "      <th>181</th>\n",
       "      <td>Maruti</td>\n",
       "      <td>Eeco</td>\n",
       "      <td>None</td>\n",
       "      <td>None</td>\n",
       "    </tr>\n",
       "  </tbody>\n",
       "</table>\n",
       "<p>182 rows × 4 columns</p>\n",
       "</div>"
      ],
      "text/plain": [
       "            0        1        2     3\n",
       "0     Hyundai    Elite        i  None\n",
       "1      Maruti     Alto     None  None\n",
       "2      Maruti      New  Wagon-R  None\n",
       "3      Maruti     Alto     None  None\n",
       "4       Honda     City     None  None\n",
       "..        ...      ...      ...   ...\n",
       "177    Maruti     Alto     None  None\n",
       "178    Maruti        S   PRESSO  None\n",
       "179    Maruti     Alto     None  None\n",
       "180  Mahindra  Scorpio     None  None\n",
       "181    Maruti     Eeco     None  None\n",
       "\n",
       "[182 rows x 4 columns]"
      ]
     },
     "execution_count": 19,
     "metadata": {},
     "output_type": "execute_result"
    }
   ],
   "source": [
    "data['Name'].str.split(expand=True)"
   ]
  },
  {
   "cell_type": "code",
   "execution_count": null,
   "id": "7258ec58",
   "metadata": {},
   "outputs": [],
   "source": []
  }
 ],
 "metadata": {
  "kernelspec": {
   "display_name": "Python 3 (ipykernel)",
   "language": "python",
   "name": "python3"
  },
  "language_info": {
   "codemirror_mode": {
    "name": "ipython",
    "version": 3
   },
   "file_extension": ".py",
   "mimetype": "text/x-python",
   "name": "python",
   "nbconvert_exporter": "python",
   "pygments_lexer": "ipython3",
   "version": "3.9.7"
  }
 },
 "nbformat": 4,
 "nbformat_minor": 5
}
