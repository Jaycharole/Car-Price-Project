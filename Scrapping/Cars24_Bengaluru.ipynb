{
 "cells": [
  {
   "cell_type": "markdown",
   "id": "a0647529",
   "metadata": {},
   "source": [
    "<h3>Importing the Libraries Required </h3>"
   ]
  },
  {
   "cell_type": "code",
   "execution_count": 1,
   "id": "0c5c40ca",
   "metadata": {},
   "outputs": [],
   "source": [
    "import urllib\n",
    "import time\n",
    "import json\n",
    "import numpy as np\n",
    "import pandas as pd\n",
    "from tqdm import tqdm\n",
    "from time import sleep\n",
    "from selenium import webdriver\n",
    "from selenium.webdriver.common.by import By\n",
    "from selenium.webdriver.support.ui import WebDriverWait\n",
    "from selenium.webdriver.support import expected_conditions as EC\n",
    "from selenium.common.exceptions import TimeoutException\n",
    "from bs4 import BeautifulSoup\n",
    "from selenium.common.exceptions import ElementClickInterceptedException\n",
    "from selenium.common.exceptions import NoSuchElementException\n"
   ]
  },
  {
   "cell_type": "markdown",
   "id": "e57b890a",
   "metadata": {},
   "source": [
    "<h3>Using Selenium For Auto Scrolling the Web-Page and Extracting the The Page Source</h3>"
   ]
  },
  {
   "cell_type": "code",
   "execution_count": 2,
   "id": "6c96f183",
   "metadata": {
    "scrolled": true
   },
   "outputs": [
    {
     "name": "stderr",
     "output_type": "stream",
     "text": [
      "C:\\Users\\Jay\\AppData\\Local\\Temp/ipykernel_14688/1110643899.py:1: DeprecationWarning: executable_path has been deprecated, please pass in a Service object\n",
      "  driver = webdriver.Chrome(executable_path=r'D:\\\\Mission Data Science\\\\Web Driver\\\\chromedriver.exe')\n"
     ]
    }
   ],
   "source": [
    "driver = webdriver.Chrome(executable_path=r'D:\\\\Mission Data Science\\\\Web Driver\\\\chromedriver.exe')\n",
    "driver.wait = WebDriverWait(driver, 5)\n",
    "driver.maximize_window()\n",
    "driver.get(\"https://www.cars24.com/buy-used-car?sort=P&storeCityId=4709&pinId=560001\")\n",
    "time.sleep(7)\n",
    "\n",
    "\n",
    "height = driver.execute_script(\"return document.documentElement.scrollHeight\")\n",
    "lastheight = 0\n",
    "while True:\n",
    "    if lastheight == height:\n",
    "        break\n",
    "    lastheight = height\n",
    "    driver.execute_script(\"window.scrollTo(0, \" + str(height) + \");\")\n",
    "    time.sleep(10)\n",
    "    height = driver.execute_script(\"return document.documentElement.scrollHeight\")\n",
    "    \n",
    "    \n",
    "# Using BeautifulSoup To Store the Page Source in Object Called Soup\n",
    "\n",
    "soup = BeautifulSoup(driver.page_source)\n",
    "driver.quit()"
   ]
  },
  {
   "cell_type": "markdown",
   "id": "9dbcafd3",
   "metadata": {},
   "source": [
    "<h3>Storing the page source in object called Soup and viewing the text</h3>"
   ]
  },
  {
   "cell_type": "code",
   "execution_count": 3,
   "id": "fe63b43f",
   "metadata": {},
   "outputs": [
    {
     "data": {
      "text/plain": [
       "\"\\n\\n\\n\\n\\n\\n\\n\\n\\n\\n\\nUsed Cars in Bengaluru - Second Hand Cars in Bengaluru for Sale\\nBengaluru  Popular CitiesUsed cars in BengaluruPopular CarsUsed Hyundai carsUsed Renault carsUsed Mahindra carsUsed Toyota carsUsed Audi carsUsed Honda carsUsed Maruti carsUsed Tata carsUsed Ford carsUsed Skoda carsAll used cars in BengaluruUsed cars in ChennaiPopular CarsUsed Hyundai carsUsed Renault carsUsed Mahindra carsUsed Toyota carsUsed Audi carsUsed Honda carsUsed Maruti carsUsed Tata carsUsed Ford carsUsed Skoda carsAll used cars in ChennaiUsed cars in New DelhiPopular CarsUsed Hyundai carsUsed Renault carsUsed Mahindra carsUsed Toyota carsUsed Audi carsUsed Honda carsUsed Maruti carsUsed Tata carsUsed Ford carsUsed Skoda carsAll used cars in New DelhiUsed cars in MumbaiPopular CarsUsed Hyundai carsUsed Renault carsUsed Mahindra carsUsed Toyota carsUsed Audi carsUsed Honda carsUsed Maruti carsUsed Tata carsUsed Ford carsUsed Skoda carsAll used cars in MumbaiUsed cars in PunePopular CarsUsed Hyundai carsUsed Renault carsUsed Mahindra carsUsed Toyota carsUsed Audi carsUsed Honda carsUsed Maruti carsUsed Tata carsUsed Ford carsUsed Skoda carsAll used cars in PuneUsed cars in HyderabadPopular CarsUsed Hyundai carsUsed Renault carsUsed Mahindra carsUsed Toyota carsUsed Audi carsUsed Honda carsUsed Maruti carsUsed Tata carsUsed Ford carsUsed Skoda carsAll used cars in HyderabadUsed cars in KolkataPopular CarsUsed Hyundai carsUsed Renault carsUsed Mahindra carsUsed Toyota carsUsed Audi carsUsed Honda carsUsed Maruti carsUsed Tata carsUsed Ford carsUsed Skoda carsAll used cars in KolkataUsed cars in AhmedabadPopular CarsUsed Hyundai carsUsed Renault carsUsed Mahindra carsUsed Toyota carsUsed Audi carsUsed Honda carsUsed Maruti carsUsed Tata carsUsed Ford carsUsed Skoda carsAll used cars in AhmedabadUsed cars in JaipurPopular CarsUsed Hyundai carsUsed Renault carsUsed Mahindra carsUsed Toyota carsUsed Audi carsUsed Honda carsUsed Maruti carsUsed Tata carsUsed Ford carsUsed Skoda carsAll used cars in JaipurUsed cars in ChandigarhPopular CarsUsed Hyundai carsUsed Renault carsUsed Mahindra carsUsed Toyota carsUsed Audi carsUsed Honda carsUsed Maruti carsUsed Tata carsUsed Ford carsUsed Skoda carsAll used cars in ChandigarhBuy used carSell used carLoginRC Transfers StatusFAQBecome a partnerBuy Car: 9 AM - 9 PM1800 258 5656HomeUsed CarsBengaluruFind your dream car with usSort By:Best Match  PriceModel YearKMs DrivenMake & ModelRTOMore FiltersUsed Cars in Bengaluru2021 KIA SELTOSGTX 1.4 GDI PETROL Manual4,257 km1st OwnerPetrol₹44,249/month₹19,89,199Zero downpayment2019 Maruti CelerioVXI Manual5,382 km1st OwnerPetrol₹12,481/month₹5,61,099Zero downpayment2017 Renault DusterRXS CVT 106 PS Automatic31,859 km2nd OwnerPetrol₹19,404/month₹8,72,299Zero downpayment2020 Maruti New  Wagon-RZXI 1.2 Manual5,702 km1st OwnerPetrol₹14,583/month₹6,55,599Zero downpayment2012 Maruti Wagon R 1.0VXI Manual37,683 km2nd OwnerPetrol₹8,004/month₹3,59,799Zero downpaymentFilter By Popular BrandMarutiHyundaiHondaTataToyota2017 Honda WR-V1.2 i-VTEC VX MT Manual43,808 km1st OwnerPetrol₹17,433/month₹7,83,699Zero downpayment2017 Hyundai Grand i10Magna 1.2 AT  VTVT Automatic12,646 km2nd OwnerPetrol₹12,940/month₹5,81,699Zero downpayment2017 Honda CityV MT PETROL Manual28,310 km2nd OwnerPetrol₹19,749/month₹8,87,799Zero downpayment2015 Maruti CelerioVXI Manual33,689 km1st OwnerPetrol₹10,003/month₹4,49,699Zero downpayment2019 MG HECTORSHARP 2.0 DIESEL Manual20,909 km1st OwnerDiesel₹41,415/month₹18,61,799Zero downpayment2018 Mahindra BoleroPower+ ZLX Micro Hybrid Manual32,238 km1st OwnerDiesel₹20,418/month₹9,17,899Zero downpaymentFilter By BudgetCars under 2 lakhCars between 2 lakh - 5 lakhCars between 5 lakh - 10 lakhCars above 10 lakh2014 Hyundai XcentS 1.2 Manual39,836 km1st OwnerPetrol₹10,924/month₹4,91,099Zero downpayment2019 MG HECTORSMART DIESEL Manual49,501 km2nd OwnerDiesel₹34,038/month₹15,30,199Zero downpayment2019 MG HECTORSHARP 2.0 DIESEL Manual30,076 km1st OwnerDiesel₹41,882/month₹18,82,799Zero downpayment2019 MG HECTORSHARP 2.0 DIESEL Manual26,225 km1st OwnerDiesel₹42,656/month₹19,17,599Zero downpayment2015 Hyundai Grand i10SPORTZ 1.2 KAPPA VTVT Manual20,067 km1st OwnerPetrol₹11,634/month₹5,22,999Zero downpayment2014 Hyundai Grand i10SPORTZ 1.2 KAPPA VTVT Manual38,596 km2nd OwnerPetrol₹10,250/month₹4,60,799Zero downpaymentFilter By Fuel TypePetrolDieselCNGLPGElectricHybrid2013 Honda Brio1.2 V MT I VTEC Manual60,696 km2nd OwnerPetrol₹8,093/month₹3,63,799Zero downpayment2019 Hyundai NEW SANTRO1.1 MAGNA MT Manual11,005 km1st OwnerPetrol₹11,705/month₹5,26,199Zero downpayment2014 Hyundai Grand i10SPORTZ 1.2 KAPPA VTVT Manual36,475 km1st OwnerPetrol₹10,978/month₹4,93,499Zero downpayment2020 Honda CityV MT PETROL Manual14,417 km1st OwnerPetrol₹26,115/month₹11,73,999Zero downpayment2013 Honda Amaze1.2 VXMT I VTEC Manual47,686 km2nd OwnerPetrol₹10,688/month₹4,80,499Zero downpayment2014 Hyundai Grand i10SPORTZ 1.2 KAPPA VTVT Manual48,877 km1st OwnerPetrol₹10,457/month₹4,70,099Zero downpaymentFilter By Body TypeHatchbackSedanSUVLuxury SedanLuxury SUV2016 Maruti CelerioVXI Manual38,954 km2nd OwnerPetrol₹10,232/month₹4,59,999Zero downpayment2017 Tata TiagoXZ 1.2 REVOTRON Manual11,086 km2nd OwnerPetrol₹11,921/month₹5,35,899Zero downpayment2016 Hyundai EonERA PLUS Manual45,891 km2nd OwnerPetrol₹7,521/month₹3,38,099Zero downpayment2014 Hyundai Grand i10ASTA 1.2 AT VTVT Automatic53,048 km3rd OwnerPetrol₹10,499/month₹4,71,999Zero downpayment12-Months Free Warranty!Free 12 months warranty on all cars to safeguard you from unforeseen repair and maintenance costsKNOW MORE2018 Tata TiagoXZ 1.2 REVOTRON Manual27,780 km2nd OwnerPetrol₹12,524/month₹5,62,999Zero downpayment2020 Tata NEXONXZ 1.2 Manual8,102 km2nd OwnerPetrol₹20,516/month₹9,22,299Zero downpayment2019 Hyundai Grand i10SPORTZ 1.2 KAPPA VTVT Manual18,681 km2nd OwnerPetrol₹13,322/month₹5,98,899Zero downpayment2016 Honda Jazz1.2 S AT Automatic48,138 km2nd OwnerPetrol₹13,872/month₹6,23,599Zero downpayment2019 Maruti Alto K10VXI Manual79,432 km1st OwnerPetrol₹8,446/month₹3,79,699Zero downpayment2017 Maruti Eeco5 STR WITH AC PLUSHTR Manual17,914 km1st OwnerPetrol₹9,977/month₹4,48,499Zero downpayment2014 Honda CityS MT PETROL Manual57,997 km1st OwnerPetrol₹13,780/month₹6,19,499Zero downpayment2014 Maruti Wagon R 1.0VXI Manual44,059 km3rd OwnerPetrol₹8,072/month₹3,62,899Zero downpayment2016 Honda CityV MT PETROL Manual40,368 km1st OwnerPetrol₹17,193/month₹7,72,899Zero downpayment2017 Renault DusterRXZ 85 PS DIESEL Manual71,705 km1st OwnerDiesel₹20,262/month₹9,10,899Zero downpayment2015 Hyundai Elite i20ASTA 1.2 Manual60,878 km2nd OwnerPetrol₹13,618/month₹6,12,199Zero downpayment2015 Hyundai Grand i10SPORTZ 1.2 KAPPA VTVT Manual40,710 km1st OwnerPetrol₹11,062/month₹4,97,299Zero downpayment2021 Maruti IGNISZETA 1.2 K12 AMT Automatic6,005 km1st OwnerPetrol₹18,134/month₹8,15,199Zero downpayment2020 Hyundai NEW SANTRO1.1 SPORTS AMT Automatic20,352 km1st OwnerPetrol₹14,245/month₹6,40,399Zero downpayment2019 Ford Ecosport1.5 TITANIUM SIGNATURE TI VCT (SUNROOF) Manual40,792 km1st OwnerPetrol₹23,584/month₹10,60,199Zero downpayment2016 Hyundai Grand i10ASTA 1.1 (O) CRDI Manual75,483 km1st OwnerDiesel₹11,743/month₹5,27,899Zero downpayment2019 Hyundai Grand i10SPORTZ 1.2 KAPPA VTVT Manual20,246 km1st OwnerPetrol₹13,847/month₹6,22,499Zero downpayment2018 Maruti CelerioZXI Manual42,422 km1st OwnerPetrol₹11,689/month₹5,25,499Zero downpayment2016 Hyundai i20 Active1.2 SX Manual51,929 km1st OwnerPetrol₹14,904/month₹6,69,999Zero downpayment2017 Hyundai EonMAGNA PLUS Manual18,241 km2nd OwnerPetrol₹8,482/month₹3,81,299Zero downpayment2016 Maruti BalenoDELTA 1.2 K12 Manual58,172 km1st OwnerPetrol₹13,916/month₹6,25,599Zero downpayment2019 Hyundai NEW SANTROASTA 1.1 MT Manual36,398 km1st OwnerPetrol₹13,042/month₹5,86,299Zero downpayment2018 Tata TiagoXZ 1.2 REVOTRON Manual61,256 km1st OwnerPetrol₹12,168/month₹5,46,999Zero downpayment2017 Hyundai EonMAGNA PLUS Manual29,951 km1st OwnerPetrol₹8,482/month₹3,81,299Zero downpayment2018 Toyota YARISV CVT Automatic10,585 km1st OwnerPetrol₹23,981/month₹10,78,067Zero downpayment2016 Hyundai Grand i10ASTA 1.2 (O) VTVT Manual86,760 km1st OwnerPetrol₹12,112/month₹5,44,499Zero downpayment2017 Honda CityV MT PETROL Manual40,600 km2nd OwnerPetrol₹18,676/month₹8,39,599Zero downpayment2014 Maruti Alto K10VXI Manual66,021 km1st OwnerPetrol₹7,677/month₹3,45,099Zero downpayment2014 Maruti Wagon R 1.0VXI Manual73,271 km1st OwnerPetrol₹8,958/month₹4,02,699Zero downpayment2017 Honda CityV MT PETROL Manual71,077 km2nd OwnerPetrol₹18,601/month₹8,36,199Zero downpayment2017 Maruti CiazZXI Manual31,318 km1st OwnerPetrol₹18,403/month₹8,27,299Zero downpayment2018 Toyota YARISV MT Manual36,498 km1st OwnerPetrol₹18,327/month₹8,23,899Zero downpayment2016 Hyundai Grand i10SPORTZ 1.2 KAPPA VTVT Manual39,493 km1st OwnerPetrol₹11,378/month₹5,11,499Zero downpayment2017 Maruti BalenoZETA 1.2 K12 AMT Automatic62,360 km2nd OwnerPetrol₹15,015/month₹6,74,999Zero downpayment2019 Maruti Alto K10VXI AMT Automatic14,345 km1st OwnerPetrol₹10,695/month₹4,80,801Zero downpayment2017 Hyundai Grand i10ASTA 1.2 VTVT Manual27,858 km1st OwnerPetrol₹13,280/month₹5,96,999Zero downpayment2019 Ford FREESTYLETITANIUM 1.2 TI-VCT MT Manual29,402 km1st OwnerPetrol₹15,818/month₹7,11,099Zero downpayment2019 Ford FREESTYLETITANIUM 1.2 TI-VCT MT Manual33,425 km1st OwnerPetrol₹16,000/month₹7,19,299Zero downpayment2018 Maruti Wagon R 1.0VXI AMT Automatic39,746 km2nd OwnerPetrol₹11,055/month₹4,96,999Zero downpayment2020 Maruti AltoLXI Manual31,304 km1st OwnerPetrol₹9,065/month₹4,07,499Zero downpayment2018 Maruti Alto K10VXI (O) AMT Automatic21,562 km1st OwnerPetrol₹10,535/month₹4,73,599Zero downpayment2012 Maruti SwiftVXI Manual56,391 km2nd OwnerPetrol₹9,667/month₹4,34,599Zero downpayment2014 Maruti SwiftVXI Manual51,781 km1st OwnerPetrol₹10,978/month₹4,93,499Zero downpayment2020 Maruti Vitara BrezzaZXI + Manual14,065 km1st OwnerPetrol₹23,704/month₹10,65,599Zero downpayment2018 Hyundai Elite i20ASTA 1.2 Manual14,165 km1st OwnerPetrol₹17,175/month₹7,72,099Zero downpayment2019 Renault KwidRXL Manual8,947 km1st OwnerPetrol₹9,509/month₹4,27,499Zero downpayment2016 Maruti SwiftVXI OPT Manual9,755 km1st OwnerPetrol₹13,676/month₹6,14,799Zero downpayment2012 Maruti Alto K10VXI Manual55,334 km2nd OwnerPetrol₹6,139/month₹2,75,999Zero downpayment2017 Maruti DzireZXI Plus AMT Automatic60,090 km1st OwnerPetrol₹16,650/month₹7,48,499Zero downpayment2017 Hyundai Creta1.6 SX CRDI Manual57,767 km2nd OwnerDiesel₹25,230/month₹11,34,199Zero downpayment2010 Maruti Wagon R 1.0VXI Manual27,423 km1st OwnerPetrol₹7,183/month₹3,22,899Zero downpayment2016 Hyundai Elite i20SPORTZ 1.2 Manual49,527 km2nd OwnerPetrol₹13,342/month₹5,99,799Zero downpayment2019 Hyundai GRAND I10 NIOSSPORTZ PETROL Manual12,731 km1st OwnerPetrol₹15,148/month₹6,80,999Zero downpayment2016 Renault KwidRXL Manual41,599 km1st OwnerPetrol₹7,759/month₹3,48,799Zero downpayment2018 Maruti Eeco5 STR WITH AC PLUSHTR Manual31,842 km1st OwnerPetrol₹9,205/month₹4,13,799Zero downpayment2012 Maruti Alto K10VXI Manual49,885 km1st OwnerPetrol₹6,660/month₹2,99,399Zero downpayment2017 Renault KwidCLIMBER 1.0 AT Automatic44,911 km1st OwnerPetrol₹10,117/month₹4,54,799Zero downpayment2015 Hyundai Grand i10MAGNA 1.2 KAPPA VTVT Manual95,138 km1st OwnerPetrol₹9,438/month₹4,24,299Zero downpayment2016 Maruti Alto K10VXI Manual37,215 km1st OwnerPetrol₹7,834/month₹3,52,199Zero downpayment2017 Hyundai XcentSX 1.2 Manual44,796 km2nd OwnerPetrol₹13,173/month₹5,92,199Zero downpayment2018 Maruti ErtigaZDI PLUS SHVS Manual33,670 km1st OwnerDiesel₹24,502/month₹11,01,499Zero downpayment2012 Hyundai i10ERA 1.1 IRDE Manual17,573 km1st OwnerPetrol₹8,789/month₹3,95,099Zero downpayment2020 KIA SELTOS1.5 GTX+ AT Automatic38,331 km1st OwnerDiesel₹42,718/month₹19,20,399Zero downpayment2017 Maruti Alto 800LXI Manual25,297 km1st OwnerPetrol₹7,423/month₹3,33,699Zero downpayment2021 Renault KigerRXZ 1.0 AT DUAL TONE 7,396 km1st OwnerPetrol₹23,219/month₹10,43,799Zero downpayment2011 Hyundai VernaFLUIDIC 1.6 SX VTVT Manual85,488 km2nd OwnerPetrol₹11,189/month₹5,02,999Zero downpayment2021 Renault DusterRXZ Manual4,031 km1st OwnerPetrol₹26,424/month₹11,87,899Zero downpayment2015 Volkswagen PoloHIGHLINE1.2L PETROL Manual58,080 km1st OwnerPetrol₹13,344/month₹5,99,899Zero downpayment2016 Maruti CiazZXI RS Manual74,477 km1st OwnerPetrol₹15,498/month₹6,96,699Zero downpayment2020 Honda CityV MT PETROL Manual14,594 km1st OwnerPetrol₹26,315/month₹11,82,999Zero downpayment2014 Maruti Alto 800LXI Manual51,952 km2nd OwnerPetrol₹6,301/month₹2,83,255Zero downpayment2015 Hyundai Elite i20ASTA 1.2 Manual42,231 km2nd OwnerPetrol₹14,136/month₹6,35,499Zero downpayment2018 Renault DusterRXS CVT 106 PS Automatic21,486 km1st OwnerPetrol₹21,724/month₹9,76,599Zero downpayment2016 Hyundai Creta1.6 SX PLUS VTVT Manual33,896 km1st OwnerPetrol₹22,749/month₹10,22,699Zero downpayment2012 Ford Figo1.2 TITANIUM DURATEC Manual54,944 km1st OwnerPetrol₹8,139/month₹3,65,899Zero downpayment2017 Hyundai Elite i201.4 CRDI ASTA (O) Manual54,063 km2nd OwnerDiesel₹16,984/month₹7,63,499Zero downpayment2013 Ford Figo1.2 TITANIUM DURATEC Manual41,263 km1st OwnerPetrol₹8,366/month₹3,76,099Zero downpayment2016 Honda Jazz1.2 V MT Manual48,329 km1st OwnerPetrol₹14,721/month₹6,61,799Zero downpayment2015 Hyundai Elite i20ASTA 1.4 CRDI Manual56,911 km1st OwnerDiesel₹15,951/month₹7,17,059Zero downpayment2020 MG HECTORSMART HYBRID PETROL MT Manual21,740 km1st OwnerPetrol₹35,593/month₹16,00,099Zero downpayment2015 Hyundai XcentS 1.2 OPT Manual42,107 km1st OwnerPetrol₹11,182/month₹5,02,699Zero downpayment2015 Honda Brio1.2 S MT I VTEC Manual70,558 km1st OwnerPetrol₹9,963/month₹4,47,899Zero downpayment2015 Honda Jazz1.2 E MT Manual33,862 km1st OwnerPetrol₹12,014/month₹5,40,099Zero downpayment2013 Honda CityV MT PETROL Manual60,599 km1st OwnerPetrol₹12,043/month₹5,41,399Zero downpayment2019 Maruti BalenoDELTA 1.2 K12 Manual24,900 km1st OwnerPetrol₹16,143/month₹7,25,699Zero downpayment2019 Hyundai NEW SANTROASTA 1.1 MT Manual30,663 km1st OwnerPetrol₹12,759/month₹5,73,599Zero downpayment2020 Maruti XL6ZETA AT SHVS Automatic55,422 km1st OwnerPetrol₹27,241/month₹12,24,599Zero downpayment2021 Datsun Redi GoT (O) Manual1,660 km1st OwnerPetrol₹10,933/month₹4,91,499Zero downpayment2019 Hyundai Grand i10ASTA 1.2 VTVT Manual14,858 km3rd OwnerPetrol₹13,089/month₹5,88,399Zero downpayment2016 Maruti CelerioVXI Manual24,938 km1st OwnerPetrol₹10,771/month₹4,84,199Zero downpayment2015 Hyundai i10MAGNA 1.1 IRDE2 Manual60,141 km1st OwnerPetrol₹8,611/month₹3,87,099Zero downpayment2016 Maruti Eeco5 STR WITH AC PLUSHTR Manual26,085 km3rd OwnerPetrol₹8,611/month₹3,87,099Zero downpayment2015 Hyundai i10SPORTZ 1.1 IRDE2 Manual31,383 km1st OwnerPetrol₹9,151/month₹4,11,399Zero downpayment2014 Hyundai Grand i10ASTA 1.2 KAPPA VTVT Manual37,487 km1st OwnerPetrol₹11,288/month₹5,07,465Zero downpayment2016 Toyota Etios LivaD 4D VD Manual73,638 km1st OwnerDiesel₹13,934/month₹6,26,399Zero downpayment2020 Mahindra XUV 3OOW8 (O) DIESEL  AT Automatic23,734 km1st OwnerDiesel₹32,759/month₹14,72,699Zero downpayment2019 Hyundai Elite i201.2 SPORTZ PLUS DUAL TONE VTVT Manual26,288 km1st OwnerPetrol₹18,870/month₹8,48,299Zero downpayment2019 Maruti CelerioZXI OPT Manual21,646 km2nd OwnerPetrol₹12,139/month₹5,45,699Zero downpayment2017 Volkswagen AmeoHIGHLINE 1.5L AT (D) Automatic91,038 km1st OwnerDiesel₹13,778/month₹6,19,399Zero downpayment2016 Maruti Alto K10VXI OPT Manual34,293 km2nd OwnerPetrol₹7,392/month₹3,32,299Zero downpayment2016 Datsun Redi GoT (O) Manual51,334 km1st OwnerPetrol₹6,495/month₹2,91,999Zero downpayment2017 Hyundai EonMAGNA PLUS OPTIONAL Manual77,900 km1st OwnerPetrol₹8,161/month₹3,66,899Zero downpayment2014 Maruti Alto 800LXI Manual62,255 km1st OwnerPetrol₹6,295/month₹2,82,999Zero downpayment2018 Renault KwidRXL Manual23,109 km2nd OwnerPetrol₹9,178/month₹4,12,599Zero downpayment2018 Maruti DzireVXI Manual14,212 km1st OwnerPetrol₹15,798/month₹7,10,199Zero downpayment2013 Hyundai i20SPORTZ 1.2 VTVT Manual72,656 km2nd OwnerPetrol₹9,868/month₹4,43,599Zero downpayment2014 Maruti Wagon R 1.0VXI Manual42,699 km2nd OwnerPetrol₹8,927/month₹4,01,299Zero downpayment2014 Maruti Wagon R 1.0VXI Manual47,294 km2nd OwnerPetrol₹9,245/month₹4,15,599Zero downpayment2015 Maruti CelerioVXI Manual49,571 km2nd OwnerPetrol₹9,541/month₹4,28,909Zero downpayment2016 Hyundai Grand i10SPORTS 1.2 VTVT Manual25,403 km2nd OwnerPetrol₹11,158/month₹5,01,599Zero downpayment2016 Maruti BalenoALPHA DDIS 190 Manual68,229 km2nd OwnerDiesel₹15,558/month₹6,99,399Zero downpayment2015 Hyundai Elite i20ASTA 1.2 Manual70,850 km1st OwnerPetrol₹13,622/month₹6,12,399Zero downpayment2018 Maruti DzireVXI Manual28,306 km1st OwnerPetrol₹15,624/month₹7,02,399Zero downpayment2014 Maruti Alto K10VXI Manual34,437 km2nd OwnerPetrol₹7,343/month₹3,30,099Zero downpayment2018 Ford Ecosport1.5 TITANIUM SIGNATURE TI VCT (SUNROOF) Manual29,350 km1st OwnerPetrol₹24,057/month₹10,81,499Zero downpayment2017 Honda WR-V1.2 i-VTEC VX MT Manual28,854 km2nd OwnerPetrol₹18,014/month₹8,09,799Zero downpayment2019 Hyundai NEW SANTRO1.1 MAGNA MT Manual68,727 km1st OwnerPetrol₹11,382/month₹5,11,699Zero downpayment2018 Hyundai EonSPORTZ Manual24,742 km1st OwnerPetrol₹9,565/month₹4,29,999Zero downpayment2017 Honda CityV MT PETROL Manual53,541 km3rd OwnerPetrol₹17,008/month₹7,64,599Zero downpayment2014 Maruti Alto K10VXI Manual44,931 km1st OwnerPetrol₹7,879/month₹3,54,199Zero downpayment2018 Tata TiagoXZA 1.2 REVOTRON Automatic59,067 km2nd OwnerPetrol₹12,468/month₹5,60,499Zero downpayment2019 Tata HarrierXZ 2.0L Kryotec Manual40,634 km1st OwnerDiesel₹35,878/month₹16,12,899Zero downpayment2018 Maruti Wagon R 1.0VXI AMT Automatic14,116 km3rd OwnerPetrol₹11,489/month₹5,16,499Zero downpayment2020 Tata NEXONXZ+ 1.2 Manual13,101 km2nd OwnerPetrol₹23,208/month₹10,43,299Zero downpayment2017 Tata TiagoXZ 1.2 REVOTRON Manual58,724 km1st OwnerPetrol₹11,931/month₹5,36,355Zero downpayment2019 Hyundai Grand i10SPORTZ DUAL TONE 1.2 VTVT Manual43,379 km2nd OwnerPetrol₹13,371/month₹6,01,099Zero downpayment2020 Maruti S PRESSOVXI Manual8,304 km1st OwnerPetrol₹10,869/month₹4,88,599Zero downpayment2016 Hyundai Grand i10SPORTZ 1.2 KAPPA VTVT Manual72,128 km2nd OwnerPetrol₹10,973/month₹4,93,299Zero downpayment2018 Toyota YARISV MT Manual16,485 km1st OwnerPetrol₹19,682/month₹8,84,799Zero downpayment2016 Hyundai Grand i10SPORTZ 1.2 KAPPA VTVT Manual41,567 km1st OwnerPetrol₹11,458/month₹5,15,099Zero downpayment2015 Maruti Wagon R 1.0VXI Manual57,052 km2nd OwnerPetrol₹9,538/month₹4,28,799Zero downpayment2018 Ford FREESTYLETITANIUM 1.2 TI-VCT MT Manual29,851 km1st OwnerPetrol₹14,481/month₹6,50,999Zero downpayment2019 Maruti ErtigaZDI PLUS SHVS Manual45,575 km1st OwnerDiesel₹25,683/month₹11,54,599Zero downpayment2019 MG HECTORSHARP 2.0 DIESEL Manual13,146 km1st OwnerDiesel₹37,956/month₹17,06,299Zero downpayment2012 Maruti RitzVXI BS IV Manual60,268 km2nd OwnerPetrol₹8,026/month₹3,60,799Zero downpayment2020 Tata ALTROZXZ 1.2 Manual12,995 km1st OwnerPetrol₹18,031/month₹8,10,599Zero downpayment2019 Maruti Eeco7 STR Manual16,009 km2nd OwnerPetrol₹10,106/month₹4,54,299Zero downpayment2014 Maruti SwiftVXI Manual60,056 km1st OwnerPetrol₹10,978/month₹4,93,499Zero downpayment2016 Mahindra ScorpioS2 Manual1,32,162 km1st OwnerDiesel₹17,457/month₹7,84,799Zero downpayment2018 Maruti SwiftZXI AMT Automatic21,603 km1st OwnerPetrol₹16,038/month₹7,20,999Zero downpayment2019 Maruti New  Wagon-RVXI 1.0 Manual44,146 km1st OwnerPetrol₹12,512/month₹5,62,499Zero downpayment2019 Hyundai Elite i201.2 MAGNA PLUS VTVT Manual10,466 km1st OwnerPetrol₹16,310/month₹7,33,199Zero downpayment2013 Renault DusterRXE PETROL 104 Manual55,673 km2nd OwnerPetrol₹11,592/month₹5,21,099Zero downpayment2016 Maruti Swift DzireVXI Manual42,516 km2nd OwnerPetrol₹12,937/month₹5,81,599Zero downpayment2010 Maruti Alto K10VXI Manual30,034 km2nd OwnerPetrol₹5,868/month₹2,63,799Zero downpayment2017 Maruti Alto 800VXI Manual38,078 km3rd OwnerPetrol₹6,678/month₹3,00,199Zero downpayment2014 Renault DusterRXZ DIESEL 110 Manual75,602 km1st OwnerDiesel₹15,202/month₹6,83,399Zero downpayment2019 Hyundai VENUE1.0 Turbo GDI DCT AT SX+ DT Automatic28,397 km2nd OwnerPetrol₹26,153/month₹11,75,699Zero downpayment2011 Hyundai i10MAGNA 1.2 KAPPA2 Manual81,853 km2nd OwnerPetrol₹6,976/month₹3,13,599Zero downpayment2011 Maruti Alto K10LXI Manual43,174 km1st OwnerPetrol₹5,165/month₹2,32,199Zero downpayment2013 Maruti Alto 800LXI Manual46,716 km2nd OwnerPetrol₹6,013/month₹2,70,299Zero downpayment2013 Honda CityS MT PETROL Manual30,154 km2nd OwnerPetrol₹13,138/month₹5,90,599Zero downpayment ₹66,900 OFF2009 Toyota Innova2.5 V 8 STR Manual2,06,148 km2nd OwnerDiesel₹14,107/month₹6,34,199Zero downpayment₹7,01,0992019 Tata TiagoXZ 1.2 REVOTRON Manual16,513 km1st OwnerPetrol₹13,020/month₹5,85,299Zero downpayment2017 Maruti CelerioVXI Manual5,597 km2nd OwnerPetrol₹11,345/month₹5,09,999Zero downpayment2017 Maruti Alto 800LXI Manual15,223 km2nd OwnerPetrol₹7,423/month₹3,33,699Zero downpayment2020 Skoda RapidACTIVE 1.0 TSI Manual2,927 km1st OwnerPetrol₹23,962/month₹10,77,199Zero downpayment2020 Maruti Vitara BrezzaZXI + 21,789 km1st OwnerPetrol₹22,749/month₹10,22,699Zero downpayment2019 Renault TRIBER1.0 RXT Manual38,651 km1st OwnerPetrol₹14,922/month₹6,70,799Zero downpayment2010 Maruti A StarVXI Manual1,04,409 km2nd OwnerPetrol₹5,597/month₹2,51,599Zero downpayment2018 Ford Ecosport1.5 TITANIUM SIGNATURE TI VCT (SUNROOF) Manual13,696 km1st OwnerPetrol₹23,546/month₹10,58,499Zero downpayment2016 Hyundai i10SPORTZ 1.1 IRDE2 Manual21,844 km2nd OwnerPetrol₹9,665/month₹4,34,499Zero downpayment2019 Maruti Eeco5 STR WITH AC PLUSHTR Manual9,227 km1st OwnerPetrol₹10,617/month₹4,77,299Zero downpayment2019 Tata NEXONXZ+ 1.5 Manual23,753 km1st OwnerDiesel₹24,022/month₹10,79,899Zero downpayment2019 Hyundai VENUESX(O) CRDi Manual52,602 km1st OwnerDiesel₹23,691/month₹10,65,049Zero downpayment2013 Hyundai i10ERA 1.1 IRDE Manual65,554 km1st OwnerPetrol₹7,234/month₹3,25,199Zero downpayment2018 Tata TiagoXZA 1.2 REVOTRON Automatic51,528 km2nd OwnerPetrol₹12,853/month₹5,77,799Zero downpayment2019 Maruti Eeco5 STR WITH AC PLUSHTR Manual12,831 km1st OwnerPetrol₹10,495/month₹4,71,799Zero downpayment2012 Maruti Wagon R 1.0VXI Manual56,939 km1st OwnerPetrol₹7,837/month₹3,52,299Zero downpayment2014 Hyundai Grand i10ASTA 1.2 (O) VTVT Manual42,446 km1st OwnerPetrol₹10,820/month₹4,86,399Zero downpayment2020 Hyundai GRAND I10 NIOSASTA PETROL AMT Automatic5,132 km1st OwnerPetrol₹18,810/month₹8,45,599Zero downpayment2016 Hyundai EonERA PLUS Manual18,380 km2nd OwnerPetrol₹7,579/month₹3,40,699Zero downpayment2014 Hyundai EonMAGNA PLUS Manual54,775 km3rd OwnerPetrol₹6,620/month₹2,97,599Zero downpayment2017 Tata TiagoXM 1.2 REVOTRON Manual14,825 km2nd OwnerPetrol₹11,055/month₹4,96,999Zero downpayment2021 Hyundai Creta1.4 SX(O) TURBO GDI DCT Automatic8,595 km1st OwnerPetrol₹46,531/month₹20,91,799Zero downpayment2014 Maruti CelerioVXI Manual62,706 km1st OwnerPetrol₹9,621/month₹4,32,499Zero downpayment2018 Maruti BalenoZETA 1.2 K12 Manual7,642 km1st OwnerPetrol₹16,917/month₹7,60,499Zero downpayment2014 Hyundai Grand i10SPORTZ 1.2 KAPPA VTVT Manual48,843 km1st OwnerPetrol₹10,988/month₹4,93,955Zero downpayment2015 Renault KwidRXT Manual25,437 km1st OwnerPetrol₹7,876/month₹3,54,083Zero downpayment2015 Tata NanoXT TWIST Manual35,957 km1st OwnerPetrol₹4,413/month₹1,98,399Zero downpayment2020 Mahindra XUV 3OOW8 (O) DIESEL  AT Automatic25,164 km1st OwnerDiesel₹30,388/month₹13,66,099Zero downpayment2015 Honda Brio1.2 S MT I VTEC Manual42,562 km2nd OwnerPetrol₹9,516/month₹4,27,799Zero downpayment2019 Hyundai VENUE1.0 TURBO GDI SX+ AT Automatic21,458 km1st OwnerPetrol₹25,953/month₹11,66,699Zero downpayment2018 Hyundai Creta1.6 SX VTVT Manual19,669 km2nd OwnerPetrol₹26,090/month₹11,72,899Zero downpayment2021 Hyundai NEW I20ASTA (O) 1.2 MT 7,344 km1st OwnerPetrol₹21,633/month₹9,72,499Zero downpayment2014 Hyundai Grand i10SPORTZ 1.2 KAPPA VTVT Manual56,780 km1st OwnerPetrol₹10,424/month₹4,68,599Zero downpayment2018 Maruti DzireVXI Manual41,287 km1st OwnerPetrol₹15,233/month₹6,84,799Zero downpayment2015 Honda Jazz1.2 V MT Manual93,074 km2nd OwnerPetrol₹10,866/month₹4,88,499Zero downpayment2019 Hyundai Elite i201.2 MAGNA PLUS VTVT Manual13,956 km2nd OwnerPetrol₹15,671/month₹7,04,499Zero downpayment2013 Hyundai i10SPORTZ 1.2 KAPPA2 Manual50,681 km3rd OwnerPetrol₹8,070/month₹3,62,799Zero downpayment2013 Ford Figo1.2 TITANIUM DURATEC Manual28,022 km1st OwnerPetrol₹9,394/month₹4,22,299Zero downpayment2014 Maruti Wagon R 1.0VXI Manual58,449 km1st OwnerPetrol₹8,913/month₹4,00,699Zero downpayment2016 Maruti BalenoDELTA 1.2 K12 Manual45,873 km2nd OwnerPetrol₹13,916/month₹6,25,599Zero downpayment2019 Maruti Eeco5 STR WITH AC PLUSHTR Manual28,255 km1st OwnerPetrol₹10,938/month₹4,91,699Zero downpayment2021 Maruti S CrossZETA SHVS PETROL Manual14,298 km1st OwnerPetrol₹24,057/month₹10,81,499Zero downpayment2018 Maruti Eeco5 STR WITH AC PLUSHTR Manual29,034 km1st OwnerPetrol₹9,741/month₹4,37,899Zero downpayment2012 Maruti Wagon R 1.0VXI Manual53,628 km1st OwnerPetrol₹7,770/month₹3,49,299Zero downpayment2017 Hyundai Elite i20ASTA 1.2 (O) Manual40,853 km2nd OwnerPetrol₹16,141/month₹7,25,599Zero downpayment2017 Honda CityV MT PETROL Manual33,735 km1st OwnerPetrol₹19,241/month₹8,64,999Zero downpayment2017 Ford Ecosport1.0 ECOBOOST TITANIUM + 21,429 km1st OwnerPetrol₹19,929/month₹8,95,899Zero downpayment2020 Volkswagen VentoHIGHLINE PLUS 1.0 TSI AT Automatic8,896 km1st OwnerPetrol₹30,688/month₹13,79,599Zero downpayment2018 Hyundai Elite i20ASTA 1.2 Manual18,796 km1st OwnerPetrol₹17,564/month₹7,89,599Zero downpayment2010 Maruti Wagon R 1.0VXI Manual69,786 km1st OwnerPetrol₹6,940/month₹3,11,999Zero downpayment2015 Ford Figo1.2 EXI DURATEC Manual50,751 km1st OwnerPetrol₹7,895/month₹3,54,899Zero downpayment2012 Maruti Alto K10VXI Manual59,700 km1st OwnerPetrol₹6,684/month₹3,00,499Zero downpayment2018 Hyundai NEW SANTROASTA 1.1 MT Manual55,458 km2nd OwnerPetrol₹12,094/month₹5,43,699Zero downpayment2020 Toyota YARISVX CVT Automatic6,494 km2nd OwnerPetrol₹26,862/month₹12,07,599Zero downpayment2018 Hyundai NEW SANTROERA 1.1 Manual19,797 km1st OwnerPetrol₹10,186/month₹4,57,899Zero downpayment2017 Maruti BalenoDELTA 1.2 K12 Manual31,126 km1st OwnerPetrol₹14,659/month₹6,58,999Zero downpayment2012 Maruti Wagon R 1.0VXI Manual81,614 km1st OwnerPetrol₹7,545/month₹3,39,199Zero downpayment2018 Ford FREESTYLETITANIUM 1.2 TI-VCT MT Manual31,845 km1st OwnerPetrol₹15,524/month₹6,97,899Zero downpayment2016 Maruti Alto K10VXI AMT Automatic57,468 km1st OwnerPetrol₹9,174/month₹4,12,399Zero downpayment2018 Maruti Alto K10VXI (O) AMT Automatic13,700 km2nd OwnerPetrol₹10,379/month₹4,66,599Zero downpayment2014 Maruti Alto K10VXI Manual66,077 km2nd OwnerPetrol₹7,245/month₹3,25,699Zero downpayment2015 Maruti Wagon R 1.0VXI Manual33,398 km1st OwnerPetrol₹9,463/month₹4,25,399Zero downpayment2017 Maruti Alto 800LXI OPT Manual27,535 km1st OwnerPetrol₹8,295/month₹3,72,899Zero downpayment2017 Maruti IGNISALPHA 1.2 K12 DUAL TONE Manual1,02,825 km1st OwnerPetrol₹12,110/month₹5,44,399Zero downpayment2017 Maruti Alto K10VXI (O) AMT Automatic23,789 km1st OwnerPetrol₹9,661/month₹4,34,299Zero downpayment2020 Tata NEXONXZA+ SUNROOF 1.2 RTN Automatic3,702 km1st OwnerPetrol₹29,436/month₹13,23,299Zero downpayment2010 Honda CityS MT PETROL Manual89,104 km1st OwnerPetrol₹9,220/month₹4,14,499Zero downpayment2019 Hyundai VENUESX(O) CRDi Manual18,078 km1st OwnerDiesel₹25,832/month₹11,61,299Zero downpayment2019 KIA SELTOSGTX 1.4 GDI AT PETROL Automatic15,504 km1st OwnerPetrol₹36,588/month₹16,44,799Zero downpayment2013 Maruti SwiftVXI Manual62,191 km3rd OwnerPetrol₹9,808/month₹4,40,899Zero downpayment2019 Hyundai Creta1.6 SX (O) VTVT Manual60,290 km1st OwnerPetrol₹27,016/month₹12,14,499Zero downpayment2014 Honda Brio1.2 VX MT I VTEC Manual41,966 km3rd OwnerPetrol₹8,678/month₹3,90,099Zero downpayment2014 Hyundai i20SPORTZ 1.2 VTVT Manual89,272 km2nd OwnerPetrol₹10,844/month₹4,87,499Zero downpayment2015 Ford Ecosport1.0 ECOBOOST TITANIUM Manual1,49,311 km1st OwnerPetrol₹13,149/month₹5,91,099Zero downpayment2014 Maruti CelerioVXI AMT Automatic1,51,697 km1st OwnerPetrol₹8,602/month₹3,86,699Zero downpayment2017 Hyundai Elite i20ASTA 1.2 (O) Manual59,278 km2nd OwnerPetrol₹15,242/month₹6,85,199Zero downpayment2020 Honda Amaze1.2 V MT I-VTEC Manual12,962 km1st OwnerPetrol₹14,210/month₹6,38,799Zero downpayment2015 Hyundai EonD LITE PLUS Manual54,182 km1st OwnerPetrol₹6,765/month₹3,04,099Zero downpayment2015 Renault DusterRXZ PACK DIESEL 110 Manual34,879 km2nd OwnerDiesel₹16,786/month₹7,54,599Zero downpayment2020 Hyundai CretaE Manual31,432 km1st OwnerDiesel₹29,116/month₹13,08,899Zero downpayment2014 Maruti ErtigaVXI Anniversary Edition Manual49,021 km1st OwnerPetrol₹16,441/month₹7,39,099Zero downpayment2012 Honda CityS MT PETROL Manual47,230 km1st OwnerPetrol₹12,221/month₹5,49,399Zero downpayment2014 Nissan TerranoXL PLUS 85 PS DEISEL Manual74,866 km1st OwnerDiesel₹14,332/month₹6,44,299Zero downpayment2019 Maruti New  Wagon-RVXI 1.2L Manual20,745 km2nd OwnerPetrol₹13,207/month₹5,93,699Zero downpayment2015 Hyundai i10MAGNA 1.1 IRDE2 Manual20,439 km2nd OwnerPetrol₹8,985/month₹4,03,899Zero downpayment2020 KIA SONETGTX PLUS DCT 1.0 6,804 km1st OwnerPetrol₹32,079/month₹14,42,099Zero downpayment2014 Honda Amaze1.2 EXMT I VTEC Manual44,373 km2nd OwnerPetrol₹10,192/month₹4,58,199Zero downpayment2017 Maruti CelerioVXI Manual29,343 km2nd OwnerPetrol₹9,578/month₹4,30,572Zero downpayment2014 Maruti RitzVXI BS IV Manual52,168 km2nd OwnerPetrol₹9,114/month₹4,09,699Zero downpayment2016 Renault KwidRXL Manual21,739 km3rd OwnerPetrol₹7,463/month₹3,35,499Zero downpayment2016 Hyundai Elite i20SPORTZ 1.2 Manual23,457 km2nd OwnerPetrol₹13,342/month₹5,99,799Zero downpayment2016 Renault KwidRXL Manual34,036 km2nd OwnerPetrol₹7,519/month₹3,37,999Zero downpayment2011 Maruti Alto K10VXI Manual50,343 km1st OwnerPetrol₹6,469/month₹2,90,799Zero downpayment2014 Hyundai XcentS 1.2 Manual53,114 km1st OwnerPetrol₹10,591/month₹4,76,099Zero downpayment2012 Hyundai VernaFLUIDIC 1.6 SX VTVT Manual89,993 km1st OwnerPetrol₹11,614/month₹5,22,099Zero downpayment2019 MG HECTORSHARP 2.0 DIESEL Manual10,258 km1st OwnerDiesel₹41,837/month₹18,80,799Zero downpayment2017 Tata TiagoXM 1.2 REVOTRON Manual22,029 km1st OwnerPetrol₹11,289/month₹5,07,499Zero downpayment2016 Hyundai VernaFLUIDIC 1.4 VTVT Manual46,194 km2nd OwnerPetrol₹15,068/month₹6,77,399Zero downpayment2019 Hyundai VENUE1.4 CRDI MT SX Manual49,093 km1st OwnerDiesel₹21,973/month₹9,87,799Zero downpayment2016 Toyota Corolla AltisGL Manual71,783 km1st OwnerPetrol₹26,168/month₹11,76,399Zero downpayment2020 KIA SELTOSHTK 1.5 PETROL Manual12,919 km1st OwnerPetrol₹26,698/month₹12,00,199Zero downpayment2017 Mahindra XUV500W6 4X2 Manual52,728 km1st OwnerDiesel₹27,029/month₹12,15,099Zero downpayment2019 Renault DusterRXS 85 PS Manual44,793 km1st OwnerDiesel₹21,397/month₹9,61,899Zero downpayment2017 Maruti Alto 800LXI Manual30,122 km2nd OwnerPetrol₹7,423/month₹3,33,699Zero downpayment2016 Honda BR-V1.5 i-VTEC VX Manual62,105 km2nd OwnerPetrol₹17,560/month₹7,89,399Zero downpayment2016 Tata TiagoXZ 1.2 REVOTRON Manual37,086 km1st OwnerPetrol₹11,213/month₹5,04,099Zero downpayment2020 KIA SELTOSHTX 1.5 DIESEL Manual25,084 km1st OwnerDiesel₹35,931/month₹16,15,299Zero downpayment2017 Maruti Alto 800VXI Manual39,323 km2nd OwnerPetrol₹7,029/month₹3,15,999Zero downpayment2014 Hyundai i10SPORTZ 1.1 IRDE2 Manual86,232 km1st OwnerPetrol₹8,404/month₹3,77,799Zero downpayment2017 Mahindra XUV500W6 4X2 Manual61,078 km2nd OwnerDiesel₹27,007/month₹12,14,099Zero downpayment2016 Hyundai Elite i20SPORTZ 1.2 Manual97,516 km1st OwnerPetrol₹13,155/month₹5,91,399Zero downpayment2012 Honda CityV MT PETROL Manual68,473 km1st OwnerPetrol₹12,234/month₹5,49,999Zero downpayment2016 Honda Jazz1.2 S MT Manual19,613 km1st OwnerPetrol₹14,446/month₹6,49,399Zero downpayment2017 Tata TiagoXM 1.2 REVOTRON Manual19,389 km1st OwnerPetrol₹11,431/month₹5,13,899Zero downpayment2019 Maruti Alto K10VXI Manual15,226 km2nd OwnerPetrol₹8,015/month₹3,60,299Zero downpayment2018 Maruti Wagon R 1.0VXI AMT Automatic2,466 km1st OwnerPetrol₹12,315/month₹5,53,599Zero downpayment2015 Maruti SwiftVXI Manual50,156 km1st OwnerPetrol₹11,634/month₹5,22,999Zero downpayment2015 Hyundai i20 Active1.2 S Manual1,03,742 km2nd OwnerPetrol₹12,277/month₹5,51,899Zero downpayment2014 Hyundai Grand i10SPORTZ 1.2 KAPPA VTVT Manual44,982 km1st OwnerPetrol₹10,397/month₹4,67,399Zero downpayment2019 Renault KwidRXL Manual17,438 km1st OwnerPetrol₹9,365/month₹4,20,999Zero downpayment2015 Maruti Wagon R 1.0VXI Manual16,082 km2nd OwnerPetrol₹9,056/month₹4,07,099Zero downpayment2018 Hyundai Grand i10MAGNA 1.2 KAPPA VTVT Manual35,833 km3rd OwnerPetrol₹10,708/month₹4,81,399Zero downpayment2016 Maruti CelerioZXI AMT Automatic77,196 km3rd OwnerPetrol₹9,765/month₹4,38,999Zero downpayment2015 Renault DusterRXL 110PS EXPLORER Manual94,468 km2nd OwnerDiesel₹15,458/month₹6,94,899Zero downpayment2012 Hyundai EonERA PLUS Manual47,477 km1st OwnerPetrol₹6,366/month₹2,86,199Zero downpayment2016 Hyundai EonSPORTZ Manual19,087 km2nd OwnerPetrol₹8,108/month₹3,64,499Zero downpayment2016 Honda Jazz1.2 S MT Manual45,476 km2nd OwnerPetrol₹13,175/month₹5,92,299Zero downpayment2015 Hyundai Grand i10SPORTZ 1.2 KAPPA VTVT Manual20,631 km2nd OwnerPetrol₹11,060/month₹4,97,199Zero downpayment2017 Maruti CelerioVXI AMT Automatic51,061 km1st OwnerPetrol₹10,497/month₹4,71,899Zero downpayment2019 Maruti New  Wagon-RVXI 1.0 Manual28,384 km2nd OwnerPetrol₹12,677/month₹5,69,899Zero downpayment2016 Hyundai i10SPORTZ 1.1 IRDE2 Manual48,066 km1st OwnerPetrol₹9,665/month₹4,34,499Zero downpayment2017 Maruti Alto 800VXI Manual27,828 km3rd OwnerPetrol₹7,029/month₹3,15,999Zero downpayment2016 Hyundai EonMAGNA PLUS Manual70,486 km2nd OwnerPetrol₹6,740/month₹3,02,999Zero downpayment2016 Tata TiagoXM 1.2 REVOTRON Manual43,388 km1st OwnerPetrol₹11,251/month₹5,05,799Zero downpayment2018 Hyundai VernaEX 1.6 VTVT AT Automatic31,462 km2nd OwnerPetrol₹21,737/month₹9,77,199Zero downpayment2015 Datsun GoT Manual68,882 km2nd OwnerPetrol₹6,171/month₹2,77,399Zero downpayment2021 Maruti S PRESSOVXI Manual1,073 km1st OwnerPetrol₹11,173/month₹5,02,299Zero downpayment2014 Maruti Alto K10VXI Manual49,166 km1st OwnerPetrol₹6,885/month₹3,09,499Zero downpayment2014 Hyundai Grand i10SPORTZ 1.2 KAPPA VTVT Manual53,732 km1st OwnerPetrol₹10,362/month₹4,65,825Zero downpayment2018 Renault KwidRXL Manual41,252 km2nd OwnerPetrol₹8,399/month₹3,77,599Zero downpayment2016 Renault KwidRXL Manual46,725 km1st OwnerPetrol₹7,657/month₹3,44,199Zero downpayment2018 Renault KwidRXL Manual71,954 km1st OwnerPetrol₹8,346/month₹3,75,199Zero downpayment2018 Hyundai NEW SANTROASTA 1.1 MT Manual8,331 km1st OwnerPetrol₹12,579/month₹5,65,499Zero downpayment2019 Hyundai NEW SANTRO1.1 SPORTS AMT Automatic9,782 km2nd OwnerPetrol₹13,042/month₹5,86,299Zero downpayment2020 Hyundai VENUESX 1.0 GDI IMT Manual14,463 km1st OwnerPetrol₹24,787/month₹11,14,299Zero downpayment2015 Maruti Alto 800LXI Manual65,903 km1st OwnerPetrol₹6,671/month₹2,99,899Zero downpayment2020 Maruti Vitara BrezzaVXI Manual48,224 km1st OwnerPetrol₹19,651/month₹8,83,399Zero downpayment2015 Hyundai i20 Active1.2 S Manual12,657 km2nd OwnerPetrol₹13,700/month₹6,15,899Zero downpayment2013 Maruti Alto K10VXI Manual54,968 km1st OwnerPetrol₹6,611/month₹2,97,199Zero downpayment2016 Hyundai Elite i20ASTA 1.2 Manual28,693 km2nd OwnerPetrol₹14,795/month₹6,65,099Zero downpayment2013 Honda Amaze1.2 VXMT I VTEC Manual71,907 km3rd OwnerPetrol₹9,458/month₹4,25,199Zero downpayment2014 Maruti RitzVXI BS IV Manual1,08,378 km1st OwnerPetrol₹8,802/month₹3,95,699Zero downpayment2015 Hyundai Grand i10ASTA 1.2 KAPPA VTVT Manual41,590 km1st OwnerPetrol₹11,176/month₹5,02,399Zero downpayment2019 Ford Ecosport1.5 TITANIUM TI VCT Manual30,842 km1st OwnerPetrol₹20,314/month₹9,13,199Zero downpayment2018 Maruti Eeco5 STR WITH AC PLUSHTR Manual18,335 km1st OwnerPetrol₹9,296/month₹4,17,899Zero downpayment2019 Honda WR-V1.2 i-VTEC VX MT Manual31,861 km1st OwnerPetrol₹18,303/month₹8,22,799Zero downpayment2017 Tata TiagoXZ 1.2 REVOTRON Manual26,341 km3rd OwnerPetrol₹10,713/month₹4,81,599Zero downpayment2017 Hyundai Elite i20ASTA 1.2 DUAL TONE Manual39,920 km1st OwnerPetrol₹15,182/month₹6,82,499Zero downpayment2012 Maruti Alto K10VXI Manual63,580 km1st OwnerPetrol₹6,531/month₹2,93,599Zero downpayment2020 MG HECTOR PLUSSHARP HYBRID PETROL Manual6,774 km1st OwnerPetrol₹43,074/month₹19,36,399Zero downpayment2017 Tata HexaVaricor 400 XTA Automatic84,534 km1st OwnerDiesel₹29,394/month₹13,21,399Zero downpayment2015 Maruti Wagon R 1.0VXI Manual31,238 km1st OwnerPetrol₹9,774/month₹4,39,399Zero downpayment2015 Maruti Alto K10VXI Manual22,694 km2nd OwnerPetrol₹7,570/month₹3,40,299Zero downpayment2015 Hyundai Grand i10SPORTZ 1.2 KAPPA VTVT Manual23,413 km2nd OwnerPetrol₹10,782/month₹4,84,699Zero downpayment2014 Maruti Wagon R 1.0VXI Manual26,907 km2nd OwnerPetrol₹9,405/month₹4,22,799Zero downpayment2019 Maruti Eeco5 STR WITH AC PLUSHTR Manual22,085 km2nd OwnerPetrol₹10,544/month₹4,73,999Zero downpayment2018 Maruti IGNISZETA 1.2 K12 Manual22,384 km1st OwnerPetrol₹13,144/month₹5,90,868Zero downpayment2014 Maruti Wagon R 1.0VXI Manual47,077 km1st OwnerPetrol₹9,271/month₹4,16,799Zero downpayment2015 Hyundai Grand i10SPORTZ 1.2 KAPPA VTVT Manual37,149 km2nd OwnerPetrol₹11,222/month₹5,04,499Zero downpayment2018 Maruti DzireVXI Manual35,949 km1st OwnerPetrol₹15,467/month₹6,95,299Zero downpayment2014 Maruti CelerioVXI Manual1,67,730 km1st OwnerPetrol₹7,708/month₹3,46,499Zero downpayment2013 Maruti Alto 800LXI OPT Manual59,664 km2nd OwnerPetrol₹6,729/month₹3,02,499Zero downpayment2015 Hyundai Elite i20ASTA 1.2 Manual58,292 km1st OwnerPetrol₹14,454/month₹6,49,799Zero downpayment2018 Maruti DzireVXI Manual22,899 km2nd OwnerPetrol₹15,507/month₹6,97,099Zero downpayment2016 Honda Jazz1.2 V MT Manual62,316 km1st OwnerPetrol₹14,612/month₹6,56,899Zero downpayment2017 Honda Jazz1.2 V AT Automatic56,167 km1st OwnerPetrol₹16,116/month₹7,24,499Zero downpayment2013 Maruti Wagon R 1.0VXI Manual47,744 km1st OwnerPetrol₹8,833/month₹3,97,099Zero downpayment2018 Maruti Eeco5 STR WITH AC PLUSHTR Manual32,381 km1st OwnerPetrol₹9,449/month₹4,24,799Zero downpayment2016 Hyundai Elite i20ASTA 1.2 (O) Manual44,580 km2nd OwnerPetrol₹14,906/month₹6,70,099Zero downpayment2020 Hyundai Grand i10SPORTZ 1.2 KAPPA VTVT Manual27,229 km1st OwnerPetrol₹13,985/month₹6,28,699Zero downpayment2019 Maruti CiazALPHA 1.5 MT VTVT SHVS Manual28,777 km1st OwnerPetrol₹21,404/month₹9,62,199Zero downpayment2018 Maruti CelerioZXI Manual61,156 km2nd OwnerPetrol₹11,071/month₹4,97,699Zero downpayment2014 Maruti Wagon R 1.0VXI Manual44,771 km2nd OwnerPetrol₹9,051/month₹4,06,899Zero downpayment2019 Hyundai GRAND I10 NIOSSPORTZ PETROL Manual16,674 km1st OwnerPetrol₹15,148/month₹6,80,999Zero downpayment2018 Maruti DzireVXI Manual71,937 km1st OwnerPetrol₹14,635/month₹6,57,899Zero downpayment2017 Tata TiagoXZ 1.2 REVOTRON Manual69,295 km2nd OwnerPetrol₹11,320/month₹5,08,879Zero downpayment2017 Renault DusterRXZ DIESEL 110 Manual96,948 km1st OwnerDiesel₹18,785/month₹8,44,499Zero downpayment2016 Maruti Alto K10VXI AMT Automatic21,535 km2nd OwnerPetrol₹9,049/month₹4,06,799Zero downpayment2018 Maruti Alto K10VXI Manual10,885 km1st OwnerPetrol₹9,223/month₹4,14,599Zero downpayment2015 Renault KwidRXT Manual66,655 km2nd OwnerPetrol₹7,114/month₹3,19,799Zero downpayment2019 Maruti Alto K10VXI AMT Automatic9,025 km1st OwnerPetrol₹11,091/month₹4,98,599Zero downpayment2016 Hyundai Grand i10SPORTS 1.2 VTVT Manual35,352 km2nd OwnerPetrol₹11,158/month₹5,01,599Zero downpayment2017 Renault KwidCLIMBER 1.0 AT Automatic31,704 km2nd OwnerPetrol₹10,517/month₹4,72,799Zero downpayment2016 Maruti BalenoZETA 1.2 K12 Manual59,043 km2nd OwnerPetrol₹14,139/month₹6,35,599Zero downpayment2017 Maruti S CrossALPHA SHVS Manual64,010 km1st OwnerDiesel₹24,771/month₹11,13,599Zero downpayment2014 Maruti Alto K10VXI Manual60,859 km1st OwnerPetrol₹7,745/month₹3,48,199Zero downpayment2017 Hyundai i20 Active1.2 S Manual39,231 km2nd OwnerPetrol₹14,214/month₹6,38,999Zero downpayment2017 Maruti Alto 800LXI Manual42,804 km1st OwnerPetrol₹7,423/month₹3,33,699Zero downpayment2016 Honda Jazz1.2 V MT Manual22,914 km2nd OwnerPetrol₹15,220/month₹6,84,199Zero downpayment2016 Honda Jazz1.2 V MT Manual16,256 km1st OwnerPetrol₹15,894/month₹7,14,499Zero downpayment2014 Maruti Wagon R 1.0VXI Manual51,840 km2nd OwnerPetrol₹8,506/month₹3,82,399Zero downpayment2017 Maruti Alto 800LXI Manual44,090 km1st OwnerPetrol₹7,423/month₹3,33,699Zero downpayment2012 Maruti Alto K10VXI Manual55,122 km1st OwnerPetrol₹6,689/month₹3,00,699Zero downpayment2016 Hyundai Grand i10SPORTZ 1.2 KAPPA VTVT Manual29,328 km1st OwnerPetrol₹11,992/month₹5,39,099Zero downpayment2016 Volkswagen VentoHIGHLINE 1.2 TSI AT Automatic76,801 km2nd OwnerPetrol₹17,640/month₹7,92,999Zero downpayment2017 Honda CityVX MT PETROL Manual46,539 km2nd OwnerPetrol₹18,563/month₹8,34,499Zero downpayment2017 Ford Ecosport1.0 ECOBOOST TITANIUM OPT Manual26,743 km1st OwnerPetrol₹17,987/month₹8,08,599Zero downpayment2016 Maruti Alto K10VXI Manual48,418 km1st OwnerPetrol₹7,823/month₹3,51,699Zero downpayment2017 Maruti BalenoDELTA 1.2 K12 Manual34,922 km2nd OwnerPetrol₹14,537/month₹6,53,499Zero downpayment2018 Maruti Alto K10VXI Manual8,673 km2nd OwnerPetrol₹9,352/month₹4,20,399Zero downpayment2015 Maruti Wagon R 1.0VXI Manual70,052 km2nd OwnerPetrol₹8,873/month₹3,98,899Zero downpayment2018 Maruti Alto 800VXI Manual37,065 km2nd OwnerPetrol₹7,189/month₹3,23,199Zero downpayment2016 Maruti Alto K10VXI Manual27,380 km1st OwnerPetrol₹8,104/month₹3,64,299Zero downpayment2018 Maruti Wagon R 1.0VXI Manual75,304 km1st OwnerPetrol₹9,234/month₹4,15,099Zero downpayment2017 Maruti Alto K10VXI OPT Manual20,218 km2nd OwnerPetrol₹8,726/month₹3,92,299Zero downpayment2020 Maruti S PRESSOVXI PLUS Manual39,815 km1st OwnerPetrol₹10,993/month₹4,94,199Zero downpayment2018 Ford FREESTYLETITANIUM 1.2 TI-VCT MT Manual26,721 km2nd OwnerPetrol₹15,006/month₹6,74,599Zero downpayment2017 Hyundai Grand i10ASTA 1.2 VTVT Manual31,225 km3rd OwnerPetrol₹12,744/month₹5,72,899Zero downpayment2018 Maruti IGNISZETA 1.2 K12 Manual23,360 km1st OwnerPetrol₹13,207/month₹5,93,699Zero downpayment2016 Maruti Wagon R 1.0VXI Manual38,756 km2nd OwnerPetrol₹9,725/month₹4,37,199Zero downpayment2018 Maruti Alto K10VXI Manual30,178 km1st OwnerPetrol₹8,994/month₹4,04,327Zero downpayment2016 Maruti Alto K10VXI AMT Automatic39,595 km2nd OwnerPetrol₹8,920/month₹4,00,999Zero downpayment2018 Maruti Alto K10VXI Manual21,723 km1st OwnerPetrol₹9,134/month₹4,10,599Zero downpayment2015 Maruti Wagon R 1.0VXI Manual50,444 km1st OwnerPetrol₹9,356/month₹4,20,599Zero downpayment2019 Maruti S PRESSOVXI Manual37,967 km1st OwnerPetrol₹9,269/month₹4,16,699Zero downpayment2021 Maruti AltoVXI PLUS Manual8,062 km2nd OwnerPetrol₹10,077/month₹4,52,999Zero downpayment2018 Maruti Wagon R 1.0VXI Manual30,889 km1st OwnerPetrol₹11,118/month₹4,99,799Zero downpayment2016 Maruti Wagon R 1.0VXI AMT Automatic72,711 km2nd OwnerPetrol₹9,739/month₹4,37,799Zero downpayment2018 Ford FREESTYLETITANIUM 1.2 TI-VCT MT Manual37,791 km1st OwnerPetrol₹14,558/month₹6,54,466Zero downpayment2020 Maruti AltoLXI Manual12,428 km1st OwnerPetrol₹9,209/month₹4,13,999Zero downpayment2018 Toyota YARISV CVT Automatic59,673 km1st OwnerPetrol₹19,439/month₹8,73,899Zero downpayment2009 Maruti Wagon RLXI Manual47,292 km2nd OwnerPetrol₹5,450/month₹2,44,999Zero downpayment2019 Volkswagen PoloTrendline 1.0 L Petrol Manual20,017 km1st OwnerPetrol₹12,953/month₹5,82,299Zero downpayment2020 KIA SONETHTK PLUS 3,210 km1st OwnerPetrol₹23,759/month₹10,68,099Zero downpayment2012 Maruti Alto 800LXI Manual38,094 km3rd OwnerPetrol₹5,543/month₹2,49,199Zero downpayment2017 Hyundai Creta1.6 CRDI SX PLUS AUTO Automatic22,475 km3rd OwnerDiesel₹27,323/month₹12,28,299Zero downpayment2018 Tata HexaVaricor 400 XTA Automatic15,278 km1st OwnerDiesel₹38,730/month₹17,41,099Zero downpayment2018 Maruti SwiftVDI Manual77,606 km1st OwnerDiesel₹15,073/month₹6,77,599Zero downpayment2014 Toyota Innova2.5 VX 8 STR BS IV Manual1,87,671 km2nd OwnerDiesel₹24,516/month₹11,02,099Zero downpayment2013 Volkswagen PoloGT TSI 1.2 PETROL AT Automatic69,780 km2nd OwnerPetrol₹14,590/month₹6,55,899Zero downpayment2010 Maruti RitzVXI ABS Manual1,43,272 km1st OwnerPetrol₹6,600/month₹2,96,699Zero downpayment2013 Honda Brio1.2 V AT Automatic48,494 km1st OwnerPetrol₹11,367/month₹5,10,999Zero downpayment2014 Hyundai i20SPORTZ 1.4 CRDI Manual47,240 km3rd OwnerDiesel₹11,714/month₹5,26,599Zero downpayment2015 Hyundai VernaFLUIDIC 1.6 VTVT S (O)  MT Manual62,844 km1st OwnerPetrol₹15,671/month₹7,04,499Zero downpayment2018 Maruti SwiftZXI AMT Automatic34,445 km1st OwnerPetrol₹15,949/month₹7,16,999Zero downpayment2015 Honda CitySV MT PETROL Manual32,714 km1st OwnerPetrol₹14,975/month₹6,73,199Zero downpayment2019 Maruti Eeco7 STR Manual8,920 km1st OwnerPetrol₹10,811/month₹4,85,999Zero downpayment2016 Maruti Wagon R 1.0VXI Manual31,187 km1st OwnerPetrol₹9,336/month₹4,19,699Zero downpayment2016 Maruti Wagon R 1.0VXI Manual74,625 km2nd OwnerPetrol₹8,282/month₹3,72,299Zero downpayment2017 Maruti BalenoALPHA 1.2 K12 Manual31,020 km1st OwnerPetrol₹15,960/month₹7,17,499Zero downpaymentOther CitiesBengaluruMysoreSalemCoimbatoreTiruchirappalliCalicutChennaiMangaloreThrissurMaduraiWhat our Users have to say! PreviousSrijan NancyBengaluruMay 2022RENAULT TRIBER  5User rating“I was impressed by the speed of thetransaction and the quality of theRENAULT TRIBER I bought. I w... read more... read moreValue for money : Experience :Ease of process :Bhima MunshiBengaluruMay 2022TATA INDICA  4.5User rating“The TATA INDICA I bought from CARS24was in excellent condition. At first, I washesitant to buy a used car, ... read more... read moreValue for money : Experience :Ease of process :Vinod PadhyaBengaluruMay 2022RENAULT KWID  4.5User rating“The Renault Kwid is a great city car. Ienjoyed driving one during my lastvacation. I liked it so much t... read more... read moreValue for money : Experience :Ease of process :Benegal BhardvajBengaluruMay 2022HYUNDAI VERNA  5User rating“I had heard that buying a second-handcar was difficult and complicated, butwith CARS24, it all went smo... read more... read moreValue for money : Experience :Ease of process :Jawahar GanapuliBengaluruMay 2022HYUNDAI I10  4.5User rating“I was looking for a car for my motherand found a used Hyundai I10 onCARS24. The staff were grea... read more... read moreValue for money : Experience :Ease of process :Rekha DeshmukhBengaluruMay 2022VOLKSWAGEN VENTO  5User rating“I'd recommend the team at CARS24 toanyone looking to buy a car. They had agreat selection of vehicles, ... read more... read moreValue for money : Experience :Ease of process :Jayanti NavatheBengaluruMay 2022BMW X6  4.5User rating“I needed a car ASAP, and the team atCARS24 offered me a great deal on aBMW X6. I would recommen... read more... read moreValue for money : Experience :Ease of process :Durgawati DalavBengaluruMay 2022SKODA OCTAVIA  5User rating“I was searching for a car online when Ifound CARS24, and I found a car I loved!The SKODA OCTAVIA was in ... read more... read moreValue for money : Experience :Ease of process :Ayaan LataBengaluruMay 2022SKODA OCTAVIA  4User rating“I would definitely recommend buying acar from CARS24. The customer servicewas excellent; I couldn't hav... read more... read moreValue for money : Experience :Ease of process :Kavuri HeravdakarBengaluruMay 2022HONDA CITY  5User rating“I wanted to buy a used car, and I askedfor recommendations. A friend said hehad heard good things abo... read more... read moreValue for money : Experience :Ease of process :Krishan ParachureBengaluruMay 2022HYUNDAI ACCENT  4.5User rating“I was surprised at the condition of theHyundai Accent I bought from CARS24. Itwas immaculate and had t... read more... read moreValue for money : Experience :Ease of process :Shambhavi LimbuBengaluruMay 2022CHEVROLET SAIL  5User rating“I am so happy with my purchase fromCARS24. Buying a used car online was agreat idea, and I was able t... read more... read moreValue for money : Experience :Ease of process :Durgautti RajavadeBengaluruMay 2022FORD ENDEAVOUR  5User rating“I always knew that when I was in themarket for a new car, I would chooseCARS24. Through the years, ... read more... read moreValue for money : Experience :Ease of process :Rudra GurnaniBengaluruMay 2022HYUNDAI ACCENT  4.5User rating“I was looking around for asecond-hand car for a while before Icame across CARS24. I foun... read more... read moreValue for money : Experience :Ease of process :Prakash ThakarBengaluruMay 2022MARUTI SUZUKI WAGON R  4.5User rating“I had been looking around for a while,and nothing I saw could compare to theMaruti Suzuki Wagon R I bou... read more... read moreValue for money : Experience :Ease of process :Vishnu DalaviBengaluruMay 2022MARUTI SUZUKI VITARA BREZZA  5User rating“When I was looking for a used car, Ispent a lot of time looking online. I was alittle nervous about buying ... read more... read moreValue for money : Experience :Ease of process :Chunder MallayBengaluruMay 2022AUDI Q3  4.5User rating“CARS24 got me into the perfect car. Itwas just the vehicle I was looking for,and I'm so happy that I bou... read more... read moreValue for money : Experience :Ease of process :Yogarasa MunshiBengaluruMay 2022TATA TIGOR  5User rating“The whole team at CARS24 was veryhelpful and accommodatingthroughout the process. I b... read more... read moreValue for money : Experience :Ease of process :Kalyani DevadBengaluruMay 2022FORD ENDEAVOUR  4.5User rating“I was looking for an SUV, and I saw theFord Endeavour on the CARS24 website. Ifound the car to be in excell... read more... read moreValue for money : Experience :Ease of process :Kalyani SharmaBengaluruMay 2022TATA MANZA  4.5User rating“I was surprised to find a TATA MANZA ingood condition at such a low price. Toogood to be true, right? Well, ... read more... read moreValue for money : Experience :Ease of process :Akshey TalavalakarBengaluruMay 2022HYUNDAI VERNA  4.5User rating“I had an amazing experience withCARS24. They are very polite andaccommodating. The Hyun... read more... read moreValue for money : Experience :Ease of process :Chhaya AhujaBengaluruMay 2022HYUNDAI SANTRO  5User rating“Buying a used car from CARS24 wassuch a pleasure! I came across theirwebsite when searching for ... read more... read moreValue for money : Experience :Ease of process :Karan JhaBengaluruApr 2021HONDA CITY  4.5User rating“The team at CARS24 is fantastic! Theywere so helpful and made the wholeprocess so easy. I was plea... read more... read moreValue for money : Experience :Ease of process :Parashiv KamatBengaluruApr 2021MARUTI SUZUKI WAGON R 1.0  5User rating“I'm very happy with the MARUTI SUZUKIWAGON R 1.0 that I bought from CARS24.The transaction was smoot... read more... read moreValue for money : Experience :Ease of process :Lipika AhluwaliaBengaluruApr 2021MAHINDRA SCORPIO  5User rating“The team at CARS24 is veryprofessional and helpful. I was veryhappy with the Mahindra Sc... read more... read moreValue for money : Experience :Ease of process :Rehan AhmedBengaluruApr 2021TATA Harrier  4User rating“The team at CARS24 is fantastic! Theywere so helpful and made the wholeprocess so easy. I was plea... read more... read moreValue for money : Experience :Ease of process :Rehan AbbasBengaluruApr 2021BMW 5 SERIES  4.5User rating“I had a great experience buying myBMW 5 SERIES from CARS24. The staffwas professional and helpf... read more... read moreValue for money : Experience :Ease of process :Rehan SayyedBengaluruApr 2021TATA INDICA VISTA  4.5User rating“I am very happy with the TATA INDICAVISTA that I bought from CARS24. It's agreat car and good value f... read more... read moreValue for money : Experience :Ease of process :Karthik DevaiahBengaluruApr 2021TATA NEXON  4.5User rating“I am really happy with my decision tobuy a car from CARS24. The selectionwas great, and the staff wa... read more... read moreValue for money : Experience :Ease of process :Ishwarya BoppannaBengaluruApr 2021MERCEDES BENZ C CLASS  5User rating“I'm thoroughly impressed with thequality of service I received fromCARS24. They had a great s... read more... read moreValue for money : Experience :Ease of process :Selvamani IyengarBengaluruMar 2021TATA NEXON  4.5User rating“I'm very happy with my purchase fromCARS24. The TATA NEXON is a great car,and the process was smoot... read more... read moreValue for money : Experience :Ease of process :Meena NaickerBengaluruMar 2021MERCEDES BENZ C CLASS  4.5User rating“I had a great experience buying myMERCEDES BENZ C CLASS from CARS24.The process was very easy, ... read more... read moreValue for money : Experience :Ease of process :Meena GounderBengaluruMar 2021TATA TIGOR  4.5User rating“I was a bit skeptical about buying a caronline, but CARS24 made it a breeze.The selection was great, the... read more... read moreValue for money : Experience :Ease of process :Maanikkam RawtherBengaluruMar 2021FIAT LINEA  5User rating“The team at CARS24 was amazing!They made the process of buying aused car so easy, and I was ... read more... read moreValue for money : Experience :Ease of process :Surya RawtherBengaluruMar 2021TATA SUMO GRANDE  4User rating“I had a great experience buying my carfrom CARS24. The selection was great,and the staff was very helpf... read more... read moreValue for money : Experience :Ease of process :Surya NaickerBengaluruMar 2021MARUTI SWIFT DZIRE  4.5User rating“I am very happy with the MARUTI SWIFTDZIRE that I bought from CARS24. Theprocess was quick and eas... read more... read moreValue for money : Experience :Ease of process :Sushen BaruahBengaluruMar 2021MARUTI SUZUKI RITZ  5User rating“I am very happy with the car that Ibought from CARS24. It was a MARUTISUZUKI RITZ and the process... read more... read moreValue for money : Experience :Ease of process :Aurobind DasBengaluruMar 2021FIAT LINEA  5User rating“I'm very happy with the FIAT LINEA Ibought from CARS24. The process waseasy, and the staff was very... read more... read moreValue for money : Experience :Ease of process :Ramana TalapalaBengaluruMar 2021FORD ENDEAVOUR  5User rating“I bought my Ford Endeavour fromCARS24 and I'm very happy with it. Theteam was friendly and helpf... read more... read moreValue for money : Experience :Ease of process :Akhil KapadiaBengaluruMar 2021TATA INDICA VISTA  5User rating“I was a little hesitant to buy a caronline, but the team at CARS24 made ita breeze. The TATA INDICA V... read more... read moreValue for money : Experience :Ease of process :Akhil KandpalBengaluruMar 2021FIAT GRAND PUNTO  4.5User rating“I had a great experience buying myFIAT GRAND PUNTO from CARS24. Theselection was great, and th... read more... read moreValue for money : Experience :Ease of process :Akhil ChauhanBengaluruMar 2021MAHINDRA KUV100  5User rating“I had a great experience buying myMahindra KUV100 from CARS24. Theselection was great, the pro... read more... read moreValue for money : Experience :Ease of process :Induja GounderBengaluruMar 2021HYUNDAI GRAND I10  5User rating“I'm so happy with the car I bought fromCARS24. It's an HYUNDAI GRAND I10, andit's perfect for my needs. Th... read more... read moreValue for money : Experience :Ease of process :Arjun IyengarBengaluruMar 2021HYUNDAI EON  5User rating“I was a little apprehensive aboutbuying a car online, but the team atCARS24 made it a breeze. T... read more... read moreValue for money : Experience :Ease of process :Prabhu NadarBengaluruMar 2021MARUTI SUZUKI WAGON R  4.5User rating“I had a great experience buying myMARUTI SUZUKI WAGON R from CARS24.The selection was great, an... read more... read moreValue for money : Experience :Ease of process :Prabhu PillaiBengaluruMar 2021NISSAN MICRA  4.5User rating“I'm very happy with the Nissan Micra Ibought from CARS24. The process waseasy, and the staff was very... read more... read moreValue for money : Experience :Ease of process :Gayathri PanickerBengaluruMar 2021SKODA RAPID  5User rating“The team at CARS24 was amazing!They were so helpful and made theprocess so easy. I bought a ... read more... read moreValue for money : Experience :Ease of process :Avijit BaruahBengaluruMar 2021HONDA AMAZE  5User rating“The CARS24 team was amazing! Theywere very helpful and made the wholeprocess very simple. I highly... read more... read moreValue for money : Experience :Ease of process :Anirban BaruahBengaluruMar 2021KIA SONET  4User rating“I had a great experience buying my carfrom CARS24. The process was verysimple and the staff was ve... read more... read moreValue for money : Experience :Ease of process :Ushnota BaruahBengaluruMar 2021TOYOTA INNOVA  4.5User rating“I'm extremely happy with the car Ibought from CARS24. The Toyota Innovais great for family trips, and ... read more... read moreValue for money : Experience :Ease of process : NextFREQUENTLY ASKED QUESTIONS FOR USED CARS IN BENGALURUHow many second hand cars are available in Bengaluru?430 used cars are available in Bengaluru of popular brands like Maruti Suzuki, Hyundai, Honda & moreWhat are the most popular brands available for 2nd hand cars in Bengaluru?CARS24 has a wide inventory of all brands including Maruti Suzuki, Hyundai, Honda & more. Find the best second hand car in Bengaluru of your choice on CARS24.What will be the starting price of an old car in Bengaluru?The starting price of a used car in Bengaluru is Rs. ₹1,00,000.What body types are available for 2nd hand cars in Bengaluru?Used cars in Bengaluru are available from every segment, be it Hatchback, Sedan, SUV.Can I buy used cars online at CARS24 in Bengaluru?Of Course yes, you can buy used cars online in Bengaluru from CARS24. You can find thousands of quality second hand cars for sale on our website/app that can be bought at the click of a button & delivered to your doorstep anywhere in BengaluruWhat to check before buying a second hand car in Bengaluru?Important things to check  before buying a second hand car in Bengaluru are:Source: Buying a car from a trusted source is important to make sure the car is in the exact condition as stated & also to deal with any post sale related issues.Condition: Ensure the car is non-accidental & does not have any structural damage. We use a 140 point check to make sure every car we sell is in top condition.Age: Buying a used car that is very old can lead to problems like expensive maintenance costs and scarcity of spare parts. A three to five year old car should be an ideal buy,Car Documents: Verification of vehicle documents like Registration Certificate (RC), Insurance & PUC is very important. Also ensure the car is not under loan (hypothecated), there are no traffic challans or any legal issues with it.Certified or Not: Certified used cars come with warranty and are refurbished to as good as new to protect buyers from unforeseen repair & maintenance cost.Where can I buy used cars in Bengaluru?You can buy used cars in Bengaluru from Cars24. Visit our website, book the car of your choice & get it delivered to your home.How can I check a second hand car in Bengaluru?You can check second hand cars in Bengaluru using conventional & time consuming buying methods like classified, dealers etc. CARS24 brings you a virtual showroom experience at your fingertips using 360 view. You can check multiple cars for sale in minutes and buy one from the comfort of your couch. We’ll deliver the car anywhere in BengaluruKEEP IN TOUCHEXPERIENCE CARS24 APP ON MOBILEPowered by CARS24® 2022 www.cars24.comAll rights reservedUSEFUL LINKSContact UsAbout UsPrivacy PolicyTerms and ConditionsFAQSitemapTestimonialsBlogBranchesWe're Hiring!Become Our PartnerNeed a LoanRC Transfer StatusCARS24 FinanceCARS24 Franchise PartnersInvestorsTop BrandsMaruti SuzukiHyundaiHondaTataToyotaChevroletFordMahindraSkodaVolkswagenNissanRenaultFiatMercedes BenzAudiTOP CITIESNew DelhiNoidaGurgaonMumbaiPuneBengaluruHyderabadChennaiKolkataAhmedabadPOPULAR SEARCHESCARS24 PricingSell Used CarVehicle Ownership TransferUsed Car ValuationNeed Help?\\n\\n\\n\\n\\n\\n\\n\\n\\n\\n\\n\\n\\n\\n\\n\\n\\n\\n\\n\\n\\n\\n\\n\\n\\nHey! How can I help you today? \""
      ]
     },
     "execution_count": 3,
     "metadata": {},
     "output_type": "execute_result"
    }
   ],
   "source": [
    "soup.text"
   ]
  },
  {
   "cell_type": "code",
   "execution_count": 4,
   "id": "1a2db46d",
   "metadata": {},
   "outputs": [],
   "source": [
    "car_name =[]\n",
    "car_model=[]\n",
    "car_price=[]\n",
    "#car_info=[]"
   ]
  },
  {
   "cell_type": "code",
   "execution_count": null,
   "id": "e01a0c62",
   "metadata": {},
   "outputs": [],
   "source": []
  },
  {
   "cell_type": "code",
   "execution_count": 5,
   "id": "3edccb79",
   "metadata": {},
   "outputs": [],
   "source": [
    "for car_tag in soup.find_all('div', class_='col-4'): \n",
    "\n",
    "    \n",
    "    car_name=[score.get_text()for score in soup.find_all(name=\"h2\", class_=\"_3FpCg\")]\n",
    "    \n",
    "    car_model=[score.get_text() for score in soup.find_all(name=\"p\", class_=\"cvakB\")]\n",
    "    \n",
    "    #car_info=[score.get_text() for score in soup.find_all(name=\"ul\", class_=\"bVR0c\") ]\n",
    "    \n",
    "    car_price=[score.get_text() for score in soup.find_all(name=\"div\", class_=\"_7udZZ\")]\n",
    "\n",
    "    "
   ]
  },
  {
   "cell_type": "code",
   "execution_count": 6,
   "id": "6caf9fdf",
   "metadata": {},
   "outputs": [],
   "source": [
    "car_link=[]\n",
    "car_tag=soup.find_all(name=\"a\", class_=\"_9Ue0B\")\n",
    "for i in car_tag:\n",
    "    link=i.get(\"href\")\n",
    "    car_link.append(link)   "
   ]
  },
  {
   "cell_type": "code",
   "execution_count": 7,
   "id": "42f41e33",
   "metadata": {},
   "outputs": [
    {
     "data": {
      "text/plain": [
       "430"
      ]
     },
     "execution_count": 7,
     "metadata": {},
     "output_type": "execute_result"
    }
   ],
   "source": [
    "km=[]\n",
    "for car_tag in soup.find_all('ul', class_='bVR0c'): \n",
    "    for i in car_tag.find_all(name=\"li\")[0]:\n",
    "        km.append(i)\n",
    "        \n",
    "len(km)"
   ]
  },
  {
   "cell_type": "code",
   "execution_count": 8,
   "id": "d94671cf",
   "metadata": {},
   "outputs": [
    {
     "data": {
      "text/plain": [
       "430"
      ]
     },
     "execution_count": 8,
     "metadata": {},
     "output_type": "execute_result"
    }
   ],
   "source": [
    "owner=[]\n",
    "for car_tag in soup.find_all('ul', class_='bVR0c'): \n",
    "    for i in car_tag.find_all(name=\"li\")[1]:\n",
    "        owner.append(i)\n",
    "    \n",
    "len(owner)"
   ]
  },
  {
   "cell_type": "code",
   "execution_count": 9,
   "id": "57581958",
   "metadata": {},
   "outputs": [
    {
     "data": {
      "text/plain": [
       "430"
      ]
     },
     "execution_count": 9,
     "metadata": {},
     "output_type": "execute_result"
    }
   ],
   "source": [
    "ctype=[]\n",
    "for car_tag in soup.find_all('ul', class_='bVR0c'): \n",
    "    for i in car_tag.find_all(name=\"li\")[2]:\n",
    "        ctype.append(i)\n",
    "    \n",
    "len(ctype)"
   ]
  },
  {
   "cell_type": "code",
   "execution_count": 10,
   "id": "6d40fc5d",
   "metadata": {},
   "outputs": [
    {
     "name": "stdout",
     "output_type": "stream",
     "text": [
      "430\n",
      "430\n",
      "430\n",
      "430\n",
      "430\n",
      "430\n",
      "430\n"
     ]
    }
   ],
   "source": [
    "print(len(car_link))\n",
    "print(len(car_name))\n",
    "print(len(car_model))\n",
    "#print(len(car_info))\n",
    "print(len(car_price))\n",
    "print(len(km))\n",
    "print(len(owner))\n",
    "print(len(ctype))"
   ]
  },
  {
   "cell_type": "code",
   "execution_count": 11,
   "id": "f4a9594e",
   "metadata": {},
   "outputs": [],
   "source": [
    "d={'Car Name':car_name,'Car model':car_model,'Car Price':car_price,'KM':km,'Owner':owner,'Car Type':ctype,'Car link':car_link}"
   ]
  },
  {
   "cell_type": "code",
   "execution_count": 12,
   "id": "ba4a6e71",
   "metadata": {},
   "outputs": [
    {
     "data": {
      "text/html": [
       "<div>\n",
       "<style scoped>\n",
       "    .dataframe tbody tr th:only-of-type {\n",
       "        vertical-align: middle;\n",
       "    }\n",
       "\n",
       "    .dataframe tbody tr th {\n",
       "        vertical-align: top;\n",
       "    }\n",
       "\n",
       "    .dataframe thead th {\n",
       "        text-align: right;\n",
       "    }\n",
       "</style>\n",
       "<table border=\"1\" class=\"dataframe\">\n",
       "  <thead>\n",
       "    <tr style=\"text-align: right;\">\n",
       "      <th></th>\n",
       "      <th>Car Name</th>\n",
       "      <th>Car model</th>\n",
       "      <th>Car Price</th>\n",
       "      <th>KM</th>\n",
       "      <th>Owner</th>\n",
       "      <th>Car Type</th>\n",
       "      <th>Car link</th>\n",
       "    </tr>\n",
       "  </thead>\n",
       "  <tbody>\n",
       "    <tr>\n",
       "      <th>0</th>\n",
       "      <td>2021 KIA SELTOS</td>\n",
       "      <td>GTX 1.4 GDI PETROL Manual</td>\n",
       "      <td>₹19,89,199</td>\n",
       "      <td>4,257 km</td>\n",
       "      <td>1st Owner</td>\n",
       "      <td>Petrol</td>\n",
       "      <td>https://www.cars24.com/buy-used-kia-seltos-202...</td>\n",
       "    </tr>\n",
       "    <tr>\n",
       "      <th>1</th>\n",
       "      <td>2019 Maruti Celerio</td>\n",
       "      <td>VXI Manual</td>\n",
       "      <td>₹5,61,099</td>\n",
       "      <td>5,382 km</td>\n",
       "      <td>1st Owner</td>\n",
       "      <td>Petrol</td>\n",
       "      <td>https://www.cars24.com/buy-used-maruti-celerio...</td>\n",
       "    </tr>\n",
       "    <tr>\n",
       "      <th>2</th>\n",
       "      <td>2017 Renault Duster</td>\n",
       "      <td>RXS CVT 106 PS Automatic</td>\n",
       "      <td>₹8,72,299</td>\n",
       "      <td>31,859 km</td>\n",
       "      <td>2nd Owner</td>\n",
       "      <td>Petrol</td>\n",
       "      <td>https://www.cars24.com/buy-used-renault-duster...</td>\n",
       "    </tr>\n",
       "    <tr>\n",
       "      <th>3</th>\n",
       "      <td>2020 Maruti New  Wagon-R</td>\n",
       "      <td>ZXI 1.2 Manual</td>\n",
       "      <td>₹6,55,599</td>\n",
       "      <td>5,702 km</td>\n",
       "      <td>1st Owner</td>\n",
       "      <td>Petrol</td>\n",
       "      <td>https://www.cars24.com/buy-used-maruti-new--wa...</td>\n",
       "    </tr>\n",
       "    <tr>\n",
       "      <th>4</th>\n",
       "      <td>2012 Maruti Wagon R 1.0</td>\n",
       "      <td>VXI Manual</td>\n",
       "      <td>₹3,59,799</td>\n",
       "      <td>37,683 km</td>\n",
       "      <td>2nd Owner</td>\n",
       "      <td>Petrol</td>\n",
       "      <td>https://www.cars24.com/buy-used-maruti-wagon-r...</td>\n",
       "    </tr>\n",
       "  </tbody>\n",
       "</table>\n",
       "</div>"
      ],
      "text/plain": [
       "                   Car Name                  Car model   Car Price         KM  \\\n",
       "0           2021 KIA SELTOS  GTX 1.4 GDI PETROL Manual  ₹19,89,199   4,257 km   \n",
       "1       2019 Maruti Celerio                 VXI Manual   ₹5,61,099   5,382 km   \n",
       "2       2017 Renault Duster   RXS CVT 106 PS Automatic   ₹8,72,299  31,859 km   \n",
       "3  2020 Maruti New  Wagon-R             ZXI 1.2 Manual   ₹6,55,599   5,702 km   \n",
       "4   2012 Maruti Wagon R 1.0                 VXI Manual   ₹3,59,799  37,683 km   \n",
       "\n",
       "       Owner Car Type                                           Car link  \n",
       "0  1st Owner   Petrol  https://www.cars24.com/buy-used-kia-seltos-202...  \n",
       "1  1st Owner   Petrol  https://www.cars24.com/buy-used-maruti-celerio...  \n",
       "2  2nd Owner   Petrol  https://www.cars24.com/buy-used-renault-duster...  \n",
       "3  1st Owner   Petrol  https://www.cars24.com/buy-used-maruti-new--wa...  \n",
       "4  2nd Owner   Petrol  https://www.cars24.com/buy-used-maruti-wagon-r...  "
      ]
     },
     "execution_count": 12,
     "metadata": {},
     "output_type": "execute_result"
    }
   ],
   "source": [
    "df = pd.DataFrame(d)\n",
    "df.head()"
   ]
  },
  {
   "cell_type": "code",
   "execution_count": null,
   "id": "db20b57b",
   "metadata": {},
   "outputs": [],
   "source": []
  },
  {
   "cell_type": "code",
   "execution_count": 13,
   "id": "de9f07d5",
   "metadata": {},
   "outputs": [],
   "source": [
    "df['Car Name'].str.split(expand=True)\n",
    "Cyear=df['Car Name'].str.extract(r'(?P<Year>\\w+)', expand=True)\n",
    "df['Year']=Cyear\n"
   ]
  },
  {
   "cell_type": "code",
   "execution_count": 14,
   "id": "7df2c8e7",
   "metadata": {},
   "outputs": [
    {
     "name": "stderr",
     "output_type": "stream",
     "text": [
      "C:\\Users\\Jay\\AppData\\Local\\Temp/ipykernel_14688/1061448214.py:1: FutureWarning: The default value of regex will change from True to False in a future version.\n",
      "  cname=df['Car Name'].str.replace('\\d','')\n"
     ]
    }
   ],
   "source": [
    "cname=df['Car Name'].str.replace('\\d','')\n",
    "df['Name']=cname"
   ]
  },
  {
   "cell_type": "code",
   "execution_count": 15,
   "id": "9ad0fcab",
   "metadata": {},
   "outputs": [
    {
     "data": {
      "text/html": [
       "<div>\n",
       "<style scoped>\n",
       "    .dataframe tbody tr th:only-of-type {\n",
       "        vertical-align: middle;\n",
       "    }\n",
       "\n",
       "    .dataframe tbody tr th {\n",
       "        vertical-align: top;\n",
       "    }\n",
       "\n",
       "    .dataframe thead th {\n",
       "        text-align: right;\n",
       "    }\n",
       "</style>\n",
       "<table border=\"1\" class=\"dataframe\">\n",
       "  <thead>\n",
       "    <tr style=\"text-align: right;\">\n",
       "      <th></th>\n",
       "      <th>Car model</th>\n",
       "      <th>Car Price</th>\n",
       "      <th>KM</th>\n",
       "      <th>Owner</th>\n",
       "      <th>Car Type</th>\n",
       "      <th>Car link</th>\n",
       "      <th>Year</th>\n",
       "      <th>Name</th>\n",
       "    </tr>\n",
       "  </thead>\n",
       "  <tbody>\n",
       "    <tr>\n",
       "      <th>0</th>\n",
       "      <td>GTX 1.4 GDI PETROL Manual</td>\n",
       "      <td>₹19,89,199</td>\n",
       "      <td>4,257 km</td>\n",
       "      <td>1st Owner</td>\n",
       "      <td>Petrol</td>\n",
       "      <td>https://www.cars24.com/buy-used-kia-seltos-202...</td>\n",
       "      <td>2021</td>\n",
       "      <td>KIA SELTOS</td>\n",
       "    </tr>\n",
       "    <tr>\n",
       "      <th>1</th>\n",
       "      <td>VXI Manual</td>\n",
       "      <td>₹5,61,099</td>\n",
       "      <td>5,382 km</td>\n",
       "      <td>1st Owner</td>\n",
       "      <td>Petrol</td>\n",
       "      <td>https://www.cars24.com/buy-used-maruti-celerio...</td>\n",
       "      <td>2019</td>\n",
       "      <td>Maruti Celerio</td>\n",
       "    </tr>\n",
       "    <tr>\n",
       "      <th>2</th>\n",
       "      <td>RXS CVT 106 PS Automatic</td>\n",
       "      <td>₹8,72,299</td>\n",
       "      <td>31,859 km</td>\n",
       "      <td>2nd Owner</td>\n",
       "      <td>Petrol</td>\n",
       "      <td>https://www.cars24.com/buy-used-renault-duster...</td>\n",
       "      <td>2017</td>\n",
       "      <td>Renault Duster</td>\n",
       "    </tr>\n",
       "    <tr>\n",
       "      <th>3</th>\n",
       "      <td>ZXI 1.2 Manual</td>\n",
       "      <td>₹6,55,599</td>\n",
       "      <td>5,702 km</td>\n",
       "      <td>1st Owner</td>\n",
       "      <td>Petrol</td>\n",
       "      <td>https://www.cars24.com/buy-used-maruti-new--wa...</td>\n",
       "      <td>2020</td>\n",
       "      <td>Maruti New  Wagon-R</td>\n",
       "    </tr>\n",
       "    <tr>\n",
       "      <th>4</th>\n",
       "      <td>VXI Manual</td>\n",
       "      <td>₹3,59,799</td>\n",
       "      <td>37,683 km</td>\n",
       "      <td>2nd Owner</td>\n",
       "      <td>Petrol</td>\n",
       "      <td>https://www.cars24.com/buy-used-maruti-wagon-r...</td>\n",
       "      <td>2012</td>\n",
       "      <td>Maruti Wagon R .</td>\n",
       "    </tr>\n",
       "  </tbody>\n",
       "</table>\n",
       "</div>"
      ],
      "text/plain": [
       "                   Car model   Car Price         KM      Owner Car Type  \\\n",
       "0  GTX 1.4 GDI PETROL Manual  ₹19,89,199   4,257 km  1st Owner   Petrol   \n",
       "1                 VXI Manual   ₹5,61,099   5,382 km  1st Owner   Petrol   \n",
       "2   RXS CVT 106 PS Automatic   ₹8,72,299  31,859 km  2nd Owner   Petrol   \n",
       "3             ZXI 1.2 Manual   ₹6,55,599   5,702 km  1st Owner   Petrol   \n",
       "4                 VXI Manual   ₹3,59,799  37,683 km  2nd Owner   Petrol   \n",
       "\n",
       "                                            Car link  Year  \\\n",
       "0  https://www.cars24.com/buy-used-kia-seltos-202...  2021   \n",
       "1  https://www.cars24.com/buy-used-maruti-celerio...  2019   \n",
       "2  https://www.cars24.com/buy-used-renault-duster...  2017   \n",
       "3  https://www.cars24.com/buy-used-maruti-new--wa...  2020   \n",
       "4  https://www.cars24.com/buy-used-maruti-wagon-r...  2012   \n",
       "\n",
       "                   Name  \n",
       "0            KIA SELTOS  \n",
       "1        Maruti Celerio  \n",
       "2        Renault Duster  \n",
       "3   Maruti New  Wagon-R  \n",
       "4      Maruti Wagon R .  "
      ]
     },
     "execution_count": 15,
     "metadata": {},
     "output_type": "execute_result"
    }
   ],
   "source": [
    "data=df.drop(['Car Name'],axis=True)\n",
    "data.head()"
   ]
  },
  {
   "cell_type": "code",
   "execution_count": 16,
   "id": "176bf80c",
   "metadata": {},
   "outputs": [
    {
     "data": {
      "text/plain": [
       "430"
      ]
     },
     "execution_count": 16,
     "metadata": {},
     "output_type": "execute_result"
    }
   ],
   "source": [
    "data['City']='Bengaluru'\n",
    "\n",
    "len(data['City'])"
   ]
  },
  {
   "cell_type": "code",
   "execution_count": 17,
   "id": "8477a262",
   "metadata": {
    "scrolled": false
   },
   "outputs": [
    {
     "data": {
      "text/html": [
       "<div>\n",
       "<style scoped>\n",
       "    .dataframe tbody tr th:only-of-type {\n",
       "        vertical-align: middle;\n",
       "    }\n",
       "\n",
       "    .dataframe tbody tr th {\n",
       "        vertical-align: top;\n",
       "    }\n",
       "\n",
       "    .dataframe thead th {\n",
       "        text-align: right;\n",
       "    }\n",
       "</style>\n",
       "<table border=\"1\" class=\"dataframe\">\n",
       "  <thead>\n",
       "    <tr style=\"text-align: right;\">\n",
       "      <th></th>\n",
       "      <th>City</th>\n",
       "      <th>Year</th>\n",
       "      <th>Name</th>\n",
       "      <th>Car model</th>\n",
       "      <th>Car Price</th>\n",
       "      <th>KM</th>\n",
       "      <th>Owner</th>\n",
       "      <th>Car Type</th>\n",
       "      <th>Car link</th>\n",
       "    </tr>\n",
       "  </thead>\n",
       "  <tbody>\n",
       "    <tr>\n",
       "      <th>0</th>\n",
       "      <td>Bengaluru</td>\n",
       "      <td>2021</td>\n",
       "      <td>KIA SELTOS</td>\n",
       "      <td>GTX 1.4 GDI PETROL Manual</td>\n",
       "      <td>₹19,89,199</td>\n",
       "      <td>4,257 km</td>\n",
       "      <td>1st Owner</td>\n",
       "      <td>Petrol</td>\n",
       "      <td>https://www.cars24.com/buy-used-kia-seltos-202...</td>\n",
       "    </tr>\n",
       "    <tr>\n",
       "      <th>1</th>\n",
       "      <td>Bengaluru</td>\n",
       "      <td>2019</td>\n",
       "      <td>Maruti Celerio</td>\n",
       "      <td>VXI Manual</td>\n",
       "      <td>₹5,61,099</td>\n",
       "      <td>5,382 km</td>\n",
       "      <td>1st Owner</td>\n",
       "      <td>Petrol</td>\n",
       "      <td>https://www.cars24.com/buy-used-maruti-celerio...</td>\n",
       "    </tr>\n",
       "    <tr>\n",
       "      <th>2</th>\n",
       "      <td>Bengaluru</td>\n",
       "      <td>2017</td>\n",
       "      <td>Renault Duster</td>\n",
       "      <td>RXS CVT 106 PS Automatic</td>\n",
       "      <td>₹8,72,299</td>\n",
       "      <td>31,859 km</td>\n",
       "      <td>2nd Owner</td>\n",
       "      <td>Petrol</td>\n",
       "      <td>https://www.cars24.com/buy-used-renault-duster...</td>\n",
       "    </tr>\n",
       "    <tr>\n",
       "      <th>3</th>\n",
       "      <td>Bengaluru</td>\n",
       "      <td>2020</td>\n",
       "      <td>Maruti New  Wagon-R</td>\n",
       "      <td>ZXI 1.2 Manual</td>\n",
       "      <td>₹6,55,599</td>\n",
       "      <td>5,702 km</td>\n",
       "      <td>1st Owner</td>\n",
       "      <td>Petrol</td>\n",
       "      <td>https://www.cars24.com/buy-used-maruti-new--wa...</td>\n",
       "    </tr>\n",
       "    <tr>\n",
       "      <th>4</th>\n",
       "      <td>Bengaluru</td>\n",
       "      <td>2012</td>\n",
       "      <td>Maruti Wagon R .</td>\n",
       "      <td>VXI Manual</td>\n",
       "      <td>₹3,59,799</td>\n",
       "      <td>37,683 km</td>\n",
       "      <td>2nd Owner</td>\n",
       "      <td>Petrol</td>\n",
       "      <td>https://www.cars24.com/buy-used-maruti-wagon-r...</td>\n",
       "    </tr>\n",
       "  </tbody>\n",
       "</table>\n",
       "</div>"
      ],
      "text/plain": [
       "        City  Year                  Name                  Car model  \\\n",
       "0  Bengaluru  2021            KIA SELTOS  GTX 1.4 GDI PETROL Manual   \n",
       "1  Bengaluru  2019        Maruti Celerio                 VXI Manual   \n",
       "2  Bengaluru  2017        Renault Duster   RXS CVT 106 PS Automatic   \n",
       "3  Bengaluru  2020   Maruti New  Wagon-R             ZXI 1.2 Manual   \n",
       "4  Bengaluru  2012      Maruti Wagon R .                 VXI Manual   \n",
       "\n",
       "    Car Price         KM      Owner Car Type  \\\n",
       "0  ₹19,89,199   4,257 km  1st Owner   Petrol   \n",
       "1   ₹5,61,099   5,382 km  1st Owner   Petrol   \n",
       "2   ₹8,72,299  31,859 km  2nd Owner   Petrol   \n",
       "3   ₹6,55,599   5,702 km  1st Owner   Petrol   \n",
       "4   ₹3,59,799  37,683 km  2nd Owner   Petrol   \n",
       "\n",
       "                                            Car link  \n",
       "0  https://www.cars24.com/buy-used-kia-seltos-202...  \n",
       "1  https://www.cars24.com/buy-used-maruti-celerio...  \n",
       "2  https://www.cars24.com/buy-used-renault-duster...  \n",
       "3  https://www.cars24.com/buy-used-maruti-new--wa...  \n",
       "4  https://www.cars24.com/buy-used-maruti-wagon-r...  "
      ]
     },
     "execution_count": 17,
     "metadata": {},
     "output_type": "execute_result"
    }
   ],
   "source": [
    "data=data.reindex(columns=['City','Year','Name','Car model','Car Price','KM','Owner','Car Type','Car link'])\n",
    "data.head()"
   ]
  },
  {
   "cell_type": "code",
   "execution_count": 18,
   "id": "dd780771",
   "metadata": {
    "scrolled": true
   },
   "outputs": [],
   "source": [
    "data.to_csv('Cars24_Bengaluru.csv')"
   ]
  },
  {
   "cell_type": "code",
   "execution_count": 19,
   "id": "b7ab2b60",
   "metadata": {},
   "outputs": [
    {
     "data": {
      "text/html": [
       "<div>\n",
       "<style scoped>\n",
       "    .dataframe tbody tr th:only-of-type {\n",
       "        vertical-align: middle;\n",
       "    }\n",
       "\n",
       "    .dataframe tbody tr th {\n",
       "        vertical-align: top;\n",
       "    }\n",
       "\n",
       "    .dataframe thead th {\n",
       "        text-align: right;\n",
       "    }\n",
       "</style>\n",
       "<table border=\"1\" class=\"dataframe\">\n",
       "  <thead>\n",
       "    <tr style=\"text-align: right;\">\n",
       "      <th></th>\n",
       "      <th>0</th>\n",
       "      <th>1</th>\n",
       "      <th>2</th>\n",
       "      <th>3</th>\n",
       "    </tr>\n",
       "  </thead>\n",
       "  <tbody>\n",
       "    <tr>\n",
       "      <th>0</th>\n",
       "      <td>KIA</td>\n",
       "      <td>SELTOS</td>\n",
       "      <td>None</td>\n",
       "      <td>None</td>\n",
       "    </tr>\n",
       "    <tr>\n",
       "      <th>1</th>\n",
       "      <td>Maruti</td>\n",
       "      <td>Celerio</td>\n",
       "      <td>None</td>\n",
       "      <td>None</td>\n",
       "    </tr>\n",
       "    <tr>\n",
       "      <th>2</th>\n",
       "      <td>Renault</td>\n",
       "      <td>Duster</td>\n",
       "      <td>None</td>\n",
       "      <td>None</td>\n",
       "    </tr>\n",
       "    <tr>\n",
       "      <th>3</th>\n",
       "      <td>Maruti</td>\n",
       "      <td>New</td>\n",
       "      <td>Wagon-R</td>\n",
       "      <td>None</td>\n",
       "    </tr>\n",
       "    <tr>\n",
       "      <th>4</th>\n",
       "      <td>Maruti</td>\n",
       "      <td>Wagon</td>\n",
       "      <td>R</td>\n",
       "      <td>.</td>\n",
       "    </tr>\n",
       "    <tr>\n",
       "      <th>...</th>\n",
       "      <td>...</td>\n",
       "      <td>...</td>\n",
       "      <td>...</td>\n",
       "      <td>...</td>\n",
       "    </tr>\n",
       "    <tr>\n",
       "      <th>425</th>\n",
       "      <td>Honda</td>\n",
       "      <td>City</td>\n",
       "      <td>None</td>\n",
       "      <td>None</td>\n",
       "    </tr>\n",
       "    <tr>\n",
       "      <th>426</th>\n",
       "      <td>Maruti</td>\n",
       "      <td>Eeco</td>\n",
       "      <td>None</td>\n",
       "      <td>None</td>\n",
       "    </tr>\n",
       "    <tr>\n",
       "      <th>427</th>\n",
       "      <td>Maruti</td>\n",
       "      <td>Wagon</td>\n",
       "      <td>R</td>\n",
       "      <td>.</td>\n",
       "    </tr>\n",
       "    <tr>\n",
       "      <th>428</th>\n",
       "      <td>Maruti</td>\n",
       "      <td>Wagon</td>\n",
       "      <td>R</td>\n",
       "      <td>.</td>\n",
       "    </tr>\n",
       "    <tr>\n",
       "      <th>429</th>\n",
       "      <td>Maruti</td>\n",
       "      <td>Baleno</td>\n",
       "      <td>None</td>\n",
       "      <td>None</td>\n",
       "    </tr>\n",
       "  </tbody>\n",
       "</table>\n",
       "<p>430 rows × 4 columns</p>\n",
       "</div>"
      ],
      "text/plain": [
       "           0        1        2     3\n",
       "0        KIA   SELTOS     None  None\n",
       "1     Maruti  Celerio     None  None\n",
       "2    Renault   Duster     None  None\n",
       "3     Maruti      New  Wagon-R  None\n",
       "4     Maruti    Wagon        R     .\n",
       "..       ...      ...      ...   ...\n",
       "425    Honda     City     None  None\n",
       "426   Maruti     Eeco     None  None\n",
       "427   Maruti    Wagon        R     .\n",
       "428   Maruti    Wagon        R     .\n",
       "429   Maruti   Baleno     None  None\n",
       "\n",
       "[430 rows x 4 columns]"
      ]
     },
     "execution_count": 19,
     "metadata": {},
     "output_type": "execute_result"
    }
   ],
   "source": [
    "data['Name'].str.split(expand=True)"
   ]
  },
  {
   "cell_type": "code",
   "execution_count": null,
   "id": "7258ec58",
   "metadata": {},
   "outputs": [],
   "source": []
  }
 ],
 "metadata": {
  "kernelspec": {
   "display_name": "Python 3 (ipykernel)",
   "language": "python",
   "name": "python3"
  },
  "language_info": {
   "codemirror_mode": {
    "name": "ipython",
    "version": 3
   },
   "file_extension": ".py",
   "mimetype": "text/x-python",
   "name": "python",
   "nbconvert_exporter": "python",
   "pygments_lexer": "ipython3",
   "version": "3.9.7"
  }
 },
 "nbformat": 4,
 "nbformat_minor": 5
}
