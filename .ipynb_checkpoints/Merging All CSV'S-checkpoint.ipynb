{
 "cells": [
  {
   "cell_type": "code",
   "execution_count": 1,
   "id": "40b18b5c",
   "metadata": {},
   "outputs": [],
   "source": [
    "import numpy as np\n",
    "import pandas as pd"
   ]
  },
  {
   "cell_type": "code",
   "execution_count": 2,
   "id": "4ddc879e",
   "metadata": {},
   "outputs": [
    {
     "name": "stdout",
     "output_type": "stream",
     "text": [
      "Merging multiple CSV files...\n"
     ]
    }
   ],
   "source": [
    "df1 = pd.read_csv(\"Data//Cars24_Pune.csv\")\n",
    "df2 = pd.read_csv(\"Data//Cars24_Delhi.csv\")\n",
    "df3 = pd.read_csv(\"Data//Cars24_Mumbai.csv\")\n",
    "df4 = pd.read_csv(\"Data//Cars24_Hyderabad.csv\")\n",
    "df5 = pd.read_csv(\"Data//Cars24_Chennai.csv\")\n",
    "df6 = pd.read_csv(\"Data//Cars24_Bengaluru.csv\")\n",
    "df7 = pd.read_csv(\"Data//Cars24_Ahmedabad.csv\")\n",
    "\n",
    "print(\"Merging multiple CSV files...\")\n",
    "\n",
    "# merge\n",
    "main_data = [df1, df2, df3, df4, df5, df6, df7]\n",
    "\n",
    "data = pd.concat(main_data)"
   ]
  },
  {
   "cell_type": "code",
   "execution_count": 3,
   "id": "ea2503af",
   "metadata": {},
   "outputs": [
    {
     "data": {
      "text/plain": [
       "3445"
      ]
     },
     "execution_count": 3,
     "metadata": {},
     "output_type": "execute_result"
    }
   ],
   "source": [
    "len(data)"
   ]
  },
  {
   "cell_type": "code",
   "execution_count": 4,
   "id": "e9de2c97",
   "metadata": {},
   "outputs": [
    {
     "data": {
      "text/html": [
       "<div>\n",
       "<style scoped>\n",
       "    .dataframe tbody tr th:only-of-type {\n",
       "        vertical-align: middle;\n",
       "    }\n",
       "\n",
       "    .dataframe tbody tr th {\n",
       "        vertical-align: top;\n",
       "    }\n",
       "\n",
       "    .dataframe thead th {\n",
       "        text-align: right;\n",
       "    }\n",
       "</style>\n",
       "<table border=\"1\" class=\"dataframe\">\n",
       "  <thead>\n",
       "    <tr style=\"text-align: right;\">\n",
       "      <th></th>\n",
       "      <th>Unnamed: 0</th>\n",
       "      <th>City</th>\n",
       "      <th>Year</th>\n",
       "      <th>Name</th>\n",
       "      <th>Car model</th>\n",
       "      <th>Car Price</th>\n",
       "      <th>KM</th>\n",
       "      <th>Owner</th>\n",
       "      <th>Car Type</th>\n",
       "      <th>Car link</th>\n",
       "    </tr>\n",
       "  </thead>\n",
       "  <tbody>\n",
       "    <tr>\n",
       "      <th>0</th>\n",
       "      <td>0</td>\n",
       "      <td>Pune</td>\n",
       "      <td>2021</td>\n",
       "      <td>Nissan MAGNITE</td>\n",
       "      <td>XL Turbo CVT</td>\n",
       "      <td>₹9,63,799</td>\n",
       "      <td>16,049 km</td>\n",
       "      <td>1st Owner</td>\n",
       "      <td>Petrol</td>\n",
       "      <td>https://www.cars24.com/buy-used-nissan-magnite...</td>\n",
       "    </tr>\n",
       "    <tr>\n",
       "      <th>1</th>\n",
       "      <td>1</td>\n",
       "      <td>Pune</td>\n",
       "      <td>2014</td>\n",
       "      <td>Volkswagen Vento</td>\n",
       "      <td>HIGHLINE PETROL Manual</td>\n",
       "      <td>₹5,13,399</td>\n",
       "      <td>41,569 km</td>\n",
       "      <td>1st Owner</td>\n",
       "      <td>Petrol</td>\n",
       "      <td>https://www.cars24.com/buy-used-volkswagen-ven...</td>\n",
       "    </tr>\n",
       "    <tr>\n",
       "      <th>2</th>\n",
       "      <td>2</td>\n",
       "      <td>Pune</td>\n",
       "      <td>2020</td>\n",
       "      <td>Tata Tiago</td>\n",
       "      <td>XZ+ 1.2 Revotron Manual</td>\n",
       "      <td>₹6,80,399</td>\n",
       "      <td>8,118 km</td>\n",
       "      <td>1st Owner</td>\n",
       "      <td>Petrol</td>\n",
       "      <td>https://www.cars24.com/buy-used-tata-tiago-202...</td>\n",
       "    </tr>\n",
       "    <tr>\n",
       "      <th>3</th>\n",
       "      <td>3</td>\n",
       "      <td>Pune</td>\n",
       "      <td>2015</td>\n",
       "      <td>Renault Duster</td>\n",
       "      <td>RXZ 110 4WD Manual</td>\n",
       "      <td>₹6,76,799</td>\n",
       "      <td>63,143 km</td>\n",
       "      <td>1st Owner</td>\n",
       "      <td>Diesel</td>\n",
       "      <td>https://www.cars24.com/buy-used-renault-duster...</td>\n",
       "    </tr>\n",
       "    <tr>\n",
       "      <th>4</th>\n",
       "      <td>4</td>\n",
       "      <td>Pune</td>\n",
       "      <td>2020</td>\n",
       "      <td>Maruti Alto</td>\n",
       "      <td>LXI Manual</td>\n",
       "      <td>₹3,95,099</td>\n",
       "      <td>2,530 km</td>\n",
       "      <td>1st Owner</td>\n",
       "      <td>Petrol</td>\n",
       "      <td>https://www.cars24.com/buy-used-maruti-alto-20...</td>\n",
       "    </tr>\n",
       "    <tr>\n",
       "      <th>...</th>\n",
       "      <td>...</td>\n",
       "      <td>...</td>\n",
       "      <td>...</td>\n",
       "      <td>...</td>\n",
       "      <td>...</td>\n",
       "      <td>...</td>\n",
       "      <td>...</td>\n",
       "      <td>...</td>\n",
       "      <td>...</td>\n",
       "      <td>...</td>\n",
       "    </tr>\n",
       "    <tr>\n",
       "      <th>389</th>\n",
       "      <td>389</td>\n",
       "      <td>Ahmedabad</td>\n",
       "      <td>2019</td>\n",
       "      <td>Maruti XL</td>\n",
       "      <td>ALPHA SHVS  MT Manual</td>\n",
       "      <td>₹9,36,999</td>\n",
       "      <td>25,242 km</td>\n",
       "      <td>1st Owner</td>\n",
       "      <td>Petrol</td>\n",
       "      <td>https://www.cars24.com/buy-used-maruti-xl6-201...</td>\n",
       "    </tr>\n",
       "    <tr>\n",
       "      <th>390</th>\n",
       "      <td>390</td>\n",
       "      <td>Ahmedabad</td>\n",
       "      <td>2021</td>\n",
       "      <td>Hyundai NEW I</td>\n",
       "      <td>MAGNA 1.2 MT</td>\n",
       "      <td>₹6,73,199</td>\n",
       "      <td>11,284 km</td>\n",
       "      <td>1st Owner</td>\n",
       "      <td>Petrol</td>\n",
       "      <td>https://www.cars24.com/buy-used-hyundai-new-i2...</td>\n",
       "    </tr>\n",
       "    <tr>\n",
       "      <th>391</th>\n",
       "      <td>391</td>\n",
       "      <td>Ahmedabad</td>\n",
       "      <td>2018</td>\n",
       "      <td>Maruti S Cross</td>\n",
       "      <td>ZETA 1.3 SHVS Manual</td>\n",
       "      <td>₹8,88,099</td>\n",
       "      <td>20,043 km</td>\n",
       "      <td>1st Owner</td>\n",
       "      <td>Diesel</td>\n",
       "      <td>https://www.cars24.com/buy-used-maruti-s-cross...</td>\n",
       "    </tr>\n",
       "    <tr>\n",
       "      <th>392</th>\n",
       "      <td>392</td>\n",
       "      <td>Ahmedabad</td>\n",
       "      <td>2018</td>\n",
       "      <td>Datsun Redi Go</td>\n",
       "      <td>T (O) Manual</td>\n",
       "      <td>₹2,84,599</td>\n",
       "      <td>23,875 km</td>\n",
       "      <td>2nd Owner</td>\n",
       "      <td>Petrol</td>\n",
       "      <td>https://www.cars24.com/buy-used-datsun-redi-go...</td>\n",
       "    </tr>\n",
       "    <tr>\n",
       "      <th>393</th>\n",
       "      <td>393</td>\n",
       "      <td>Ahmedabad</td>\n",
       "      <td>2019</td>\n",
       "      <td>Maruti Alto</td>\n",
       "      <td>LXI Manual</td>\n",
       "      <td>₹3,52,899</td>\n",
       "      <td>78,986 km</td>\n",
       "      <td>1st Owner</td>\n",
       "      <td>Petrol + CNG</td>\n",
       "      <td>https://www.cars24.com/buy-used-maruti-alto-80...</td>\n",
       "    </tr>\n",
       "  </tbody>\n",
       "</table>\n",
       "<p>3445 rows × 10 columns</p>\n",
       "</div>"
      ],
      "text/plain": [
       "     Unnamed: 0       City  Year               Name                Car model  \\\n",
       "0             0       Pune  2021     Nissan MAGNITE            XL Turbo CVT    \n",
       "1             1       Pune  2014   Volkswagen Vento   HIGHLINE PETROL Manual   \n",
       "2             2       Pune  2020         Tata Tiago  XZ+ 1.2 Revotron Manual   \n",
       "3             3       Pune  2015     Renault Duster       RXZ 110 4WD Manual   \n",
       "4             4       Pune  2020        Maruti Alto               LXI Manual   \n",
       "..          ...        ...   ...                ...                      ...   \n",
       "389         389  Ahmedabad  2019          Maruti XL    ALPHA SHVS  MT Manual   \n",
       "390         390  Ahmedabad  2021      Hyundai NEW I            MAGNA 1.2 MT    \n",
       "391         391  Ahmedabad  2018     Maruti S Cross     ZETA 1.3 SHVS Manual   \n",
       "392         392  Ahmedabad  2018     Datsun Redi Go             T (O) Manual   \n",
       "393         393  Ahmedabad  2019       Maruti Alto                LXI Manual   \n",
       "\n",
       "     Car Price         KM      Owner      Car Type  \\\n",
       "0    ₹9,63,799  16,049 km  1st Owner        Petrol   \n",
       "1    ₹5,13,399  41,569 km  1st Owner        Petrol   \n",
       "2    ₹6,80,399   8,118 km  1st Owner        Petrol   \n",
       "3    ₹6,76,799  63,143 km  1st Owner        Diesel   \n",
       "4    ₹3,95,099   2,530 km  1st Owner        Petrol   \n",
       "..         ...        ...        ...           ...   \n",
       "389  ₹9,36,999  25,242 km  1st Owner        Petrol   \n",
       "390  ₹6,73,199  11,284 km  1st Owner        Petrol   \n",
       "391  ₹8,88,099  20,043 km  1st Owner        Diesel   \n",
       "392  ₹2,84,599  23,875 km  2nd Owner        Petrol   \n",
       "393  ₹3,52,899  78,986 km  1st Owner  Petrol + CNG   \n",
       "\n",
       "                                              Car link  \n",
       "0    https://www.cars24.com/buy-used-nissan-magnite...  \n",
       "1    https://www.cars24.com/buy-used-volkswagen-ven...  \n",
       "2    https://www.cars24.com/buy-used-tata-tiago-202...  \n",
       "3    https://www.cars24.com/buy-used-renault-duster...  \n",
       "4    https://www.cars24.com/buy-used-maruti-alto-20...  \n",
       "..                                                 ...  \n",
       "389  https://www.cars24.com/buy-used-maruti-xl6-201...  \n",
       "390  https://www.cars24.com/buy-used-hyundai-new-i2...  \n",
       "391  https://www.cars24.com/buy-used-maruti-s-cross...  \n",
       "392  https://www.cars24.com/buy-used-datsun-redi-go...  \n",
       "393  https://www.cars24.com/buy-used-maruti-alto-80...  \n",
       "\n",
       "[3445 rows x 10 columns]"
      ]
     },
     "execution_count": 4,
     "metadata": {},
     "output_type": "execute_result"
    }
   ],
   "source": [
    "data"
   ]
  },
  {
   "cell_type": "code",
   "execution_count": 5,
   "id": "e0ca2fec",
   "metadata": {},
   "outputs": [
    {
     "data": {
      "text/plain": [
       "Index(['Unnamed: 0', 'City', 'Year', 'Name', 'Car model', 'Car Price', 'KM',\n",
       "       'Owner', 'Car Type', 'Car link'],\n",
       "      dtype='object')"
      ]
     },
     "execution_count": 5,
     "metadata": {},
     "output_type": "execute_result"
    }
   ],
   "source": [
    "data.columns"
   ]
  },
  {
   "cell_type": "code",
   "execution_count": 6,
   "id": "aed7c224",
   "metadata": {},
   "outputs": [
    {
     "data": {
      "text/plain": [
       "array(['Pune', 'New Delhi', 'Mumbai', 'Hyderabad', 'Chennai', 'Bengaluru',\n",
       "       'Ahmedabad'], dtype=object)"
      ]
     },
     "execution_count": 6,
     "metadata": {},
     "output_type": "execute_result"
    }
   ],
   "source": [
    "data['City'].unique()"
   ]
  },
  {
   "cell_type": "code",
   "execution_count": 7,
   "id": "d8583781",
   "metadata": {},
   "outputs": [
    {
     "data": {
      "text/plain": [
       "Unnamed: 0    0\n",
       "City          0\n",
       "Year          0\n",
       "Name          0\n",
       "Car model     0\n",
       "Car Price     0\n",
       "KM            0\n",
       "Owner         0\n",
       "Car Type      0\n",
       "Car link      0\n",
       "dtype: int64"
      ]
     },
     "execution_count": 7,
     "metadata": {},
     "output_type": "execute_result"
    }
   ],
   "source": [
    "data.isnull().sum()"
   ]
  },
  {
   "cell_type": "code",
   "execution_count": 8,
   "id": "c9b5c17a",
   "metadata": {},
   "outputs": [
    {
     "data": {
      "text/plain": [
       "Unnamed: 0    0\n",
       "City          0\n",
       "Year          0\n",
       "Name          0\n",
       "Car model     0\n",
       "Car Price     0\n",
       "KM            0\n",
       "Owner         0\n",
       "Car Type      0\n",
       "Car link      0\n",
       "dtype: int64"
      ]
     },
     "execution_count": 8,
     "metadata": {},
     "output_type": "execute_result"
    }
   ],
   "source": [
    "data.isna().sum()"
   ]
  },
  {
   "cell_type": "code",
   "execution_count": 9,
   "id": "4eecc8ea",
   "metadata": {},
   "outputs": [],
   "source": [
    "data.to_csv(\"Cars24_data.csv\")"
   ]
  },
  {
   "cell_type": "code",
   "execution_count": null,
   "id": "282cded6",
   "metadata": {},
   "outputs": [],
   "source": []
  }
 ],
 "metadata": {
  "kernelspec": {
   "display_name": "Python 3 (ipykernel)",
   "language": "python",
   "name": "python3"
  },
  "language_info": {
   "codemirror_mode": {
    "name": "ipython",
    "version": 3
   },
   "file_extension": ".py",
   "mimetype": "text/x-python",
   "name": "python",
   "nbconvert_exporter": "python",
   "pygments_lexer": "ipython3",
   "version": "3.9.7"
  }
 },
 "nbformat": 4,
 "nbformat_minor": 5
}
