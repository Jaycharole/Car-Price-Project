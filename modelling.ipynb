{
 "cells": [
  {
   "cell_type": "code",
   "execution_count": 1,
   "id": "f7a0cb97",
   "metadata": {},
   "outputs": [],
   "source": [
    "import pandas as pd\n",
    "import numpy as np\n",
    "import matplotlib.pyplot as plt\n",
    "import matplotlib as mpl\n",
    "%matplotlib inline\n",
    "from sklearn.linear_model import LinearRegression\n",
    "from sklearn.preprocessing import OneHotEncoder\n",
    "from sklearn.compose import make_column_transformer\n",
    "from sklearn.pipeline import make_pipeline\n",
    "from sklearn.metrics import r2_score"
   ]
  },
  {
   "cell_type": "code",
   "execution_count": 4,
   "id": "5e67928e",
   "metadata": {},
   "outputs": [],
   "source": [
    "df = pd.read_csv('Cars24_Scrapped_Data.csv')"
   ]
  },
  {
   "cell_type": "code",
   "execution_count": 5,
   "id": "fa317154",
   "metadata": {},
   "outputs": [
    {
     "data": {
      "text/html": [
       "<div>\n",
       "<style scoped>\n",
       "    .dataframe tbody tr th:only-of-type {\n",
       "        vertical-align: middle;\n",
       "    }\n",
       "\n",
       "    .dataframe tbody tr th {\n",
       "        vertical-align: top;\n",
       "    }\n",
       "\n",
       "    .dataframe thead th {\n",
       "        text-align: right;\n",
       "    }\n",
       "</style>\n",
       "<table border=\"1\" class=\"dataframe\">\n",
       "  <thead>\n",
       "    <tr style=\"text-align: right;\">\n",
       "      <th></th>\n",
       "      <th>city</th>\n",
       "      <th>year</th>\n",
       "      <th>company</th>\n",
       "      <th>car_name</th>\n",
       "      <th>name</th>\n",
       "      <th>model</th>\n",
       "      <th>price</th>\n",
       "      <th>kms_driven</th>\n",
       "      <th>owner</th>\n",
       "      <th>fuel_type</th>\n",
       "      <th>car_link</th>\n",
       "    </tr>\n",
       "  </thead>\n",
       "  <tbody>\n",
       "    <tr>\n",
       "      <th>1051</th>\n",
       "      <td>Mumbai</td>\n",
       "      <td>2020</td>\n",
       "      <td>MG</td>\n",
       "      <td>HECTOR PLUS</td>\n",
       "      <td>MG HECTOR PLUS</td>\n",
       "      <td>NaN</td>\n",
       "      <td>1827199</td>\n",
       "      <td>17,984</td>\n",
       "      <td>1</td>\n",
       "      <td>Petrol</td>\n",
       "      <td>https://www.cars24.com/buy-used-mg-hector-plus...</td>\n",
       "    </tr>\n",
       "    <tr>\n",
       "      <th>904</th>\n",
       "      <td>Mumbai</td>\n",
       "      <td>2012</td>\n",
       "      <td>Maruti</td>\n",
       "      <td>Swift Dzire</td>\n",
       "      <td>Maruti Swift Dzire</td>\n",
       "      <td>Manual</td>\n",
       "      <td>441299</td>\n",
       "      <td>50,487</td>\n",
       "      <td>1</td>\n",
       "      <td>Diesel</td>\n",
       "      <td>https://www.cars24.com/buy-used-maruti-swift-d...</td>\n",
       "    </tr>\n",
       "    <tr>\n",
       "      <th>3350</th>\n",
       "      <td>Hyderabad</td>\n",
       "      <td>2018</td>\n",
       "      <td>Maruti</td>\n",
       "      <td>Swift</td>\n",
       "      <td>Maruti Swift</td>\n",
       "      <td>Manual</td>\n",
       "      <td>743599</td>\n",
       "      <td>55,802</td>\n",
       "      <td>1</td>\n",
       "      <td>Diesel</td>\n",
       "      <td>https://www.cars24.com/buy-used-maruti-swift-2...</td>\n",
       "    </tr>\n",
       "    <tr>\n",
       "      <th>2</th>\n",
       "      <td>Pune</td>\n",
       "      <td>2020</td>\n",
       "      <td>Tata</td>\n",
       "      <td>Tiago</td>\n",
       "      <td>Tata Tiago</td>\n",
       "      <td>Manual</td>\n",
       "      <td>680399</td>\n",
       "      <td>8,118</td>\n",
       "      <td>1</td>\n",
       "      <td>Petrol</td>\n",
       "      <td>https://www.cars24.com/buy-used-tata-tiago-202...</td>\n",
       "    </tr>\n",
       "    <tr>\n",
       "      <th>1854</th>\n",
       "      <td>Ahmedabad</td>\n",
       "      <td>2017</td>\n",
       "      <td>Hyundai</td>\n",
       "      <td>Grand i10</td>\n",
       "      <td>Hyundai Grand i10</td>\n",
       "      <td>Manual</td>\n",
       "      <td>503199</td>\n",
       "      <td>9,239</td>\n",
       "      <td>2</td>\n",
       "      <td>Petrol</td>\n",
       "      <td>https://www.cars24.com/buy-used-hyundai-grand-...</td>\n",
       "    </tr>\n",
       "    <tr>\n",
       "      <th>2616</th>\n",
       "      <td>Chennai</td>\n",
       "      <td>2014</td>\n",
       "      <td>Maruti</td>\n",
       "      <td>Wagon R 1.0</td>\n",
       "      <td>Maruti Wagon R 1.0</td>\n",
       "      <td>Manual</td>\n",
       "      <td>364099</td>\n",
       "      <td>54,684</td>\n",
       "      <td>2</td>\n",
       "      <td>Petrol</td>\n",
       "      <td>https://www.cars24.com/buy-used-maruti-wagon-r...</td>\n",
       "    </tr>\n",
       "    <tr>\n",
       "      <th>1379</th>\n",
       "      <td>New_Delhi</td>\n",
       "      <td>2018</td>\n",
       "      <td>Ford</td>\n",
       "      <td>Ecosport</td>\n",
       "      <td>Ford Ecosport</td>\n",
       "      <td>Manual</td>\n",
       "      <td>740399</td>\n",
       "      <td>22,775</td>\n",
       "      <td>2</td>\n",
       "      <td>Petrol</td>\n",
       "      <td>https://www.cars24.com/buy-used-ford-ecosport-...</td>\n",
       "    </tr>\n",
       "    <tr>\n",
       "      <th>2601</th>\n",
       "      <td>Chennai</td>\n",
       "      <td>2019</td>\n",
       "      <td>Maruti</td>\n",
       "      <td>Baleno</td>\n",
       "      <td>Maruti Baleno</td>\n",
       "      <td>Manual</td>\n",
       "      <td>701399</td>\n",
       "      <td>14,506</td>\n",
       "      <td>1</td>\n",
       "      <td>Petrol</td>\n",
       "      <td>https://www.cars24.com/buy-used-maruti-baleno-...</td>\n",
       "    </tr>\n",
       "    <tr>\n",
       "      <th>599</th>\n",
       "      <td>Mumbai</td>\n",
       "      <td>2019</td>\n",
       "      <td>Maruti</td>\n",
       "      <td>Baleno</td>\n",
       "      <td>Maruti Baleno</td>\n",
       "      <td>Manual</td>\n",
       "      <td>694299</td>\n",
       "      <td>44,408</td>\n",
       "      <td>1</td>\n",
       "      <td>Petrol</td>\n",
       "      <td>https://www.cars24.com/buy-used-maruti-baleno-...</td>\n",
       "    </tr>\n",
       "    <tr>\n",
       "      <th>880</th>\n",
       "      <td>Mumbai</td>\n",
       "      <td>2021</td>\n",
       "      <td>Maruti</td>\n",
       "      <td>Alto</td>\n",
       "      <td>Maruti Alto</td>\n",
       "      <td>Manual</td>\n",
       "      <td>449699</td>\n",
       "      <td>3,401</td>\n",
       "      <td>1</td>\n",
       "      <td>Petrol</td>\n",
       "      <td>https://www.cars24.com/buy-used-maruti-alto-20...</td>\n",
       "    </tr>\n",
       "  </tbody>\n",
       "</table>\n",
       "</div>"
      ],
      "text/plain": [
       "           city  year  company      car_name                 name   model  \\\n",
       "1051     Mumbai  2020       MG  HECTOR PLUS       MG HECTOR PLUS      NaN   \n",
       "904      Mumbai  2012   Maruti  Swift Dzire   Maruti Swift Dzire   Manual   \n",
       "3350  Hyderabad  2018   Maruti       Swift         Maruti Swift    Manual   \n",
       "2          Pune  2020     Tata       Tiago           Tata Tiago    Manual   \n",
       "1854  Ahmedabad  2017  Hyundai    Grand i10    Hyundai Grand i10   Manual   \n",
       "2616    Chennai  2014   Maruti   Wagon R 1.0   Maruti Wagon R 1.0  Manual   \n",
       "1379  New_Delhi  2018     Ford    Ecosport        Ford Ecosport    Manual   \n",
       "2601    Chennai  2019   Maruti      Baleno        Maruti Baleno    Manual   \n",
       "599      Mumbai  2019   Maruti      Baleno        Maruti Baleno    Manual   \n",
       "880      Mumbai  2021   Maruti        Alto          Maruti Alto    Manual   \n",
       "\n",
       "        price kms_driven  owner fuel_type  \\\n",
       "1051  1827199     17,984      1    Petrol   \n",
       "904    441299     50,487      1    Diesel   \n",
       "3350   743599     55,802      1    Diesel   \n",
       "2      680399      8,118      1    Petrol   \n",
       "1854   503199      9,239      2    Petrol   \n",
       "2616   364099     54,684      2    Petrol   \n",
       "1379   740399     22,775      2    Petrol   \n",
       "2601   701399     14,506      1    Petrol   \n",
       "599    694299     44,408      1    Petrol   \n",
       "880    449699      3,401      1    Petrol   \n",
       "\n",
       "                                               car_link  \n",
       "1051  https://www.cars24.com/buy-used-mg-hector-plus...  \n",
       "904   https://www.cars24.com/buy-used-maruti-swift-d...  \n",
       "3350  https://www.cars24.com/buy-used-maruti-swift-2...  \n",
       "2     https://www.cars24.com/buy-used-tata-tiago-202...  \n",
       "1854  https://www.cars24.com/buy-used-hyundai-grand-...  \n",
       "2616  https://www.cars24.com/buy-used-maruti-wagon-r...  \n",
       "1379  https://www.cars24.com/buy-used-ford-ecosport-...  \n",
       "2601  https://www.cars24.com/buy-used-maruti-baleno-...  \n",
       "599   https://www.cars24.com/buy-used-maruti-baleno-...  \n",
       "880   https://www.cars24.com/buy-used-maruti-alto-20...  "
      ]
     },
     "execution_count": 5,
     "metadata": {},
     "output_type": "execute_result"
    }
   ],
   "source": [
    "df.sample(10)"
   ]
  },
  {
   "cell_type": "code",
   "execution_count": 6,
   "id": "1f0074be",
   "metadata": {},
   "outputs": [
    {
     "data": {
      "text/plain": [
       "(3437, 11)"
      ]
     },
     "execution_count": 6,
     "metadata": {},
     "output_type": "execute_result"
    }
   ],
   "source": [
    "df.shape"
   ]
  },
  {
   "cell_type": "code",
   "execution_count": 7,
   "id": "a4e4d86c",
   "metadata": {},
   "outputs": [
    {
     "name": "stdout",
     "output_type": "stream",
     "text": [
      "<class 'pandas.core.frame.DataFrame'>\n",
      "RangeIndex: 3437 entries, 0 to 3436\n",
      "Data columns (total 11 columns):\n",
      " #   Column      Non-Null Count  Dtype \n",
      "---  ------      --------------  ----- \n",
      " 0   city        3437 non-null   object\n",
      " 1   year        3437 non-null   int64 \n",
      " 2   company     3437 non-null   object\n",
      " 3   car_name    3437 non-null   object\n",
      " 4   name        3437 non-null   object\n",
      " 5   model       3390 non-null   object\n",
      " 6   price       3437 non-null   int64 \n",
      " 7   kms_driven  3437 non-null   object\n",
      " 8   owner       3437 non-null   int64 \n",
      " 9   fuel_type   3437 non-null   object\n",
      " 10  car_link    3437 non-null   object\n",
      "dtypes: int64(3), object(8)\n",
      "memory usage: 295.5+ KB\n"
     ]
    }
   ],
   "source": [
    "df.info()"
   ]
  },
  {
   "cell_type": "code",
   "execution_count": 8,
   "id": "545bd1d2",
   "metadata": {},
   "outputs": [],
   "source": [
    "backup = df.copy()"
   ]
  },
  {
   "cell_type": "code",
   "execution_count": 9,
   "id": "83086f31",
   "metadata": {},
   "outputs": [
    {
     "data": {
      "text/plain": [
       "0    16049\n",
       "1    41569\n",
       "2     8118\n",
       "3    63143\n",
       "4     2530\n",
       "Name: kms_driven, dtype: int32"
      ]
     },
     "execution_count": 9,
     "metadata": {},
     "output_type": "execute_result"
    }
   ],
   "source": [
    "df['kms_driven']=df['kms_driven'].replace(\",\",\"\",regex=True)\n",
    "df['kms_driven']=df['kms_driven'].astype(int)\n",
    "df['kms_driven'].head()"
   ]
  },
  {
   "cell_type": "code",
   "execution_count": 10,
   "id": "0877ed27",
   "metadata": {},
   "outputs": [
    {
     "data": {
      "text/plain": [
       "0    963799\n",
       "1    513399\n",
       "2    680399\n",
       "3    676799\n",
       "4    395099\n",
       "Name: price, dtype: int32"
      ]
     },
     "execution_count": 10,
     "metadata": {},
     "output_type": "execute_result"
    }
   ],
   "source": [
    "df['price']=df['price'].replace(\",\",\"\",regex=True)\n",
    "df['price']=df['price'].astype(int)\n",
    "df['price'].head()"
   ]
  },
  {
   "cell_type": "code",
   "execution_count": 11,
   "id": "a9990351",
   "metadata": {},
   "outputs": [
    {
     "data": {
      "text/html": [
       "<div>\n",
       "<style scoped>\n",
       "    .dataframe tbody tr th:only-of-type {\n",
       "        vertical-align: middle;\n",
       "    }\n",
       "\n",
       "    .dataframe tbody tr th {\n",
       "        vertical-align: top;\n",
       "    }\n",
       "\n",
       "    .dataframe thead th {\n",
       "        text-align: right;\n",
       "    }\n",
       "</style>\n",
       "<table border=\"1\" class=\"dataframe\">\n",
       "  <thead>\n",
       "    <tr style=\"text-align: right;\">\n",
       "      <th></th>\n",
       "      <th>city</th>\n",
       "      <th>year</th>\n",
       "      <th>company</th>\n",
       "      <th>car_name</th>\n",
       "      <th>name</th>\n",
       "      <th>model</th>\n",
       "      <th>price</th>\n",
       "      <th>kms_driven</th>\n",
       "      <th>owner</th>\n",
       "      <th>fuel_type</th>\n",
       "      <th>car_link</th>\n",
       "    </tr>\n",
       "  </thead>\n",
       "  <tbody>\n",
       "    <tr>\n",
       "      <th>1336</th>\n",
       "      <td>New_Delhi</td>\n",
       "      <td>2021</td>\n",
       "      <td>Toyota</td>\n",
       "      <td>YARIS</td>\n",
       "      <td>Toyota YARIS</td>\n",
       "      <td>Manual</td>\n",
       "      <td>944799</td>\n",
       "      <td>13490</td>\n",
       "      <td>1</td>\n",
       "      <td>Petrol</td>\n",
       "      <td>https://www.cars24.com/buy-used-toyota-yaris-2...</td>\n",
       "    </tr>\n",
       "    <tr>\n",
       "      <th>2754</th>\n",
       "      <td>Chennai</td>\n",
       "      <td>2017</td>\n",
       "      <td>Maruti</td>\n",
       "      <td>Baleno</td>\n",
       "      <td>Maruti Baleno</td>\n",
       "      <td>Manual</td>\n",
       "      <td>660899</td>\n",
       "      <td>61979</td>\n",
       "      <td>1</td>\n",
       "      <td>Petrol</td>\n",
       "      <td>https://www.cars24.com/buy-used-maruti-baleno-...</td>\n",
       "    </tr>\n",
       "    <tr>\n",
       "      <th>487</th>\n",
       "      <td>Mumbai</td>\n",
       "      <td>2014</td>\n",
       "      <td>Maruti</td>\n",
       "      <td>Wagon R 1.0</td>\n",
       "      <td>Maruti Wagon R 1.0</td>\n",
       "      <td>Manual</td>\n",
       "      <td>358899</td>\n",
       "      <td>13712</td>\n",
       "      <td>1</td>\n",
       "      <td>Petrol</td>\n",
       "      <td>https://www.cars24.com/buy-used-maruti-wagon-r...</td>\n",
       "    </tr>\n",
       "    <tr>\n",
       "      <th>904</th>\n",
       "      <td>Mumbai</td>\n",
       "      <td>2012</td>\n",
       "      <td>Maruti</td>\n",
       "      <td>Swift Dzire</td>\n",
       "      <td>Maruti Swift Dzire</td>\n",
       "      <td>Manual</td>\n",
       "      <td>441299</td>\n",
       "      <td>50487</td>\n",
       "      <td>1</td>\n",
       "      <td>Diesel</td>\n",
       "      <td>https://www.cars24.com/buy-used-maruti-swift-d...</td>\n",
       "    </tr>\n",
       "    <tr>\n",
       "      <th>708</th>\n",
       "      <td>Mumbai</td>\n",
       "      <td>2015</td>\n",
       "      <td>Toyota</td>\n",
       "      <td>Corolla Altis</td>\n",
       "      <td>Toyota Corolla Altis</td>\n",
       "      <td>Automatic</td>\n",
       "      <td>916899</td>\n",
       "      <td>60049</td>\n",
       "      <td>1</td>\n",
       "      <td>Petrol</td>\n",
       "      <td>https://www.cars24.com/buy-used-toyota-corolla...</td>\n",
       "    </tr>\n",
       "    <tr>\n",
       "      <th>2186</th>\n",
       "      <td>Ahmedabad</td>\n",
       "      <td>2018</td>\n",
       "      <td>Maruti</td>\n",
       "      <td>Baleno</td>\n",
       "      <td>Maruti Baleno</td>\n",
       "      <td>Manual</td>\n",
       "      <td>557399</td>\n",
       "      <td>132544</td>\n",
       "      <td>1</td>\n",
       "      <td>Petrol + CNG</td>\n",
       "      <td>https://www.cars24.com/buy-used-maruti-baleno-...</td>\n",
       "    </tr>\n",
       "    <tr>\n",
       "      <th>1142</th>\n",
       "      <td>New_Delhi</td>\n",
       "      <td>2015</td>\n",
       "      <td>Honda</td>\n",
       "      <td>Brio</td>\n",
       "      <td>Honda Brio</td>\n",
       "      <td>Automatic</td>\n",
       "      <td>458999</td>\n",
       "      <td>25981</td>\n",
       "      <td>2</td>\n",
       "      <td>Petrol</td>\n",
       "      <td>https://www.cars24.com/buy-used-honda-brio-201...</td>\n",
       "    </tr>\n",
       "    <tr>\n",
       "      <th>3017</th>\n",
       "      <td>Bengaluru</td>\n",
       "      <td>2020</td>\n",
       "      <td>Tata</td>\n",
       "      <td>NEXON</td>\n",
       "      <td>Tata NEXON</td>\n",
       "      <td>Automatic</td>\n",
       "      <td>1323299</td>\n",
       "      <td>3702</td>\n",
       "      <td>1</td>\n",
       "      <td>Petrol</td>\n",
       "      <td>https://www.cars24.com/buy-used-tata-nexon-202...</td>\n",
       "    </tr>\n",
       "    <tr>\n",
       "      <th>2259</th>\n",
       "      <td>Chennai</td>\n",
       "      <td>2018</td>\n",
       "      <td>Hyundai</td>\n",
       "      <td>Eon</td>\n",
       "      <td>Hyundai Eon</td>\n",
       "      <td>Manual</td>\n",
       "      <td>367499</td>\n",
       "      <td>9142</td>\n",
       "      <td>1</td>\n",
       "      <td>Petrol</td>\n",
       "      <td>https://www.cars24.com/buy-used-hyundai-eon-20...</td>\n",
       "    </tr>\n",
       "    <tr>\n",
       "      <th>283</th>\n",
       "      <td>Pune</td>\n",
       "      <td>2015</td>\n",
       "      <td>Hyundai</td>\n",
       "      <td>Elite i20</td>\n",
       "      <td>Hyundai Elite i20</td>\n",
       "      <td>Manual</td>\n",
       "      <td>587399</td>\n",
       "      <td>42587</td>\n",
       "      <td>1</td>\n",
       "      <td>Diesel</td>\n",
       "      <td>https://www.cars24.com/buy-used-hyundai-elite-...</td>\n",
       "    </tr>\n",
       "  </tbody>\n",
       "</table>\n",
       "</div>"
      ],
      "text/plain": [
       "           city  year  company        car_name                   name  \\\n",
       "1336  New_Delhi  2021   Toyota         YARIS           Toyota YARIS     \n",
       "2754    Chennai  2017   Maruti        Baleno          Maruti Baleno     \n",
       "487      Mumbai  2014   Maruti     Wagon R 1.0     Maruti Wagon R 1.0   \n",
       "904      Mumbai  2012   Maruti    Swift Dzire     Maruti Swift Dzire    \n",
       "708      Mumbai  2015   Toyota  Corolla Altis   Toyota Corolla Altis    \n",
       "2186  Ahmedabad  2018   Maruti        Baleno          Maruti Baleno     \n",
       "1142  New_Delhi  2015    Honda          Brio             Honda Brio     \n",
       "3017  Bengaluru  2020     Tata         NEXON             Tata NEXON     \n",
       "2259    Chennai  2018  Hyundai           Eon            Hyundai Eon     \n",
       "283        Pune  2015  Hyundai      Elite i20      Hyundai Elite i20    \n",
       "\n",
       "          model    price  kms_driven  owner     fuel_type  \\\n",
       "1336     Manual   944799       13490      1        Petrol   \n",
       "2754     Manual   660899       61979      1        Petrol   \n",
       "487      Manual   358899       13712      1        Petrol   \n",
       "904      Manual   441299       50487      1        Diesel   \n",
       "708   Automatic   916899       60049      1        Petrol   \n",
       "2186     Manual   557399      132544      1  Petrol + CNG   \n",
       "1142  Automatic   458999       25981      2        Petrol   \n",
       "3017  Automatic  1323299        3702      1        Petrol   \n",
       "2259     Manual   367499        9142      1        Petrol   \n",
       "283      Manual   587399       42587      1        Diesel   \n",
       "\n",
       "                                               car_link  \n",
       "1336  https://www.cars24.com/buy-used-toyota-yaris-2...  \n",
       "2754  https://www.cars24.com/buy-used-maruti-baleno-...  \n",
       "487   https://www.cars24.com/buy-used-maruti-wagon-r...  \n",
       "904   https://www.cars24.com/buy-used-maruti-swift-d...  \n",
       "708   https://www.cars24.com/buy-used-toyota-corolla...  \n",
       "2186  https://www.cars24.com/buy-used-maruti-baleno-...  \n",
       "1142  https://www.cars24.com/buy-used-honda-brio-201...  \n",
       "3017  https://www.cars24.com/buy-used-tata-nexon-202...  \n",
       "2259  https://www.cars24.com/buy-used-hyundai-eon-20...  \n",
       "283   https://www.cars24.com/buy-used-hyundai-elite-...  "
      ]
     },
     "execution_count": 11,
     "metadata": {},
     "output_type": "execute_result"
    }
   ],
   "source": [
    "df.sample(10)"
   ]
  },
  {
   "cell_type": "code",
   "execution_count": 12,
   "id": "703eff6d",
   "metadata": {},
   "outputs": [],
   "source": [
    "df.to_csv('Cleaned_Car_data.csv')"
   ]
  },
  {
   "cell_type": "code",
   "execution_count": 13,
   "id": "ec85054d",
   "metadata": {},
   "outputs": [],
   "source": [
    "X=df[['name','company','year','kms_driven','fuel_type']]\n",
    "y=df['price']"
   ]
  },
  {
   "cell_type": "code",
   "execution_count": 14,
   "id": "d74d69f1",
   "metadata": {},
   "outputs": [
    {
     "data": {
      "text/plain": [
       "(3437, 5)"
      ]
     },
     "execution_count": 14,
     "metadata": {},
     "output_type": "execute_result"
    }
   ],
   "source": [
    "X.shape"
   ]
  },
  {
   "cell_type": "code",
   "execution_count": 15,
   "id": "697a925d",
   "metadata": {},
   "outputs": [
    {
     "data": {
      "text/plain": [
       "(3437,)"
      ]
     },
     "execution_count": 15,
     "metadata": {},
     "output_type": "execute_result"
    }
   ],
   "source": [
    "y.shape"
   ]
  },
  {
   "cell_type": "code",
   "execution_count": 16,
   "id": "8cd1f9a4",
   "metadata": {},
   "outputs": [],
   "source": [
    "from sklearn.model_selection import train_test_split\n",
    "X_train,X_test,y_train,y_test=train_test_split(X,y,test_size=0.2)"
   ]
  },
  {
   "cell_type": "code",
   "execution_count": 17,
   "id": "a91a988d",
   "metadata": {},
   "outputs": [
    {
     "data": {
      "text/plain": [
       "OneHotEncoder()"
      ]
     },
     "execution_count": 17,
     "metadata": {},
     "output_type": "execute_result"
    }
   ],
   "source": [
    "ohe=OneHotEncoder()\n",
    "ohe.fit(X[['name','company','fuel_type']])"
   ]
  },
  {
   "cell_type": "code",
   "execution_count": 18,
   "id": "3537cdde",
   "metadata": {},
   "outputs": [],
   "source": [
    "column_trans=make_column_transformer((OneHotEncoder(categories=ohe.categories_),['name','company','fuel_type']),\n",
    "                                    remainder='passthrough')"
   ]
  },
  {
   "cell_type": "code",
   "execution_count": 19,
   "id": "5b40136d",
   "metadata": {},
   "outputs": [],
   "source": [
    "lr=LinearRegression()"
   ]
  },
  {
   "cell_type": "code",
   "execution_count": 20,
   "id": "85af2376",
   "metadata": {},
   "outputs": [],
   "source": [
    "pipe=make_pipeline(column_trans,lr)"
   ]
  },
  {
   "cell_type": "code",
   "execution_count": 21,
   "id": "7f2b72ca",
   "metadata": {},
   "outputs": [
    {
     "data": {
      "text/plain": [
       "Pipeline(steps=[('columntransformer',\n",
       "                 ColumnTransformer(remainder='passthrough',\n",
       "                                   transformers=[('onehotencoder',\n",
       "                                                  OneHotEncoder(categories=[array(['Audi A3  ', 'Audi A4  ', 'Audi A6  ', 'Audi Q3  ', 'Audi Q5  ',\n",
       "       'BMW 3 Series ', 'BMW 5 Series ', 'Datsun Go  ', 'Datsun Redi Go ',\n",
       "       'Ford Ecosport  ', 'Ford Endeavour  ', 'Ford FREESTYLE  ',\n",
       "       'Ford Figo  ', 'Ford Figo Aspire ', 'Ford New Figo ',\n",
       "       'Honda Amaze  ', 'Honda BR...\n",
       "       'Volkswagen Jetta  ', 'Volkswagen Polo  ', 'Volkswagen Vento  '],\n",
       "      dtype=object),\n",
       "                                                                            array(['Audi', 'BMW', 'Datsun', 'Ford', 'Honda', 'Hyundai', 'Jaguar',\n",
       "       'Jeep', 'KIA', 'MG', 'Mahindra', 'Maruti', 'Mercedes', 'Nissan',\n",
       "       'Renault', 'Skoda', 'Tata', 'Toyota', 'Volkswagen'], dtype=object),\n",
       "                                                                            array(['Diesel', 'Petrol', 'Petrol + CNG', 'Petrol + LPG'], dtype=object)]),\n",
       "                                                  ['name', 'company',\n",
       "                                                   'fuel_type'])])),\n",
       "                ('linearregression', LinearRegression())])"
      ]
     },
     "execution_count": 21,
     "metadata": {},
     "output_type": "execute_result"
    }
   ],
   "source": [
    "pipe.fit(X_train,y_train)"
   ]
  },
  {
   "cell_type": "code",
   "execution_count": 22,
   "id": "2c711cc1",
   "metadata": {},
   "outputs": [],
   "source": [
    "y_pred=pipe.predict(X_test)"
   ]
  },
  {
   "cell_type": "code",
   "execution_count": 23,
   "id": "49aac35c",
   "metadata": {},
   "outputs": [
    {
     "data": {
      "text/plain": [
       "0.8620019595606174"
      ]
     },
     "execution_count": 23,
     "metadata": {},
     "output_type": "execute_result"
    }
   ],
   "source": [
    "r2_score(y_test,y_pred)"
   ]
  },
  {
   "cell_type": "code",
   "execution_count": 24,
   "id": "5ec64c57",
   "metadata": {},
   "outputs": [],
   "source": [
    "scores=[]\n",
    "for i in range(1000):\n",
    "    X_train,X_test,y_train,y_test=train_test_split(X,y,test_size=0.1,random_state=i)\n",
    "    lr=LinearRegression()\n",
    "    pipe=make_pipeline(column_trans,lr)\n",
    "    pipe.fit(X_train,y_train)\n",
    "    y_pred=pipe.predict(X_test)\n",
    "    scores.append(r2_score(y_test,y_pred))"
   ]
  },
  {
   "cell_type": "code",
   "execution_count": 25,
   "id": "857b5f9a",
   "metadata": {},
   "outputs": [
    {
     "data": {
      "text/plain": [
       "240"
      ]
     },
     "execution_count": 25,
     "metadata": {},
     "output_type": "execute_result"
    }
   ],
   "source": [
    "np.argmax(scores)"
   ]
  },
  {
   "cell_type": "code",
   "execution_count": 26,
   "id": "11a63634",
   "metadata": {},
   "outputs": [
    {
     "data": {
      "text/plain": [
       "0.9306442285476542"
      ]
     },
     "execution_count": 26,
     "metadata": {},
     "output_type": "execute_result"
    }
   ],
   "source": [
    "scores[np.argmax(scores)]"
   ]
  },
  {
   "cell_type": "code",
   "execution_count": 27,
   "id": "84039960",
   "metadata": {},
   "outputs": [
    {
     "data": {
      "text/plain": [
       "0.9306442285476542"
      ]
     },
     "execution_count": 27,
     "metadata": {},
     "output_type": "execute_result"
    }
   ],
   "source": [
    "X_train,X_test,y_train,y_test=train_test_split(X,y,test_size=0.1,random_state=np.argmax(scores))\n",
    "lr=LinearRegression()\n",
    "pipe=make_pipeline(column_trans,lr)\n",
    "pipe.fit(X_train,y_train)\n",
    "y_pred=pipe.predict(X_test)\n",
    "r2_score(y_test,y_pred)"
   ]
  },
  {
   "cell_type": "code",
   "execution_count": 28,
   "id": "ccfed13c",
   "metadata": {},
   "outputs": [],
   "source": [
    "import pickle"
   ]
  },
  {
   "cell_type": "code",
   "execution_count": 29,
   "id": "e8cc8d20",
   "metadata": {},
   "outputs": [],
   "source": [
    "pickle.dump(pipe,open('LinearRegressionModel.pkl','wb'))"
   ]
  },
  {
   "cell_type": "code",
   "execution_count": null,
   "id": "6d2ac386",
   "metadata": {},
   "outputs": [],
   "source": []
  }
 ],
 "metadata": {
  "kernelspec": {
   "display_name": "Python 3 (ipykernel)",
   "language": "python",
   "name": "python3"
  },
  "language_info": {
   "codemirror_mode": {
    "name": "ipython",
    "version": 3
   },
   "file_extension": ".py",
   "mimetype": "text/x-python",
   "name": "python",
   "nbconvert_exporter": "python",
   "pygments_lexer": "ipython3",
   "version": "3.9.7"
  }
 },
 "nbformat": 4,
 "nbformat_minor": 5
}
